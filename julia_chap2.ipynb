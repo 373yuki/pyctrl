{
 "cells": [
  {
   "cell_type": "markdown",
   "metadata": {
    "toc-hr-collapsed": false
   },
   "source": [
    "# Chapter2"
   ]
  },
  {
   "cell_type": "markdown",
   "metadata": {},
   "source": [
    "## コメント"
   ]
  },
  {
   "cell_type": "code",
   "execution_count": 1,
   "metadata": {},
   "outputs": [
    {
     "name": "stdout",
     "output_type": "stream",
     "text": [
      "1"
     ]
    }
   ],
   "source": [
    "# コメントです \n",
    "print(1) # 1を表示"
   ]
  },
  {
   "cell_type": "code",
   "execution_count": 2,
   "metadata": {},
   "outputs": [],
   "source": [
    "#===\n",
    "\n",
    "複数行のコメント\n",
    "こめんと\n",
    "こめんと\n",
    "\n",
    "===#"
   ]
  },
  {
   "cell_type": "code",
   "execution_count": 3,
   "metadata": {},
   "outputs": [
    {
     "data": {
      "text/plain": [
       "1"
      ]
     },
     "execution_count": 3,
     "metadata": {},
     "output_type": "execute_result"
    }
   ],
   "source": [
    "x = 1"
   ]
  },
  {
   "cell_type": "code",
   "execution_count": 4,
   "metadata": {},
   "outputs": [],
   "source": [
    "x = 1; # セミコロンをつけると結果が表示されない"
   ]
  },
  {
   "cell_type": "markdown",
   "metadata": {
    "tags": []
   },
   "source": [
    "## Print文"
   ]
  },
  {
   "cell_type": "code",
   "execution_count": 5,
   "metadata": {},
   "outputs": [
    {
     "name": "stdout",
     "output_type": "stream",
     "text": [
      "1"
     ]
    }
   ],
   "source": [
    "print(x)"
   ]
  },
  {
   "cell_type": "code",
   "execution_count": 6,
   "metadata": {},
   "outputs": [
    {
     "name": "stdout",
     "output_type": "stream",
     "text": [
      "Control"
     ]
    }
   ],
   "source": [
    "print(\"Control\")"
   ]
  },
  {
   "cell_type": "code",
   "execution_count": 7,
   "metadata": {},
   "outputs": [
    {
     "name": "stdout",
     "output_type": "stream",
     "text": [
      "制御工学"
     ]
    }
   ],
   "source": [
    "print(\"制御\") # 改行なし\n",
    "print(\"工学\")"
   ]
  },
  {
   "cell_type": "code",
   "execution_count": 8,
   "metadata": {},
   "outputs": [
    {
     "name": "stdout",
     "output_type": "stream",
     "text": [
      "制御\n",
      "工学"
     ]
    }
   ],
   "source": [
    "println(\"制御\") # 改行する場合\n",
    "print(\"工学\")"
   ]
  },
  {
   "cell_type": "code",
   "execution_count": 9,
   "metadata": {},
   "outputs": [
    {
     "name": "stdout",
     "output_type": "stream",
     "text": [
      "制御\n",
      "工学"
     ]
    }
   ],
   "source": [
    "print(\"制御\\n工学\")"
   ]
  },
  {
   "cell_type": "code",
   "execution_count": 10,
   "metadata": {},
   "outputs": [
    {
     "name": "stdout",
     "output_type": "stream",
     "text": [
      "制御工学"
     ]
    }
   ],
   "source": [
    "print(\"制御\", \"工学\")"
   ]
  },
  {
   "cell_type": "code",
   "execution_count": 11,
   "metadata": {},
   "outputs": [
    {
     "name": "stdout",
     "output_type": "stream",
     "text": [
      "10\n",
      "x = 10\n",
      "x = 10\n"
     ]
    }
   ],
   "source": [
    "x = 10\n",
    "println(x)\n",
    "println(\"x = \", x)\n",
    "println(\"x = $x\")"
   ]
  },
  {
   "cell_type": "markdown",
   "metadata": {
    "tags": []
   },
   "source": [
    "## Unicode"
   ]
  },
  {
   "cell_type": "markdown",
   "metadata": {},
   "source": [
    "変数にUnicodeが使える"
   ]
  },
  {
   "cell_type": "code",
   "execution_count": 12,
   "metadata": {},
   "outputs": [
    {
     "data": {
      "text/plain": [
       "6"
      ]
     },
     "execution_count": 12,
     "metadata": {},
     "output_type": "execute_result"
    }
   ],
   "source": [
    "制御 = 2\n",
    "3制御"
   ]
  },
  {
   "cell_type": "markdown",
   "metadata": {},
   "source": [
    "LaTeXコードが使える"
   ]
  },
  {
   "cell_type": "code",
   "execution_count": 13,
   "metadata": {},
   "outputs": [
    {
     "data": {
      "text/plain": [
       "π = 3.1415926535897..."
      ]
     },
     "execution_count": 13,
     "metadata": {},
     "output_type": "execute_result"
    }
   ],
   "source": [
    "π #\\pi"
   ]
  },
  {
   "cell_type": "code",
   "execution_count": 14,
   "metadata": {},
   "outputs": [
    {
     "data": {
      "text/plain": [
       "9.42477796076938"
      ]
     },
     "execution_count": 14,
     "metadata": {},
     "output_type": "execute_result"
    }
   ],
   "source": [
    "3π"
   ]
  },
  {
   "cell_type": "code",
   "execution_count": 15,
   "metadata": {},
   "outputs": [
    {
     "data": {
      "text/plain": [
       "ℯ = 2.7182818284590..."
      ]
     },
     "execution_count": 15,
     "metadata": {},
     "output_type": "execute_result"
    }
   ],
   "source": [
    "ℯ #\\euler"
   ]
  },
  {
   "cell_type": "code",
   "execution_count": 16,
   "metadata": {},
   "outputs": [
    {
     "data": {
      "text/plain": [
       "1"
      ]
     },
     "execution_count": 16,
     "metadata": {},
     "output_type": "execute_result"
    }
   ],
   "source": [
    "α = 1 # \\alpha"
   ]
  },
  {
   "cell_type": "code",
   "execution_count": 17,
   "metadata": {},
   "outputs": [
    {
     "data": {
      "text/plain": [
       "1"
      ]
     },
     "execution_count": 17,
     "metadata": {},
     "output_type": "execute_result"
    }
   ],
   "source": [
    "P₀ = 1 # P\\_0"
   ]
  },
  {
   "cell_type": "code",
   "execution_count": 18,
   "metadata": {},
   "outputs": [
    {
     "data": {
      "text/plain": [
       "10"
      ]
     },
     "execution_count": 18,
     "metadata": {},
     "output_type": "execute_result"
    }
   ],
   "source": [
    "Pₘ = 10"
   ]
  },
  {
   "cell_type": "code",
   "execution_count": 19,
   "metadata": {},
   "outputs": [
    {
     "data": {
      "text/plain": [
       "1"
      ]
     },
     "execution_count": 19,
     "metadata": {},
     "output_type": "execute_result"
    }
   ],
   "source": [
    "G⁰ = 1 # G\\^0"
   ]
  },
  {
   "cell_type": "markdown",
   "metadata": {},
   "source": [
    "## カウント"
   ]
  },
  {
   "cell_type": "code",
   "execution_count": 20,
   "metadata": {},
   "outputs": [
    {
     "data": {
      "text/plain": [
       "8"
      ]
     },
     "execution_count": 20,
     "metadata": {},
     "output_type": "execute_result"
    }
   ],
   "source": [
    "length(\"せいぎょこうがく\")"
   ]
  },
  {
   "cell_type": "code",
   "execution_count": 21,
   "metadata": {},
   "outputs": [
    {
     "data": {
      "text/plain": [
       "ℯ = 2.7182818284590..."
      ]
     },
     "execution_count": 21,
     "metadata": {},
     "output_type": "execute_result"
    }
   ],
   "source": [
    "ℯ #\\euler"
   ]
  },
  {
   "cell_type": "code",
   "execution_count": 22,
   "metadata": {},
   "outputs": [
    {
     "data": {
      "text/plain": [
       "1"
      ]
     },
     "execution_count": 22,
     "metadata": {},
     "output_type": "execute_result"
    }
   ],
   "source": [
    "α = 1 # \\alpha"
   ]
  },
  {
   "cell_type": "code",
   "execution_count": 23,
   "metadata": {},
   "outputs": [
    {
     "data": {
      "text/plain": [
       "1"
      ]
     },
     "execution_count": 23,
     "metadata": {},
     "output_type": "execute_result"
    }
   ],
   "source": [
    "P₀ = 1 # P\\_0"
   ]
  },
  {
   "cell_type": "code",
   "execution_count": 24,
   "metadata": {},
   "outputs": [
    {
     "data": {
      "text/plain": [
       "1"
      ]
     },
     "execution_count": 24,
     "metadata": {},
     "output_type": "execute_result"
    }
   ],
   "source": [
    "G⁰ = 1 # G\\^0"
   ]
  },
  {
   "cell_type": "markdown",
   "metadata": {
    "tags": []
   },
   "source": [
    "## 数値"
   ]
  },
  {
   "cell_type": "code",
   "execution_count": 25,
   "metadata": {},
   "outputs": [
    {
     "data": {
      "text/plain": [
       "Int64"
      ]
     },
     "execution_count": 25,
     "metadata": {},
     "output_type": "execute_result"
    }
   ],
   "source": [
    "typeof(1)"
   ]
  },
  {
   "cell_type": "code",
   "execution_count": 26,
   "metadata": {},
   "outputs": [
    {
     "data": {
      "text/plain": [
       "Float64"
      ]
     },
     "execution_count": 26,
     "metadata": {},
     "output_type": "execute_result"
    }
   ],
   "source": [
    "typeof(1.0)"
   ]
  },
  {
   "cell_type": "code",
   "execution_count": 27,
   "metadata": {},
   "outputs": [
    {
     "data": {
      "text/plain": [
       "2.0"
      ]
     },
     "execution_count": 27,
     "metadata": {},
     "output_type": "execute_result"
    }
   ],
   "source": [
    "2 * 1.0 "
   ]
  },
  {
   "cell_type": "code",
   "execution_count": 28,
   "metadata": {},
   "outputs": [
    {
     "data": {
      "text/plain": [
       "2.0"
      ]
     },
     "execution_count": 28,
     "metadata": {},
     "output_type": "execute_result"
    }
   ],
   "source": [
    "10 / 5"
   ]
  },
  {
   "cell_type": "code",
   "execution_count": 29,
   "metadata": {},
   "outputs": [
    {
     "data": {
      "text/plain": [
       "3"
      ]
     },
     "execution_count": 29,
     "metadata": {},
     "output_type": "execute_result"
    }
   ],
   "source": [
    "17 ÷ 5 # \\div"
   ]
  },
  {
   "cell_type": "code",
   "execution_count": 30,
   "metadata": {},
   "outputs": [
    {
     "data": {
      "text/plain": [
       "2"
      ]
     },
     "execution_count": 30,
     "metadata": {},
     "output_type": "execute_result"
    }
   ],
   "source": [
    "17 % 5"
   ]
  },
  {
   "cell_type": "code",
   "execution_count": 31,
   "metadata": {},
   "outputs": [
    {
     "data": {
      "text/plain": [
       "15//4"
      ]
     },
     "execution_count": 31,
     "metadata": {},
     "output_type": "execute_result"
    }
   ],
   "source": [
    "15 // 4"
   ]
  },
  {
   "cell_type": "code",
   "execution_count": 32,
   "metadata": {},
   "outputs": [
    {
     "data": {
      "text/plain": [
       "2"
      ]
     },
     "execution_count": 32,
     "metadata": {},
     "output_type": "execute_result"
    }
   ],
   "source": [
    "x = 1\n",
    "x += 1\n",
    "# x = x + 1"
   ]
  },
  {
   "cell_type": "code",
   "execution_count": 33,
   "metadata": {},
   "outputs": [
    {
     "data": {
      "text/plain": [
       "6"
      ]
     },
     "execution_count": 33,
     "metadata": {},
     "output_type": "execute_result"
    }
   ],
   "source": [
    "x = 2\n",
    "x *= 3"
   ]
  },
  {
   "cell_type": "code",
   "execution_count": 34,
   "metadata": {},
   "outputs": [
    {
     "data": {
      "text/plain": [
       "243"
      ]
     },
     "execution_count": 34,
     "metadata": {},
     "output_type": "execute_result"
    }
   ],
   "source": [
    "3^5"
   ]
  },
  {
   "cell_type": "code",
   "execution_count": 35,
   "metadata": {},
   "outputs": [
    {
     "data": {
      "text/plain": [
       "0.030000000000000006"
      ]
     },
     "execution_count": 35,
     "metadata": {},
     "output_type": "execute_result"
    }
   ],
   "source": [
    "3*10^-2"
   ]
  },
  {
   "cell_type": "code",
   "execution_count": 36,
   "metadata": {},
   "outputs": [
    {
     "data": {
      "text/plain": [
       "0.03"
      ]
     },
     "execution_count": 36,
     "metadata": {},
     "output_type": "execute_result"
    }
   ],
   "source": [
    "3e-2"
   ]
  },
  {
   "cell_type": "code",
   "execution_count": 37,
   "metadata": {},
   "outputs": [
    {
     "data": {
      "text/plain": [
       "300.0"
      ]
     },
     "execution_count": 37,
     "metadata": {},
     "output_type": "execute_result"
    }
   ],
   "source": [
    "3e2"
   ]
  },
  {
   "cell_type": "markdown",
   "metadata": {},
   "source": [
    "演算子の省略"
   ]
  },
  {
   "cell_type": "code",
   "execution_count": 38,
   "metadata": {},
   "outputs": [
    {
     "data": {
      "text/plain": [
       "2"
      ]
     },
     "execution_count": 38,
     "metadata": {},
     "output_type": "execute_result"
    }
   ],
   "source": [
    "x = 1\n",
    "2x"
   ]
  },
  {
   "cell_type": "code",
   "execution_count": 39,
   "metadata": {},
   "outputs": [
    {
     "data": {
      "text/plain": [
       "6"
      ]
     },
     "execution_count": 39,
     "metadata": {},
     "output_type": "execute_result"
    }
   ],
   "source": [
    "2(x+2)"
   ]
  },
  {
   "cell_type": "markdown",
   "metadata": {},
   "source": [
    "## 変数"
   ]
  },
  {
   "cell_type": "code",
   "execution_count": 40,
   "metadata": {},
   "outputs": [
    {
     "name": "stdout",
     "output_type": "stream",
     "text": [
      "1\n",
      "Int64\n"
     ]
    }
   ],
   "source": [
    "x = 1\n",
    "println(x)\n",
    "println(typeof(x))"
   ]
  },
  {
   "cell_type": "code",
   "execution_count": 41,
   "metadata": {},
   "outputs": [
    {
     "name": "stdout",
     "output_type": "stream",
     "text": [
      "1.0\n",
      "Float64\n"
     ]
    }
   ],
   "source": [
    "y = 1.0\n",
    "println(y)\n",
    "println(typeof(y))"
   ]
  },
  {
   "cell_type": "code",
   "execution_count": 42,
   "metadata": {},
   "outputs": [
    {
     "name": "stdout",
     "output_type": "stream",
     "text": [
      "1 + 2im\n",
      "Complex{Int64}\n"
     ]
    }
   ],
   "source": [
    "z = 1 + 2im\n",
    "println(z)\n",
    "println(typeof(z))"
   ]
  },
  {
   "cell_type": "code",
   "execution_count": 43,
   "metadata": {},
   "outputs": [
    {
     "name": "stdout",
     "output_type": "stream",
     "text": [
      "Control\n",
      "String\n"
     ]
    }
   ],
   "source": [
    "msg = \"Control\"\n",
    "println(msg)\n",
    "println(typeof(msg))"
   ]
  },
  {
   "cell_type": "code",
   "execution_count": 44,
   "metadata": {},
   "outputs": [
    {
     "name": "stdout",
     "output_type": "stream",
     "text": [
      "C\n",
      "Char\n"
     ]
    }
   ],
   "source": [
    "chr = 'C'\n",
    "println(chr)\n",
    "println(typeof(chr))"
   ]
  },
  {
   "cell_type": "code",
   "execution_count": 45,
   "metadata": {},
   "outputs": [
    {
     "name": "stdout",
     "output_type": "stream",
     "text": [
      "true\n",
      "Bool\n"
     ]
    }
   ],
   "source": [
    "ok = true\n",
    "println(ok)\n",
    "println(typeof(ok))"
   ]
  },
  {
   "cell_type": "code",
   "execution_count": 46,
   "metadata": {},
   "outputs": [
    {
     "data": {
      "text/plain": [
       "Nothing"
      ]
     },
     "execution_count": 46,
     "metadata": {},
     "output_type": "execute_result"
    }
   ],
   "source": [
    "# nothing\n",
    "typeof(nothing)"
   ]
  },
  {
   "cell_type": "code",
   "execution_count": 47,
   "metadata": {},
   "outputs": [
    {
     "data": {
      "text/plain": [
       "Missing"
      ]
     },
     "execution_count": 47,
     "metadata": {},
     "output_type": "execute_result"
    }
   ],
   "source": [
    "# missing\n",
    "typeof(missing)"
   ]
  },
  {
   "cell_type": "markdown",
   "metadata": {},
   "source": [
    "### 型変換"
   ]
  },
  {
   "cell_type": "code",
   "execution_count": 48,
   "metadata": {},
   "outputs": [
    {
     "name": "stdout",
     "output_type": "stream",
     "text": [
      "1\n",
      "Int64\n"
     ]
    }
   ],
   "source": [
    "z = convert(Int, y)\n",
    "println(z)\n",
    "println(typeof(z))"
   ]
  },
  {
   "cell_type": "code",
   "execution_count": 49,
   "metadata": {},
   "outputs": [
    {
     "name": "stdout",
     "output_type": "stream",
     "text": [
      "1\n",
      "String\n"
     ]
    }
   ],
   "source": [
    "word = string(x)\n",
    "println(word)\n",
    "println(typeof(word))"
   ]
  },
  {
   "cell_type": "code",
   "execution_count": 50,
   "metadata": {},
   "outputs": [
    {
     "data": {
      "text/plain": [
       "2"
      ]
     },
     "execution_count": 50,
     "metadata": {},
     "output_type": "execute_result"
    }
   ],
   "source": [
    "x = 1\n",
    "2x"
   ]
  },
  {
   "cell_type": "code",
   "execution_count": 51,
   "metadata": {},
   "outputs": [
    {
     "data": {
      "text/plain": [
       "6"
      ]
     },
     "execution_count": 51,
     "metadata": {},
     "output_type": "execute_result"
    }
   ],
   "source": [
    "2(x+2)"
   ]
  },
  {
   "cell_type": "markdown",
   "metadata": {},
   "source": [
    "## リスト"
   ]
  },
  {
   "cell_type": "code",
   "execution_count": 52,
   "metadata": {},
   "outputs": [
    {
     "data": {
      "text/plain": [
       "6-element Vector{Int64}:\n",
       " 3\n",
       " 5\n",
       " 2\n",
       " 4\n",
       " 6\n",
       " 1"
      ]
     },
     "execution_count": 52,
     "metadata": {},
     "output_type": "execute_result"
    }
   ],
   "source": [
    "data1 = [3, 5, 2, 4, 6, 1]"
   ]
  },
  {
   "cell_type": "code",
   "execution_count": 53,
   "metadata": {},
   "outputs": [
    {
     "name": "stdout",
     "output_type": "stream",
     "text": [
      "Vector{Int64}\n",
      "Int64\n"
     ]
    }
   ],
   "source": [
    "println(typeof(data1))\n",
    "println(eltype(data1))"
   ]
  },
  {
   "cell_type": "code",
   "execution_count": 54,
   "metadata": {},
   "outputs": [
    {
     "data": {
      "text/plain": [
       "2-element Vector{Vector{Int64}}:\n",
       " [3, 5, 2]\n",
       " [4, 6, 1]"
      ]
     },
     "execution_count": 54,
     "metadata": {},
     "output_type": "execute_result"
    }
   ],
   "source": [
    "data2 = [ [3, 5, 2], [4, 6, 1] ]\n",
    "data2"
   ]
  },
  {
   "cell_type": "code",
   "execution_count": 55,
   "metadata": {},
   "outputs": [
    {
     "data": {
      "text/plain": [
       "3"
      ]
     },
     "execution_count": 55,
     "metadata": {},
     "output_type": "execute_result"
    }
   ],
   "source": [
    "data1[1]"
   ]
  },
  {
   "cell_type": "markdown",
   "metadata": {},
   "source": [
    "### スライス"
   ]
  },
  {
   "cell_type": "code",
   "execution_count": 56,
   "metadata": {},
   "outputs": [
    {
     "data": {
      "text/plain": [
       "2-element Vector{Int64}:\n",
       " 3\n",
       " 5"
      ]
     },
     "execution_count": 56,
     "metadata": {},
     "output_type": "execute_result"
    }
   ],
   "source": [
    "data1[1:2]"
   ]
  },
  {
   "cell_type": "code",
   "execution_count": 57,
   "metadata": {},
   "outputs": [
    {
     "data": {
      "text/plain": [
       "2-element Vector{Int64}:\n",
       " 2\n",
       " 4"
      ]
     },
     "execution_count": 57,
     "metadata": {},
     "output_type": "execute_result"
    }
   ],
   "source": [
    "data1[3:4]"
   ]
  },
  {
   "cell_type": "code",
   "execution_count": 58,
   "metadata": {},
   "outputs": [
    {
     "data": {
      "text/plain": [
       "4-element Vector{Int64}:\n",
       " 2\n",
       " 4\n",
       " 6\n",
       " 1"
      ]
     },
     "execution_count": 58,
     "metadata": {},
     "output_type": "execute_result"
    }
   ],
   "source": [
    "data1[3:end]"
   ]
  },
  {
   "cell_type": "markdown",
   "metadata": {},
   "source": [
    "### リスト用の関数"
   ]
  },
  {
   "cell_type": "code",
   "execution_count": 59,
   "metadata": {},
   "outputs": [
    {
     "data": {
      "text/plain": [
       "7-element Vector{Int64}:\n",
       " 1\n",
       " 3\n",
       " 5\n",
       " 2\n",
       " 4\n",
       " 6\n",
       " 1"
      ]
     },
     "execution_count": 59,
     "metadata": {},
     "output_type": "execute_result"
    }
   ],
   "source": [
    "data2 = [3, 5, 2, 4, 6, 1] \n",
    "\n",
    "# 先頭に要素を追加\n",
    "pushfirst!(data2, 1)"
   ]
  },
  {
   "cell_type": "code",
   "execution_count": 60,
   "metadata": {},
   "outputs": [
    {
     "data": {
      "text/plain": [
       "1"
      ]
     },
     "execution_count": 60,
     "metadata": {},
     "output_type": "execute_result"
    }
   ],
   "source": [
    "# 先頭の要素を取り出す\n",
    "popfirst!(data2)"
   ]
  },
  {
   "cell_type": "code",
   "execution_count": 61,
   "metadata": {},
   "outputs": [
    {
     "data": {
      "text/plain": [
       "7-element Vector{Int64}:\n",
       "  3\n",
       "  5\n",
       "  2\n",
       "  4\n",
       "  6\n",
       "  1\n",
       " 10"
      ]
     },
     "execution_count": 61,
     "metadata": {},
     "output_type": "execute_result"
    }
   ],
   "source": [
    "# 末尾に要素を追加\n",
    "push!(data2, 10)"
   ]
  },
  {
   "cell_type": "code",
   "execution_count": 62,
   "metadata": {},
   "outputs": [
    {
     "data": {
      "text/plain": [
       "10"
      ]
     },
     "execution_count": 62,
     "metadata": {},
     "output_type": "execute_result"
    }
   ],
   "source": [
    "# 末尾の要素を取り出す\n",
    "pop!(data2)"
   ]
  },
  {
   "cell_type": "code",
   "execution_count": 63,
   "metadata": {},
   "outputs": [
    {
     "data": {
      "text/plain": [
       "7-element Vector{Int64}:\n",
       "  3\n",
       " 20\n",
       "  5\n",
       "  2\n",
       "  4\n",
       "  6\n",
       "  1"
      ]
     },
     "execution_count": 63,
     "metadata": {},
     "output_type": "execute_result"
    }
   ],
   "source": [
    "# i番目に要素を挿入する\n",
    "insert!(data2, 2, 20)"
   ]
  },
  {
   "cell_type": "code",
   "execution_count": 64,
   "metadata": {},
   "outputs": [
    {
     "data": {
      "text/plain": [
       "6-element Vector{Int64}:\n",
       " 3\n",
       " 5\n",
       " 2\n",
       " 4\n",
       " 6\n",
       " 1"
      ]
     },
     "execution_count": 64,
     "metadata": {},
     "output_type": "execute_result"
    }
   ],
   "source": [
    "# i番目の要素を削除\n",
    "deleteat!(data2, 2)"
   ]
  },
  {
   "cell_type": "markdown",
   "metadata": {},
   "source": [
    "## タプル"
   ]
  },
  {
   "cell_type": "code",
   "execution_count": 65,
   "metadata": {},
   "outputs": [
    {
     "name": "stdout",
     "output_type": "stream",
     "text": [
      "(1, 2, 3, 4)\n",
      "NTuple{4, Int64}\n"
     ]
    }
   ],
   "source": [
    "tuple = (1,2,3,4) \n",
    "println(tuple)\n",
    "println(typeof(tuple))"
   ]
  },
  {
   "cell_type": "code",
   "execution_count": 66,
   "metadata": {},
   "outputs": [
    {
     "ename": "LoadError",
     "evalue": "MethodError: no method matching setindex!(::NTuple{4, Int64}, ::Int64, ::Int64)",
     "output_type": "error",
     "traceback": [
      "MethodError: no method matching setindex!(::NTuple{4, Int64}, ::Int64, ::Int64)",
      "",
      "Stacktrace:",
      " [1] top-level scope",
      "   @ In[66]:2",
      " [2] eval",
      "   @ ./boot.jl:373 [inlined]",
      " [3] include_string(mapexpr::typeof(REPL.softscope), mod::Module, code::String, filename::String)",
      "   @ Base ./loading.jl:1196"
     ]
    }
   ],
   "source": [
    "# 書き換え不可\n",
    "tuple[1] = 5"
   ]
  },
  {
   "cell_type": "code",
   "execution_count": 67,
   "metadata": {},
   "outputs": [
    {
     "data": {
      "text/plain": [
       "4-element Vector{Int64}:\n",
       " 5\n",
       " 2\n",
       " 3\n",
       " 4"
      ]
     },
     "execution_count": 67,
     "metadata": {},
     "output_type": "execute_result"
    }
   ],
   "source": [
    "data = [1, 2, 3, 4]\n",
    "data[1] = 5 #リストは書き換えができる\n",
    "data"
   ]
  },
  {
   "cell_type": "code",
   "execution_count": 68,
   "metadata": {},
   "outputs": [
    {
     "name": "stdout",
     "output_type": "stream",
     "text": [
      "(linestyle = \"-.\", color = \"k\")\n",
      "NamedTuple{(:linestyle, :color), Tuple{String, String}}\n"
     ]
    }
   ],
   "source": [
    "d = ( linestyle = \"-.\", color=\"k\") \n",
    "println(d)\n",
    "println(typeof(d))"
   ]
  },
  {
   "cell_type": "code",
   "execution_count": 69,
   "metadata": {},
   "outputs": [
    {
     "data": {
      "text/plain": [
       "\"-.\""
      ]
     },
     "execution_count": 69,
     "metadata": {},
     "output_type": "execute_result"
    }
   ],
   "source": [
    "d.linestyle"
   ]
  },
  {
   "cell_type": "code",
   "execution_count": 70,
   "metadata": {},
   "outputs": [
    {
     "data": {
      "text/plain": [
       "\"k\""
      ]
     },
     "execution_count": 70,
     "metadata": {},
     "output_type": "execute_result"
    }
   ],
   "source": [
    "d.color"
   ]
  },
  {
   "cell_type": "markdown",
   "metadata": {},
   "source": [
    "## 辞書"
   ]
  },
  {
   "cell_type": "code",
   "execution_count": 71,
   "metadata": {},
   "outputs": [],
   "source": [
    "dic = Dict();"
   ]
  },
  {
   "cell_type": "code",
   "execution_count": 72,
   "metadata": {},
   "outputs": [],
   "source": [
    "dic[\"linestyle\"] = \"-.\";\n",
    "dic[\"color\"] = \"k\";"
   ]
  },
  {
   "cell_type": "code",
   "execution_count": 73,
   "metadata": {},
   "outputs": [
    {
     "data": {
      "text/plain": [
       "\"k\""
      ]
     },
     "execution_count": 73,
     "metadata": {},
     "output_type": "execute_result"
    }
   ],
   "source": [
    "dic[\"color\"]"
   ]
  },
  {
   "cell_type": "code",
   "execution_count": 74,
   "metadata": {},
   "outputs": [
    {
     "data": {
      "text/plain": [
       "\"k\""
      ]
     },
     "execution_count": 74,
     "metadata": {},
     "output_type": "execute_result"
    }
   ],
   "source": [
    "dic2 = Dict( \"linestyle\" => \"-.\", \"color\" => \"k\" );\n",
    "dic2[\"color\"]"
   ]
  },
  {
   "cell_type": "markdown",
   "metadata": {},
   "source": [
    "## if文"
   ]
  },
  {
   "cell_type": "code",
   "execution_count": 75,
   "metadata": {},
   "outputs": [
    {
     "name": "stdout",
     "output_type": "stream",
     "text": [
      "x is positive"
     ]
    }
   ],
   "source": [
    "x = 1\n",
    "\n",
    "if x < 0\n",
    "    print(\"x is negative\")\n",
    "elseif x == 0\n",
    "    print(\"x is zero\")\n",
    "else\n",
    "    print(\"x is positive\")\n",
    "end"
   ]
  },
  {
   "cell_type": "code",
   "execution_count": 76,
   "metadata": {},
   "outputs": [
    {
     "name": "stdout",
     "output_type": "stream",
     "text": [
      "x and y are negative"
     ]
    }
   ],
   "source": [
    "x ,y = -1, -1\n",
    "\n",
    "if x < 0 && y < 0\n",
    "    print(\"x and y are negative\")\n",
    "end"
   ]
  },
  {
   "cell_type": "code",
   "execution_count": 77,
   "metadata": {},
   "outputs": [
    {
     "name": "stdout",
     "output_type": "stream",
     "text": [
      "x or y is negative"
     ]
    }
   ],
   "source": [
    "x, y = 1, -1\n",
    "\n",
    "if x < 0 || y < 0\n",
    "    print(\"x or y is negative\")\n",
    "end"
   ]
  },
  {
   "cell_type": "code",
   "execution_count": 78,
   "metadata": {},
   "outputs": [
    {
     "name": "stdout",
     "output_type": "stream",
     "text": [
      "x is in y\n",
      "x is in y\n"
     ]
    }
   ],
   "source": [
    "x = 2\n",
    "y = [1, 2, 3] \n",
    "\n",
    "if x in y\n",
    "    println(\"x is in y\")\n",
    "end\n",
    "\n",
    "if x ∈ y #\\in\n",
    "    println(\"x is in y\")\n",
    "end"
   ]
  },
  {
   "cell_type": "code",
   "execution_count": 79,
   "metadata": {},
   "outputs": [
    {
     "name": "stdout",
     "output_type": "stream",
     "text": [
      "x is not in y"
     ]
    }
   ],
   "source": [
    "x = 0\n",
    "y = [1, 2, 3] \n",
    "\n",
    "if x ∉ y #\\notin\n",
    "    print(\"x is not in y\")\n",
    "end"
   ]
  },
  {
   "cell_type": "markdown",
   "metadata": {},
   "source": [
    "### 3項演算子\n",
    "条件 a が真(true)なら b を、偽なら c を値とする"
   ]
  },
  {
   "cell_type": "code",
   "execution_count": 80,
   "metadata": {},
   "outputs": [
    {
     "data": {
      "text/plain": [
       "\"x≤2\""
      ]
     },
     "execution_count": 80,
     "metadata": {},
     "output_type": "execute_result"
    }
   ],
   "source": [
    "x = 1\n",
    "\n",
    "x > 2 ? \"x>2\" : \"x≤2\""
   ]
  },
  {
   "cell_type": "markdown",
   "metadata": {},
   "source": [
    "## for文"
   ]
  },
  {
   "cell_type": "code",
   "execution_count": 81,
   "metadata": {},
   "outputs": [
    {
     "name": "stdout",
     "output_type": "stream",
     "text": [
      "0\n",
      "1\n",
      "2\n"
     ]
    }
   ],
   "source": [
    "for x in [0, 1, 2]\n",
    "    println(x)\n",
    "end"
   ]
  },
  {
   "cell_type": "code",
   "execution_count": 82,
   "metadata": {},
   "outputs": [
    {
     "name": "stdout",
     "output_type": "stream",
     "text": [
      "0\n",
      "1\n",
      "2\n"
     ]
    }
   ],
   "source": [
    "for x=0:1:2\n",
    "    println(x)\n",
    "end"
   ]
  },
  {
   "cell_type": "code",
   "execution_count": 83,
   "metadata": {},
   "outputs": [
    {
     "name": "stdout",
     "output_type": "stream",
     "text": [
      "1:a\n",
      "2:b\n",
      "3:c\n"
     ]
    }
   ],
   "source": [
    "for (i, word) in enumerate([\"a\", \"b\", \"c\"])\n",
    "    println(i, \":\",  word)\n",
    "end"
   ]
  },
  {
   "cell_type": "markdown",
   "metadata": {},
   "source": [
    "## 練習問題"
   ]
  },
  {
   "cell_type": "code",
   "execution_count": 84,
   "metadata": {},
   "outputs": [
    {
     "name": "stdout",
     "output_type": "stream",
     "text": [
      "0\n",
      "julia\n",
      "1\n",
      "julia\n",
      "2\n",
      "julia\n"
     ]
    }
   ],
   "source": [
    "# プログラム1\n",
    "for x=0:1:2\n",
    "    println(x) \n",
    "    println(\"julia\")\n",
    "end"
   ]
  },
  {
   "cell_type": "code",
   "execution_count": 85,
   "metadata": {},
   "outputs": [
    {
     "name": "stdout",
     "output_type": "stream",
     "text": [
      "0\n",
      "1\n",
      "2\n"
     ]
    }
   ],
   "source": [
    "# プログラム2\n",
    "for x=0:1:2\n",
    "    println(x) \n",
    "    continue\n",
    "    println(\"julia\")\n",
    "end"
   ]
  },
  {
   "cell_type": "markdown",
   "metadata": {},
   "source": [
    "## 関数定義"
   ]
  },
  {
   "cell_type": "code",
   "execution_count": 86,
   "metadata": {},
   "outputs": [
    {
     "data": {
      "text/plain": [
       "say_hello (generic function with 1 method)"
      ]
     },
     "execution_count": 86,
     "metadata": {},
     "output_type": "execute_result"
    }
   ],
   "source": [
    "function say_hello()\n",
    "    println(\"こんにちは\")\n",
    "end"
   ]
  },
  {
   "cell_type": "code",
   "execution_count": 87,
   "metadata": {},
   "outputs": [
    {
     "name": "stdout",
     "output_type": "stream",
     "text": [
      "こんにちは\n"
     ]
    }
   ],
   "source": [
    "say_hello()"
   ]
  },
  {
   "cell_type": "code",
   "execution_count": 88,
   "metadata": {},
   "outputs": [
    {
     "data": {
      "text/plain": [
       "subject (generic function with 1 method)"
      ]
     },
     "execution_count": 88,
     "metadata": {},
     "output_type": "execute_result"
    }
   ],
   "source": [
    "function subject(name)\n",
    "    println(name * \"工学\")\n",
    "end"
   ]
  },
  {
   "cell_type": "code",
   "execution_count": 89,
   "metadata": {},
   "outputs": [
    {
     "name": "stdout",
     "output_type": "stream",
     "text": [
      "制御工学\n"
     ]
    }
   ],
   "source": [
    "subject(\"制御\")"
   ]
  },
  {
   "cell_type": "code",
   "execution_count": 90,
   "metadata": {},
   "outputs": [
    {
     "data": {
      "text/plain": [
       "add (generic function with 1 method)"
      ]
     },
     "execution_count": 90,
     "metadata": {},
     "output_type": "execute_result"
    }
   ],
   "source": [
    "function add(a, b)\n",
    "    c = a + b\n",
    "    return c\n",
    "end"
   ]
  },
  {
   "cell_type": "code",
   "execution_count": 91,
   "metadata": {},
   "outputs": [
    {
     "name": "stdout",
     "output_type": "stream",
     "text": [
      "8"
     ]
    }
   ],
   "source": [
    "result = add(3, 5)\n",
    "print(result)"
   ]
  },
  {
   "cell_type": "code",
   "execution_count": 92,
   "metadata": {},
   "outputs": [
    {
     "data": {
      "text/plain": [
       "add2 (generic function with 1 method)"
      ]
     },
     "execution_count": 92,
     "metadata": {},
     "output_type": "execute_result"
    }
   ],
   "source": [
    "add2(a, b) = a + b"
   ]
  },
  {
   "cell_type": "code",
   "execution_count": 93,
   "metadata": {},
   "outputs": [
    {
     "data": {
      "text/plain": [
       "8"
      ]
     },
     "execution_count": 93,
     "metadata": {},
     "output_type": "execute_result"
    }
   ],
   "source": [
    "add2(3, 5)"
   ]
  },
  {
   "cell_type": "code",
   "execution_count": 94,
   "metadata": {},
   "outputs": [
    {
     "data": {
      "text/plain": [
       "test (generic function with 2 methods)"
      ]
     },
     "execution_count": 94,
     "metadata": {},
     "output_type": "execute_result"
    }
   ],
   "source": [
    "# 引数の型で関数の中身を変えることができる\n",
    "test(x::Int64) = \"せいすう\"\n",
    "test(x::Float64) = \"しょうすう\""
   ]
  },
  {
   "cell_type": "code",
   "execution_count": 95,
   "metadata": {},
   "outputs": [
    {
     "data": {
      "text/plain": [
       "\"せいすう\""
      ]
     },
     "execution_count": 95,
     "metadata": {},
     "output_type": "execute_result"
    }
   ],
   "source": [
    "test(2)"
   ]
  },
  {
   "cell_type": "code",
   "execution_count": 96,
   "metadata": {},
   "outputs": [
    {
     "data": {
      "text/plain": [
       "\"しょうすう\""
      ]
     },
     "execution_count": 96,
     "metadata": {},
     "output_type": "execute_result"
    }
   ],
   "source": [
    "test(2.0)"
   ]
  },
  {
   "cell_type": "markdown",
   "metadata": {},
   "source": [
    "## クロージャ"
   ]
  },
  {
   "cell_type": "code",
   "execution_count": 97,
   "metadata": {},
   "outputs": [
    {
     "data": {
      "text/plain": [
       "outer (generic function with 1 method)"
      ]
     },
     "execution_count": 97,
     "metadata": {},
     "output_type": "execute_result"
    }
   ],
   "source": [
    "function outer(a, b)\n",
    "    function inner(c)\n",
    "        return c * (a + b) \n",
    "    end\n",
    "    return inner\n",
    "end"
   ]
  },
  {
   "cell_type": "code",
   "execution_count": 98,
   "metadata": {},
   "outputs": [
    {
     "name": "stdout",
     "output_type": "stream",
     "text": [
      "9\n"
     ]
    }
   ],
   "source": [
    "f = outer(1, 2) \n",
    "r = f(3) \n",
    "println(r)"
   ]
  },
  {
   "cell_type": "code",
   "execution_count": 99,
   "metadata": {},
   "outputs": [
    {
     "name": "stdout",
     "output_type": "stream",
     "text": [
      "21\n"
     ]
    }
   ],
   "source": [
    "f2 = outer(3, 4)\n",
    "r2 = f2(3)\n",
    "println(r2)"
   ]
  },
  {
   "cell_type": "markdown",
   "metadata": {},
   "source": [
    "## 無名関数"
   ]
  },
  {
   "cell_type": "code",
   "execution_count": 100,
   "metadata": {},
   "outputs": [
    {
     "data": {
      "text/plain": [
       "14"
      ]
     },
     "execution_count": 100,
     "metadata": {},
     "output_type": "execute_result"
    }
   ],
   "source": [
    "c = (a, b) -> 2*a + 3*b\n",
    "c(1, 4)"
   ]
  },
  {
   "cell_type": "code",
   "execution_count": 101,
   "metadata": {},
   "outputs": [
    {
     "data": {
      "text/plain": [
       "3-element Vector{Int64}:\n",
       " 1\n",
       " 4\n",
       " 0"
      ]
     },
     "execution_count": 101,
     "metadata": {},
     "output_type": "execute_result"
    }
   ],
   "source": [
    "map(x -> x^2 + 2x + 1, [0, 1 ,-1])"
   ]
  },
  {
   "cell_type": "code",
   "execution_count": 102,
   "metadata": {},
   "outputs": [
    {
     "name": "stdout",
     "output_type": "stream",
     "text": [
      "[32, 31, 30, 29, 28]\n"
     ]
    }
   ],
   "source": [
    "data1 = [1, 2, 3, 4, 5]\n",
    "data2 = [10, 9, 8, 7, 6]\n",
    "result = map( (a, b) -> 2*a + 3*b, data1, data2)\n",
    "println(result)"
   ]
  },
  {
   "cell_type": "markdown",
   "metadata": {},
   "source": [
    "## ジェネレータ"
   ]
  },
  {
   "cell_type": "code",
   "execution_count": 103,
   "metadata": {},
   "outputs": [
    {
     "data": {
      "text/plain": [
       "linestyle_generator (generic function with 1 method)"
      ]
     },
     "execution_count": 103,
     "metadata": {},
     "output_type": "execute_result"
    }
   ],
   "source": [
    "function linestyle_generator(lineID)\n",
    "    linestyle = [\"-\", \"--\", \"-.\", \":\"] \n",
    "    lineID = (lineID-1) % (length(linestyle)) + 1\n",
    "    return linestyle[lineID]\n",
    "end"
   ]
  },
  {
   "cell_type": "code",
   "execution_count": 104,
   "metadata": {},
   "outputs": [
    {
     "name": "stdout",
     "output_type": "stream",
     "text": [
      "-\n",
      "--\n",
      "-.\n",
      ":\n",
      "-\n"
     ]
    }
   ],
   "source": [
    "LS = (linestyle_generator(i) for i=1:1:5)\n",
    "for i in LS\n",
    "    println(i)\n",
    "end"
   ]
  },
  {
   "cell_type": "markdown",
   "metadata": {},
   "source": [
    "## リスト内包表記"
   ]
  },
  {
   "cell_type": "code",
   "execution_count": 105,
   "metadata": {},
   "outputs": [
    {
     "name": "stdout",
     "output_type": "stream",
     "text": [
      "[1, 2, 3, 4, 5]"
     ]
    }
   ],
   "source": [
    "t = (1, 2, 3, 4, 5) \n",
    "r1 = [i for i in t] \n",
    "print(r1)"
   ]
  },
  {
   "cell_type": "code",
   "execution_count": 106,
   "metadata": {},
   "outputs": [
    {
     "name": "stdout",
     "output_type": "stream",
     "text": [
      "[2, 4]"
     ]
    }
   ],
   "source": [
    "r2 = [i for i in t if i % 2 == 0] \n",
    "print(r2)"
   ]
  },
  {
   "cell_type": "markdown",
   "metadata": {},
   "source": [
    "## 練習問題"
   ]
  },
  {
   "cell_type": "code",
   "execution_count": 107,
   "metadata": {},
   "outputs": [
    {
     "name": "stdout",
     "output_type": "stream",
     "text": [
      "35.70714214271425\n",
      "35.70714214271425\n",
      "35.70714214271425"
     ]
    }
   ],
   "source": [
    "# for文を使って足し合わせる \n",
    "\n",
    "s=0\n",
    "for x = 1:1:50\n",
    "    s += x\n",
    "end\n",
    "println(sqrt(s))\n",
    "\n",
    "# sumを使う\n",
    "s = sum(1:1:50) \n",
    "println(sqrt(s))\n",
    "\n",
    "# generator式を使う\n",
    "s = sum(x for x = 1:1:50) \n",
    "print(sqrt(s))"
   ]
  },
  {
   "cell_type": "markdown",
   "metadata": {},
   "source": [
    "## ライブラリ"
   ]
  },
  {
   "cell_type": "code",
   "execution_count": 108,
   "metadata": {},
   "outputs": [],
   "source": [
    "using LinearAlgebra"
   ]
  },
  {
   "cell_type": "code",
   "execution_count": 109,
   "metadata": {},
   "outputs": [
    {
     "data": {
      "text/plain": [
       "2×2 Matrix{Int64}:\n",
       "  1  2\n",
       " -3  4"
      ]
     },
     "execution_count": 109,
     "metadata": {},
     "output_type": "execute_result"
    }
   ],
   "source": [
    "A = [ 1 2 ; -3 4 ]"
   ]
  },
  {
   "cell_type": "code",
   "execution_count": 110,
   "metadata": {},
   "outputs": [
    {
     "data": {
      "text/plain": [
       "2×2 adjoint(::Matrix{Int64}) with eltype Int64:\n",
       " 1  -3\n",
       " 2   4"
      ]
     },
     "execution_count": 110,
     "metadata": {},
     "output_type": "execute_result"
    }
   ],
   "source": [
    "A'"
   ]
  },
  {
   "cell_type": "code",
   "execution_count": 111,
   "metadata": {},
   "outputs": [
    {
     "data": {
      "text/plain": [
       "2×2 Matrix{Float64}:\n",
       " 0.4  -0.2\n",
       " 0.3   0.1"
      ]
     },
     "execution_count": 111,
     "metadata": {},
     "output_type": "execute_result"
    }
   ],
   "source": [
    "inv(A)"
   ]
  },
  {
   "cell_type": "code",
   "execution_count": 112,
   "metadata": {},
   "outputs": [
    {
     "data": {
      "text/plain": [
       "UniformScaling{Bool}\n",
       "true*I"
      ]
     },
     "execution_count": 112,
     "metadata": {},
     "output_type": "execute_result"
    }
   ],
   "source": [
    "I"
   ]
  },
  {
   "cell_type": "code",
   "execution_count": 113,
   "metadata": {},
   "outputs": [
    {
     "data": {
      "text/plain": [
       "2×2 Matrix{Int64}:\n",
       "  1  2\n",
       " -3  4"
      ]
     },
     "execution_count": 113,
     "metadata": {},
     "output_type": "execute_result"
    }
   ],
   "source": [
    "A*I"
   ]
  },
  {
   "cell_type": "code",
   "execution_count": 114,
   "metadata": {},
   "outputs": [
    {
     "data": {
      "text/plain": [
       "2×2 Matrix{Float64}:\n",
       " 1.0  2.77556e-17\n",
       " 0.0  1.0"
      ]
     },
     "execution_count": 114,
     "metadata": {},
     "output_type": "execute_result"
    }
   ],
   "source": [
    "A*inv(A)"
   ]
  },
  {
   "cell_type": "code",
   "execution_count": 115,
   "metadata": {},
   "outputs": [
    {
     "data": {
      "text/plain": [
       "2×2 Matrix{Float64}:\n",
       " 1.0  -0.0\n",
       " 0.0   1.0"
      ]
     },
     "execution_count": 115,
     "metadata": {},
     "output_type": "execute_result"
    }
   ],
   "source": [
    "A/A"
   ]
  },
  {
   "cell_type": "code",
   "execution_count": 116,
   "metadata": {},
   "outputs": [
    {
     "data": {
      "text/plain": [
       "2×2 Diagonal{Int64, Vector{Int64}}:\n",
       " 1  ⋅\n",
       " ⋅  4"
      ]
     },
     "execution_count": 116,
     "metadata": {},
     "output_type": "execute_result"
    }
   ],
   "source": [
    "Diagonal(A)"
   ]
  },
  {
   "cell_type": "code",
   "execution_count": 117,
   "metadata": {},
   "outputs": [
    {
     "data": {
      "text/plain": [
       "10.0"
      ]
     },
     "execution_count": 117,
     "metadata": {},
     "output_type": "execute_result"
    }
   ],
   "source": [
    "det(A)"
   ]
  },
  {
   "cell_type": "code",
   "execution_count": 118,
   "metadata": {},
   "outputs": [
    {
     "data": {
      "text/plain": [
       "2"
      ]
     },
     "execution_count": 118,
     "metadata": {},
     "output_type": "execute_result"
    }
   ],
   "source": [
    "rank(A)"
   ]
  },
  {
   "cell_type": "code",
   "execution_count": 119,
   "metadata": {},
   "outputs": [
    {
     "data": {
      "text/plain": [
       "2×1 adjoint(::Matrix{Int64}) with eltype Int64:\n",
       " 1\n",
       " 2"
      ]
     },
     "execution_count": 119,
     "metadata": {},
     "output_type": "execute_result"
    }
   ],
   "source": [
    "x = [1 2]'"
   ]
  },
  {
   "cell_type": "code",
   "execution_count": 120,
   "metadata": {},
   "outputs": [
    {
     "data": {
      "text/plain": [
       "2.23606797749979"
      ]
     },
     "execution_count": 120,
     "metadata": {},
     "output_type": "execute_result"
    }
   ],
   "source": [
    "norm(x)"
   ]
  },
  {
   "cell_type": "code",
   "execution_count": 121,
   "metadata": {},
   "outputs": [
    {
     "data": {
      "text/plain": [
       "2.0"
      ]
     },
     "execution_count": 121,
     "metadata": {},
     "output_type": "execute_result"
    }
   ],
   "source": [
    "norm(x, Inf)"
   ]
  },
  {
   "cell_type": "code",
   "execution_count": 122,
   "metadata": {},
   "outputs": [
    {
     "data": {
      "text/plain": [
       "3.0"
      ]
     },
     "execution_count": 122,
     "metadata": {},
     "output_type": "execute_result"
    }
   ],
   "source": [
    "norm(x, 1)"
   ]
  },
  {
   "cell_type": "code",
   "execution_count": 123,
   "metadata": {},
   "outputs": [
    {
     "name": "stdout",
     "output_type": "stream",
     "text": [
      "ComplexF64[2.5 - 1.9364916731037083im, 2.5 + 1.9364916731037083im]\n",
      "ComplexF64[0.38729833462074165 + 0.5im 0.38729833462074165 - 0.5im; 0.7745966692414835 - 0.0im 0.7745966692414835 + 0.0im]\n"
     ]
    }
   ],
   "source": [
    "w, v = eigen(A)\n",
    "println(w)\n",
    "println(v)"
   ]
  },
  {
   "cell_type": "markdown",
   "metadata": {},
   "source": [
    "### Plots"
   ]
  },
  {
   "cell_type": "code",
   "execution_count": 124,
   "metadata": {},
   "outputs": [
    {
     "data": {
      "text/plain": [
       "Plots.GRBackend()"
      ]
     },
     "execution_count": 124,
     "metadata": {},
     "output_type": "execute_result"
    }
   ],
   "source": [
    "using Plots\n",
    "gr()"
   ]
  },
  {
   "cell_type": "code",
   "execution_count": 125,
   "metadata": {},
   "outputs": [
    {
     "data": {
      "image/svg+xml": [
       "<?xml version=\"1.0\" encoding=\"utf-8\"?>\n",
       "<svg xmlns=\"http://www.w3.org/2000/svg\" xmlns:xlink=\"http://www.w3.org/1999/xlink\" width=\"300\" height=\"230\" viewBox=\"0 0 1200 920\">\n",
       "<defs>\n",
       "  <clipPath id=\"clip470\">\n",
       "    <rect x=\"0\" y=\"0\" width=\"1200\" height=\"920\"/>\n",
       "  </clipPath>\n",
       "</defs>\n",
       "<path clip-path=\"url(#clip470)\" d=\"\n",
       "M0 920 L1200 920 L1200 -1.13687e-13 L0 -1.13687e-13  Z\n",
       "  \" fill=\"#ffffff\" fill-rule=\"evenodd\" fill-opacity=\"1\"/>\n",
       "<defs>\n",
       "  <clipPath id=\"clip471\">\n",
       "    <rect x=\"240\" y=\"0\" width=\"841\" height=\"841\"/>\n",
       "  </clipPath>\n",
       "</defs>\n",
       "<path clip-path=\"url(#clip470)\" d=\"\n",
       "M282.494 737.668 L1152.76 737.668 L1152.76 47.2441 L282.494 47.2441  Z\n",
       "  \" fill=\"#ffffff\" fill-rule=\"evenodd\" fill-opacity=\"1\"/>\n",
       "<defs>\n",
       "  <clipPath id=\"clip472\">\n",
       "    <rect x=\"282\" y=\"47\" width=\"871\" height=\"691\"/>\n",
       "  </clipPath>\n",
       "</defs>\n",
       "<polyline clip-path=\"url(#clip472)\" style=\"stroke:#000000; stroke-linecap:butt; stroke-linejoin:round; stroke-width:2; stroke-opacity:0.1; fill:none\" points=\"\n",
       "  307.124,737.668 307.124,47.2441 \n",
       "  \"/>\n",
       "<polyline clip-path=\"url(#clip472)\" style=\"stroke:#000000; stroke-linecap:butt; stroke-linejoin:round; stroke-width:2; stroke-opacity:0.1; fill:none\" points=\"\n",
       "  438.484,737.668 438.484,47.2441 \n",
       "  \"/>\n",
       "<polyline clip-path=\"url(#clip472)\" style=\"stroke:#000000; stroke-linecap:butt; stroke-linejoin:round; stroke-width:2; stroke-opacity:0.1; fill:none\" points=\"\n",
       "  569.845,737.668 569.845,47.2441 \n",
       "  \"/>\n",
       "<polyline clip-path=\"url(#clip472)\" style=\"stroke:#000000; stroke-linecap:butt; stroke-linejoin:round; stroke-width:2; stroke-opacity:0.1; fill:none\" points=\"\n",
       "  701.205,737.668 701.205,47.2441 \n",
       "  \"/>\n",
       "<polyline clip-path=\"url(#clip472)\" style=\"stroke:#000000; stroke-linecap:butt; stroke-linejoin:round; stroke-width:2; stroke-opacity:0.1; fill:none\" points=\"\n",
       "  832.565,737.668 832.565,47.2441 \n",
       "  \"/>\n",
       "<polyline clip-path=\"url(#clip472)\" style=\"stroke:#000000; stroke-linecap:butt; stroke-linejoin:round; stroke-width:2; stroke-opacity:0.1; fill:none\" points=\"\n",
       "  963.925,737.668 963.925,47.2441 \n",
       "  \"/>\n",
       "<polyline clip-path=\"url(#clip472)\" style=\"stroke:#000000; stroke-linecap:butt; stroke-linejoin:round; stroke-width:2; stroke-opacity:0.1; fill:none\" points=\"\n",
       "  1095.29,737.668 1095.29,47.2441 \n",
       "  \"/>\n",
       "<polyline clip-path=\"url(#clip470)\" style=\"stroke:#000000; stroke-linecap:butt; stroke-linejoin:round; stroke-width:4; stroke-opacity:1; fill:none\" points=\"\n",
       "  282.494,737.668 1152.76,737.668 \n",
       "  \"/>\n",
       "<polyline clip-path=\"url(#clip470)\" style=\"stroke:#000000; stroke-linecap:butt; stroke-linejoin:round; stroke-width:4; stroke-opacity:1; fill:none\" points=\"\n",
       "  307.124,737.668 307.124,718.77 \n",
       "  \"/>\n",
       "<polyline clip-path=\"url(#clip470)\" style=\"stroke:#000000; stroke-linecap:butt; stroke-linejoin:round; stroke-width:4; stroke-opacity:1; fill:none\" points=\"\n",
       "  438.484,737.668 438.484,718.77 \n",
       "  \"/>\n",
       "<polyline clip-path=\"url(#clip470)\" style=\"stroke:#000000; stroke-linecap:butt; stroke-linejoin:round; stroke-width:4; stroke-opacity:1; fill:none\" points=\"\n",
       "  569.845,737.668 569.845,718.77 \n",
       "  \"/>\n",
       "<polyline clip-path=\"url(#clip470)\" style=\"stroke:#000000; stroke-linecap:butt; stroke-linejoin:round; stroke-width:4; stroke-opacity:1; fill:none\" points=\"\n",
       "  701.205,737.668 701.205,718.77 \n",
       "  \"/>\n",
       "<polyline clip-path=\"url(#clip470)\" style=\"stroke:#000000; stroke-linecap:butt; stroke-linejoin:round; stroke-width:4; stroke-opacity:1; fill:none\" points=\"\n",
       "  832.565,737.668 832.565,718.77 \n",
       "  \"/>\n",
       "<polyline clip-path=\"url(#clip470)\" style=\"stroke:#000000; stroke-linecap:butt; stroke-linejoin:round; stroke-width:4; stroke-opacity:1; fill:none\" points=\"\n",
       "  963.925,737.668 963.925,718.77 \n",
       "  \"/>\n",
       "<polyline clip-path=\"url(#clip470)\" style=\"stroke:#000000; stroke-linecap:butt; stroke-linejoin:round; stroke-width:4; stroke-opacity:1; fill:none\" points=\"\n",
       "  1095.29,737.668 1095.29,718.77 \n",
       "  \"/>\n",
       "<path clip-path=\"url(#clip470)\" d=\"M307.124 758.987 Q303.513 758.987 301.684 762.551 Q299.879 766.093 299.879 773.223 Q299.879 780.329 301.684 783.894 Q303.513 787.435 307.124 787.435 Q310.758 787.435 312.564 783.894 Q314.392 780.329 314.392 773.223 Q314.392 766.093 312.564 762.551 Q310.758 758.987 307.124 758.987 M307.124 755.283 Q312.934 755.283 315.99 759.889 Q319.068 764.473 319.068 773.223 Q319.068 781.949 315.99 786.556 Q312.934 791.139 307.124 791.139 Q301.314 791.139 298.235 786.556 Q295.18 781.949 295.18 773.223 Q295.18 764.473 298.235 759.889 Q301.314 755.283 307.124 755.283 Z\" fill=\"#000000\" fill-rule=\"evenodd\" fill-opacity=\"1\" /><path clip-path=\"url(#clip470)\" d=\"M433.137 786.533 L449.456 786.533 L449.456 790.468 L427.512 790.468 L427.512 786.533 Q430.174 783.778 434.757 779.148 Q439.364 774.496 440.544 773.153 Q442.79 770.63 443.669 768.894 Q444.572 767.135 444.572 765.445 Q444.572 762.69 442.628 760.954 Q440.706 759.218 437.605 759.218 Q435.406 759.218 432.952 759.982 Q430.521 760.746 427.744 762.297 L427.744 757.575 Q430.568 756.44 433.021 755.862 Q435.475 755.283 437.512 755.283 Q442.882 755.283 446.077 757.968 Q449.271 760.653 449.271 765.144 Q449.271 767.274 448.461 769.195 Q447.674 771.093 445.568 773.686 Q444.989 774.357 441.887 777.574 Q438.785 780.769 433.137 786.533 Z\" fill=\"#000000\" fill-rule=\"evenodd\" fill-opacity=\"1\" /><path clip-path=\"url(#clip470)\" d=\"M572.854 759.982 L561.048 778.431 L572.854 778.431 L572.854 759.982 M571.627 755.908 L577.507 755.908 L577.507 778.431 L582.437 778.431 L582.437 782.32 L577.507 782.32 L577.507 790.468 L572.854 790.468 L572.854 782.32 L557.252 782.32 L557.252 777.806 L571.627 755.908 Z\" fill=\"#000000\" fill-rule=\"evenodd\" fill-opacity=\"1\" /><path clip-path=\"url(#clip470)\" d=\"M701.61 771.324 Q698.462 771.324 696.61 773.477 Q694.781 775.63 694.781 779.38 Q694.781 783.107 696.61 785.283 Q698.462 787.435 701.61 787.435 Q704.758 787.435 706.587 785.283 Q708.439 783.107 708.439 779.38 Q708.439 775.63 706.587 773.477 Q704.758 771.324 701.61 771.324 M710.892 756.672 L710.892 760.931 Q709.133 760.098 707.328 759.658 Q705.545 759.218 703.786 759.218 Q699.156 759.218 696.703 762.343 Q694.272 765.468 693.925 771.787 Q695.291 769.774 697.351 768.709 Q699.411 767.621 701.888 767.621 Q707.096 767.621 710.105 770.792 Q713.138 773.94 713.138 779.38 Q713.138 784.704 709.99 787.922 Q706.841 791.139 701.61 791.139 Q695.615 791.139 692.443 786.556 Q689.272 781.949 689.272 773.223 Q689.272 765.028 693.161 760.167 Q697.05 755.283 703.601 755.283 Q705.36 755.283 707.142 755.63 Q708.948 755.977 710.892 756.672 Z\" fill=\"#000000\" fill-rule=\"evenodd\" fill-opacity=\"1\" /><path clip-path=\"url(#clip470)\" d=\"M832.565 774.056 Q829.232 774.056 827.311 775.838 Q825.412 777.621 825.412 780.746 Q825.412 783.871 827.311 785.653 Q829.232 787.435 832.565 787.435 Q835.898 787.435 837.82 785.653 Q839.741 783.848 839.741 780.746 Q839.741 777.621 837.82 775.838 Q835.922 774.056 832.565 774.056 M827.889 772.065 Q824.88 771.324 823.19 769.264 Q821.524 767.204 821.524 764.241 Q821.524 760.098 824.463 757.69 Q827.426 755.283 832.565 755.283 Q837.727 755.283 840.667 757.69 Q843.607 760.098 843.607 764.241 Q843.607 767.204 841.917 769.264 Q840.25 771.324 837.264 772.065 Q840.644 772.852 842.519 775.144 Q844.417 777.436 844.417 780.746 Q844.417 785.769 841.338 788.454 Q838.283 791.139 832.565 791.139 Q826.848 791.139 823.769 788.454 Q820.713 785.769 820.713 780.746 Q820.713 777.436 822.612 775.144 Q824.51 772.852 827.889 772.065 M826.176 764.681 Q826.176 767.366 827.843 768.871 Q829.533 770.375 832.565 770.375 Q835.574 770.375 837.264 768.871 Q838.977 767.366 838.977 764.681 Q838.977 761.996 837.264 760.491 Q835.574 758.987 832.565 758.987 Q829.533 758.987 827.843 760.491 Q826.176 761.996 826.176 764.681 Z\" fill=\"#000000\" fill-rule=\"evenodd\" fill-opacity=\"1\" /><path clip-path=\"url(#clip470)\" d=\"M938.613 786.533 L946.252 786.533 L946.252 760.167 L937.942 761.834 L937.942 757.575 L946.206 755.908 L950.882 755.908 L950.882 786.533 L958.52 786.533 L958.52 790.468 L938.613 790.468 L938.613 786.533 Z\" fill=\"#000000\" fill-rule=\"evenodd\" fill-opacity=\"1\" /><path clip-path=\"url(#clip470)\" d=\"M977.965 758.987 Q974.354 758.987 972.525 762.551 Q970.719 766.093 970.719 773.223 Q970.719 780.329 972.525 783.894 Q974.354 787.435 977.965 787.435 Q981.599 787.435 983.405 783.894 Q985.233 780.329 985.233 773.223 Q985.233 766.093 983.405 762.551 Q981.599 758.987 977.965 758.987 M977.965 755.283 Q983.775 755.283 986.83 759.889 Q989.909 764.473 989.909 773.223 Q989.909 781.949 986.83 786.556 Q983.775 791.139 977.965 791.139 Q972.155 791.139 969.076 786.556 Q966.02 781.949 966.02 773.223 Q966.02 764.473 969.076 759.889 Q972.155 755.283 977.965 755.283 Z\" fill=\"#000000\" fill-rule=\"evenodd\" fill-opacity=\"1\" /><path clip-path=\"url(#clip470)\" d=\"M1070.77 786.533 L1078.41 786.533 L1078.41 760.167 L1070.1 761.834 L1070.1 757.575 L1078.36 755.908 L1083.04 755.908 L1083.04 786.533 L1090.68 786.533 L1090.68 790.468 L1070.77 790.468 L1070.77 786.533 Z\" fill=\"#000000\" fill-rule=\"evenodd\" fill-opacity=\"1\" /><path clip-path=\"url(#clip470)\" d=\"M1104.15 786.533 L1120.47 786.533 L1120.47 790.468 L1098.53 790.468 L1098.53 786.533 Q1101.19 783.778 1105.77 779.148 Q1110.38 774.496 1111.56 773.153 Q1113.8 770.63 1114.68 768.894 Q1115.59 767.135 1115.59 765.445 Q1115.59 762.69 1113.64 760.954 Q1111.72 759.218 1108.62 759.218 Q1106.42 759.218 1103.97 759.982 Q1101.54 760.746 1098.76 762.297 L1098.76 757.575 Q1101.58 756.44 1104.04 755.862 Q1106.49 755.283 1108.53 755.283 Q1113.9 755.283 1117.09 757.968 Q1120.29 760.653 1120.29 765.144 Q1120.29 767.274 1119.48 769.195 Q1118.69 771.093 1116.58 773.686 Q1116 774.357 1112.9 777.574 Q1109.8 780.769 1104.15 786.533 Z\" fill=\"#000000\" fill-rule=\"evenodd\" fill-opacity=\"1\" /><path clip-path=\"url(#clip470)\" d=\"M734.239 828.884 L721.349 846.23 L734.908 864.532 L728.001 864.532 L717.625 850.527 L707.249 864.532 L700.342 864.532 L714.187 845.88 L701.52 828.884 L708.426 828.884 L717.88 841.583 L727.333 828.884 L734.239 828.884 Z\" fill=\"#000000\" fill-rule=\"evenodd\" fill-opacity=\"1\" /><polyline clip-path=\"url(#clip472)\" style=\"stroke:#000000; stroke-linecap:butt; stroke-linejoin:round; stroke-width:2; stroke-opacity:0.1; fill:none\" points=\"\n",
       "  282.494,718.131 1152.76,718.131 \n",
       "  \"/>\n",
       "<polyline clip-path=\"url(#clip472)\" style=\"stroke:#000000; stroke-linecap:butt; stroke-linejoin:round; stroke-width:2; stroke-opacity:0.1; fill:none\" points=\"\n",
       "  282.494,636.695 1152.76,636.695 \n",
       "  \"/>\n",
       "<polyline clip-path=\"url(#clip472)\" style=\"stroke:#000000; stroke-linecap:butt; stroke-linejoin:round; stroke-width:2; stroke-opacity:0.1; fill:none\" points=\"\n",
       "  282.494,555.259 1152.76,555.259 \n",
       "  \"/>\n",
       "<polyline clip-path=\"url(#clip472)\" style=\"stroke:#000000; stroke-linecap:butt; stroke-linejoin:round; stroke-width:2; stroke-opacity:0.1; fill:none\" points=\"\n",
       "  282.494,473.824 1152.76,473.824 \n",
       "  \"/>\n",
       "<polyline clip-path=\"url(#clip472)\" style=\"stroke:#000000; stroke-linecap:butt; stroke-linejoin:round; stroke-width:2; stroke-opacity:0.1; fill:none\" points=\"\n",
       "  282.494,392.388 1152.76,392.388 \n",
       "  \"/>\n",
       "<polyline clip-path=\"url(#clip472)\" style=\"stroke:#000000; stroke-linecap:butt; stroke-linejoin:round; stroke-width:2; stroke-opacity:0.1; fill:none\" points=\"\n",
       "  282.494,310.952 1152.76,310.952 \n",
       "  \"/>\n",
       "<polyline clip-path=\"url(#clip472)\" style=\"stroke:#000000; stroke-linecap:butt; stroke-linejoin:round; stroke-width:2; stroke-opacity:0.1; fill:none\" points=\"\n",
       "  282.494,229.517 1152.76,229.517 \n",
       "  \"/>\n",
       "<polyline clip-path=\"url(#clip472)\" style=\"stroke:#000000; stroke-linecap:butt; stroke-linejoin:round; stroke-width:2; stroke-opacity:0.1; fill:none\" points=\"\n",
       "  282.494,148.081 1152.76,148.081 \n",
       "  \"/>\n",
       "<polyline clip-path=\"url(#clip472)\" style=\"stroke:#000000; stroke-linecap:butt; stroke-linejoin:round; stroke-width:2; stroke-opacity:0.1; fill:none\" points=\"\n",
       "  282.494,66.6455 1152.76,66.6455 \n",
       "  \"/>\n",
       "<polyline clip-path=\"url(#clip470)\" style=\"stroke:#000000; stroke-linecap:butt; stroke-linejoin:round; stroke-width:4; stroke-opacity:1; fill:none\" points=\"\n",
       "  282.494,737.668 282.494,47.2441 \n",
       "  \"/>\n",
       "<polyline clip-path=\"url(#clip470)\" style=\"stroke:#000000; stroke-linecap:butt; stroke-linejoin:round; stroke-width:4; stroke-opacity:1; fill:none\" points=\"\n",
       "  282.494,718.131 301.392,718.131 \n",
       "  \"/>\n",
       "<polyline clip-path=\"url(#clip470)\" style=\"stroke:#000000; stroke-linecap:butt; stroke-linejoin:round; stroke-width:4; stroke-opacity:1; fill:none\" points=\"\n",
       "  282.494,636.695 301.392,636.695 \n",
       "  \"/>\n",
       "<polyline clip-path=\"url(#clip470)\" style=\"stroke:#000000; stroke-linecap:butt; stroke-linejoin:round; stroke-width:4; stroke-opacity:1; fill:none\" points=\"\n",
       "  282.494,555.259 301.392,555.259 \n",
       "  \"/>\n",
       "<polyline clip-path=\"url(#clip470)\" style=\"stroke:#000000; stroke-linecap:butt; stroke-linejoin:round; stroke-width:4; stroke-opacity:1; fill:none\" points=\"\n",
       "  282.494,473.824 301.392,473.824 \n",
       "  \"/>\n",
       "<polyline clip-path=\"url(#clip470)\" style=\"stroke:#000000; stroke-linecap:butt; stroke-linejoin:round; stroke-width:4; stroke-opacity:1; fill:none\" points=\"\n",
       "  282.494,392.388 301.392,392.388 \n",
       "  \"/>\n",
       "<polyline clip-path=\"url(#clip470)\" style=\"stroke:#000000; stroke-linecap:butt; stroke-linejoin:round; stroke-width:4; stroke-opacity:1; fill:none\" points=\"\n",
       "  282.494,310.952 301.392,310.952 \n",
       "  \"/>\n",
       "<polyline clip-path=\"url(#clip470)\" style=\"stroke:#000000; stroke-linecap:butt; stroke-linejoin:round; stroke-width:4; stroke-opacity:1; fill:none\" points=\"\n",
       "  282.494,229.517 301.392,229.517 \n",
       "  \"/>\n",
       "<polyline clip-path=\"url(#clip470)\" style=\"stroke:#000000; stroke-linecap:butt; stroke-linejoin:round; stroke-width:4; stroke-opacity:1; fill:none\" points=\"\n",
       "  282.494,148.081 301.392,148.081 \n",
       "  \"/>\n",
       "<polyline clip-path=\"url(#clip470)\" style=\"stroke:#000000; stroke-linecap:butt; stroke-linejoin:round; stroke-width:4; stroke-opacity:1; fill:none\" points=\"\n",
       "  282.494,66.6455 301.392,66.6455 \n",
       "  \"/>\n",
       "<path clip-path=\"url(#clip470)\" d=\"M127.388 718.582 L157.064 718.582 L157.064 722.517 L127.388 722.517 L127.388 718.582 Z\" fill=\"#000000\" fill-rule=\"evenodd\" fill-opacity=\"1\" /><path clip-path=\"url(#clip470)\" d=\"M167.967 731.476 L175.605 731.476 L175.605 705.11 L167.295 706.777 L167.295 702.517 L175.559 700.851 L180.235 700.851 L180.235 731.476 L187.874 731.476 L187.874 735.411 L167.967 735.411 L167.967 731.476 Z\" fill=\"#000000\" fill-rule=\"evenodd\" fill-opacity=\"1\" /><path clip-path=\"url(#clip470)\" d=\"M197.318 729.531 L202.203 729.531 L202.203 735.411 L197.318 735.411 L197.318 729.531 Z\" fill=\"#000000\" fill-rule=\"evenodd\" fill-opacity=\"1\" /><path clip-path=\"url(#clip470)\" d=\"M222.388 703.929 Q218.777 703.929 216.948 707.494 Q215.142 711.036 215.142 718.165 Q215.142 725.272 216.948 728.837 Q218.777 732.378 222.388 732.378 Q226.022 732.378 227.827 728.837 Q229.656 725.272 229.656 718.165 Q229.656 711.036 227.827 707.494 Q226.022 703.929 222.388 703.929 M222.388 700.226 Q228.198 700.226 231.253 704.832 Q234.332 709.416 234.332 718.165 Q234.332 726.892 231.253 731.499 Q228.198 736.082 222.388 736.082 Q216.577 736.082 213.499 731.499 Q210.443 726.892 210.443 718.165 Q210.443 709.416 213.499 704.832 Q216.577 700.226 222.388 700.226 Z\" fill=\"#000000\" fill-rule=\"evenodd\" fill-opacity=\"1\" /><path clip-path=\"url(#clip470)\" d=\"M252.55 703.929 Q248.938 703.929 247.11 707.494 Q245.304 711.036 245.304 718.165 Q245.304 725.272 247.11 728.837 Q248.938 732.378 252.55 732.378 Q256.184 732.378 257.989 728.837 Q259.818 725.272 259.818 718.165 Q259.818 711.036 257.989 707.494 Q256.184 703.929 252.55 703.929 M252.55 700.226 Q258.36 700.226 261.415 704.832 Q264.494 709.416 264.494 718.165 Q264.494 726.892 261.415 731.499 Q258.36 736.082 252.55 736.082 Q246.739 736.082 243.661 731.499 Q240.605 726.892 240.605 718.165 Q240.605 709.416 243.661 704.832 Q246.739 700.226 252.55 700.226 Z\" fill=\"#000000\" fill-rule=\"evenodd\" fill-opacity=\"1\" /><path clip-path=\"url(#clip470)\" d=\"M128.384 637.146 L158.059 637.146 L158.059 641.082 L128.384 641.082 L128.384 637.146 Z\" fill=\"#000000\" fill-rule=\"evenodd\" fill-opacity=\"1\" /><path clip-path=\"url(#clip470)\" d=\"M178.152 622.494 Q174.541 622.494 172.712 626.059 Q170.906 629.6 170.906 636.73 Q170.906 643.836 172.712 647.401 Q174.541 650.943 178.152 650.943 Q181.786 650.943 183.592 647.401 Q185.42 643.836 185.42 636.73 Q185.42 629.6 183.592 626.059 Q181.786 622.494 178.152 622.494 M178.152 618.79 Q183.962 618.79 187.017 623.397 Q190.096 627.98 190.096 636.73 Q190.096 645.457 187.017 650.063 Q183.962 654.646 178.152 654.646 Q172.342 654.646 169.263 650.063 Q166.207 645.457 166.207 636.73 Q166.207 627.98 169.263 623.397 Q172.342 618.79 178.152 618.79 Z\" fill=\"#000000\" fill-rule=\"evenodd\" fill-opacity=\"1\" /><path clip-path=\"url(#clip470)\" d=\"M198.314 648.095 L203.198 648.095 L203.198 653.975 L198.314 653.975 L198.314 648.095 Z\" fill=\"#000000\" fill-rule=\"evenodd\" fill-opacity=\"1\" /><path clip-path=\"url(#clip470)\" d=\"M212.203 619.415 L234.425 619.415 L234.425 621.406 L221.878 653.975 L216.994 653.975 L228.8 623.35 L212.203 623.35 L212.203 619.415 Z\" fill=\"#000000\" fill-rule=\"evenodd\" fill-opacity=\"1\" /><path clip-path=\"url(#clip470)\" d=\"M243.591 619.415 L261.948 619.415 L261.948 623.35 L247.874 623.35 L247.874 631.822 Q248.892 631.475 249.911 631.313 Q250.929 631.128 251.948 631.128 Q257.735 631.128 261.114 634.299 Q264.494 637.471 264.494 642.887 Q264.494 648.466 261.022 651.568 Q257.549 654.646 251.23 654.646 Q249.054 654.646 246.786 654.276 Q244.54 653.906 242.133 653.165 L242.133 648.466 Q244.216 649.6 246.438 650.156 Q248.661 650.711 251.137 650.711 Q255.142 650.711 257.48 648.605 Q259.818 646.498 259.818 642.887 Q259.818 639.276 257.48 637.17 Q255.142 635.063 251.137 635.063 Q249.263 635.063 247.388 635.48 Q245.536 635.896 243.591 636.776 L243.591 619.415 Z\" fill=\"#000000\" fill-rule=\"evenodd\" fill-opacity=\"1\" /><path clip-path=\"url(#clip470)\" d=\"M127.388 555.711 L157.064 555.711 L157.064 559.646 L127.388 559.646 L127.388 555.711 Z\" fill=\"#000000\" fill-rule=\"evenodd\" fill-opacity=\"1\" /><path clip-path=\"url(#clip470)\" d=\"M177.156 541.058 Q173.545 541.058 171.717 544.623 Q169.911 548.165 169.911 555.294 Q169.911 562.401 171.717 565.965 Q173.545 569.507 177.156 569.507 Q180.791 569.507 182.596 565.965 Q184.425 562.401 184.425 555.294 Q184.425 548.165 182.596 544.623 Q180.791 541.058 177.156 541.058 M177.156 537.354 Q182.967 537.354 186.022 541.961 Q189.101 546.544 189.101 555.294 Q189.101 564.021 186.022 568.627 Q182.967 573.211 177.156 573.211 Q171.346 573.211 168.268 568.627 Q165.212 564.021 165.212 555.294 Q165.212 546.544 168.268 541.961 Q171.346 537.354 177.156 537.354 Z\" fill=\"#000000\" fill-rule=\"evenodd\" fill-opacity=\"1\" /><path clip-path=\"url(#clip470)\" d=\"M197.318 566.66 L202.203 566.66 L202.203 572.539 L197.318 572.539 L197.318 566.66 Z\" fill=\"#000000\" fill-rule=\"evenodd\" fill-opacity=\"1\" /><path clip-path=\"url(#clip470)\" d=\"M212.434 537.979 L230.79 537.979 L230.79 541.915 L216.716 541.915 L216.716 550.387 Q217.735 550.04 218.753 549.878 Q219.772 549.692 220.79 549.692 Q226.577 549.692 229.957 552.864 Q233.337 556.035 233.337 561.452 Q233.337 567.03 229.864 570.132 Q226.392 573.211 220.073 573.211 Q217.897 573.211 215.628 572.84 Q213.383 572.47 210.976 571.729 L210.976 567.03 Q213.059 568.164 215.281 568.72 Q217.503 569.276 219.98 569.276 Q223.985 569.276 226.323 567.169 Q228.661 565.063 228.661 561.452 Q228.661 557.84 226.323 555.734 Q223.985 553.627 219.98 553.627 Q218.105 553.627 216.23 554.044 Q214.378 554.461 212.434 555.34 L212.434 537.979 Z\" fill=\"#000000\" fill-rule=\"evenodd\" fill-opacity=\"1\" /><path clip-path=\"url(#clip470)\" d=\"M252.55 541.058 Q248.938 541.058 247.11 544.623 Q245.304 548.165 245.304 555.294 Q245.304 562.401 247.11 565.965 Q248.938 569.507 252.55 569.507 Q256.184 569.507 257.989 565.965 Q259.818 562.401 259.818 555.294 Q259.818 548.165 257.989 544.623 Q256.184 541.058 252.55 541.058 M252.55 537.354 Q258.36 537.354 261.415 541.961 Q264.494 546.544 264.494 555.294 Q264.494 564.021 261.415 568.627 Q258.36 573.211 252.55 573.211 Q246.739 573.211 243.661 568.627 Q240.605 564.021 240.605 555.294 Q240.605 546.544 243.661 541.961 Q246.739 537.354 252.55 537.354 Z\" fill=\"#000000\" fill-rule=\"evenodd\" fill-opacity=\"1\" /><path clip-path=\"url(#clip470)\" d=\"M128.384 474.275 L158.059 474.275 L158.059 478.21 L128.384 478.21 L128.384 474.275 Z\" fill=\"#000000\" fill-rule=\"evenodd\" fill-opacity=\"1\" /><path clip-path=\"url(#clip470)\" d=\"M178.152 459.622 Q174.541 459.622 172.712 463.187 Q170.906 466.729 170.906 473.858 Q170.906 480.965 172.712 484.53 Q174.541 488.071 178.152 488.071 Q181.786 488.071 183.592 484.53 Q185.42 480.965 185.42 473.858 Q185.42 466.729 183.592 463.187 Q181.786 459.622 178.152 459.622 M178.152 455.919 Q183.962 455.919 187.017 460.525 Q190.096 465.109 190.096 473.858 Q190.096 482.585 187.017 487.192 Q183.962 491.775 178.152 491.775 Q172.342 491.775 169.263 487.192 Q166.207 482.585 166.207 473.858 Q166.207 465.109 169.263 460.525 Q172.342 455.919 178.152 455.919 Z\" fill=\"#000000\" fill-rule=\"evenodd\" fill-opacity=\"1\" /><path clip-path=\"url(#clip470)\" d=\"M198.314 485.224 L203.198 485.224 L203.198 491.104 L198.314 491.104 L198.314 485.224 Z\" fill=\"#000000\" fill-rule=\"evenodd\" fill-opacity=\"1\" /><path clip-path=\"url(#clip470)\" d=\"M217.411 487.169 L233.73 487.169 L233.73 491.104 L211.786 491.104 L211.786 487.169 Q214.448 484.414 219.031 479.784 Q223.638 475.132 224.818 473.789 Q227.064 471.266 227.943 469.53 Q228.846 467.771 228.846 466.081 Q228.846 463.326 226.902 461.59 Q224.98 459.854 221.878 459.854 Q219.679 459.854 217.226 460.618 Q214.795 461.382 212.017 462.933 L212.017 458.21 Q214.841 457.076 217.295 456.497 Q219.749 455.919 221.786 455.919 Q227.156 455.919 230.351 458.604 Q233.545 461.289 233.545 465.78 Q233.545 467.909 232.735 469.831 Q231.948 471.729 229.841 474.321 Q229.263 474.993 226.161 478.21 Q223.059 481.405 217.411 487.169 Z\" fill=\"#000000\" fill-rule=\"evenodd\" fill-opacity=\"1\" /><path clip-path=\"url(#clip470)\" d=\"M243.591 456.544 L261.948 456.544 L261.948 460.479 L247.874 460.479 L247.874 468.951 Q248.892 468.604 249.911 468.442 Q250.929 468.257 251.948 468.257 Q257.735 468.257 261.114 471.428 Q264.494 474.599 264.494 480.016 Q264.494 485.595 261.022 488.696 Q257.549 491.775 251.23 491.775 Q249.054 491.775 246.786 491.405 Q244.54 491.034 242.133 490.294 L242.133 485.595 Q244.216 486.729 246.438 487.284 Q248.661 487.84 251.137 487.84 Q255.142 487.84 257.48 485.733 Q259.818 483.627 259.818 480.016 Q259.818 476.405 257.48 474.298 Q255.142 472.192 251.137 472.192 Q249.263 472.192 247.388 472.609 Q245.536 473.025 243.591 473.905 L243.591 456.544 Z\" fill=\"#000000\" fill-rule=\"evenodd\" fill-opacity=\"1\" /><path clip-path=\"url(#clip470)\" d=\"M177.156 378.187 Q173.545 378.187 171.717 381.752 Q169.911 385.293 169.911 392.423 Q169.911 399.529 171.717 403.094 Q173.545 406.636 177.156 406.636 Q180.791 406.636 182.596 403.094 Q184.425 399.529 184.425 392.423 Q184.425 385.293 182.596 381.752 Q180.791 378.187 177.156 378.187 M177.156 374.483 Q182.967 374.483 186.022 379.09 Q189.101 383.673 189.101 392.423 Q189.101 401.15 186.022 405.756 Q182.967 410.339 177.156 410.339 Q171.346 410.339 168.268 405.756 Q165.212 401.15 165.212 392.423 Q165.212 383.673 168.268 379.09 Q171.346 374.483 177.156 374.483 Z\" fill=\"#000000\" fill-rule=\"evenodd\" fill-opacity=\"1\" /><path clip-path=\"url(#clip470)\" d=\"M197.318 403.789 L202.203 403.789 L202.203 409.668 L197.318 409.668 L197.318 403.789 Z\" fill=\"#000000\" fill-rule=\"evenodd\" fill-opacity=\"1\" /><path clip-path=\"url(#clip470)\" d=\"M222.388 378.187 Q218.777 378.187 216.948 381.752 Q215.142 385.293 215.142 392.423 Q215.142 399.529 216.948 403.094 Q218.777 406.636 222.388 406.636 Q226.022 406.636 227.827 403.094 Q229.656 399.529 229.656 392.423 Q229.656 385.293 227.827 381.752 Q226.022 378.187 222.388 378.187 M222.388 374.483 Q228.198 374.483 231.253 379.09 Q234.332 383.673 234.332 392.423 Q234.332 401.15 231.253 405.756 Q228.198 410.339 222.388 410.339 Q216.577 410.339 213.499 405.756 Q210.443 401.15 210.443 392.423 Q210.443 383.673 213.499 379.09 Q216.577 374.483 222.388 374.483 Z\" fill=\"#000000\" fill-rule=\"evenodd\" fill-opacity=\"1\" /><path clip-path=\"url(#clip470)\" d=\"M252.55 378.187 Q248.938 378.187 247.11 381.752 Q245.304 385.293 245.304 392.423 Q245.304 399.529 247.11 403.094 Q248.938 406.636 252.55 406.636 Q256.184 406.636 257.989 403.094 Q259.818 399.529 259.818 392.423 Q259.818 385.293 257.989 381.752 Q256.184 378.187 252.55 378.187 M252.55 374.483 Q258.36 374.483 261.415 379.09 Q264.494 383.673 264.494 392.423 Q264.494 401.15 261.415 405.756 Q258.36 410.339 252.55 410.339 Q246.739 410.339 243.661 405.756 Q240.605 401.15 240.605 392.423 Q240.605 383.673 243.661 379.09 Q246.739 374.483 252.55 374.483 Z\" fill=\"#000000\" fill-rule=\"evenodd\" fill-opacity=\"1\" /><path clip-path=\"url(#clip470)\" d=\"M178.152 296.751 Q174.541 296.751 172.712 300.316 Q170.906 303.858 170.906 310.987 Q170.906 318.094 172.712 321.658 Q174.541 325.2 178.152 325.2 Q181.786 325.2 183.592 321.658 Q185.42 318.094 185.42 310.987 Q185.42 303.858 183.592 300.316 Q181.786 296.751 178.152 296.751 M178.152 293.047 Q183.962 293.047 187.017 297.654 Q190.096 302.237 190.096 310.987 Q190.096 319.714 187.017 324.32 Q183.962 328.904 178.152 328.904 Q172.342 328.904 169.263 324.32 Q166.207 319.714 166.207 310.987 Q166.207 302.237 169.263 297.654 Q172.342 293.047 178.152 293.047 Z\" fill=\"#000000\" fill-rule=\"evenodd\" fill-opacity=\"1\" /><path clip-path=\"url(#clip470)\" d=\"M198.314 322.353 L203.198 322.353 L203.198 328.232 L198.314 328.232 L198.314 322.353 Z\" fill=\"#000000\" fill-rule=\"evenodd\" fill-opacity=\"1\" /><path clip-path=\"url(#clip470)\" d=\"M217.411 324.297 L233.73 324.297 L233.73 328.232 L211.786 328.232 L211.786 324.297 Q214.448 321.543 219.031 316.913 Q223.638 312.26 224.818 310.918 Q227.064 308.395 227.943 306.659 Q228.846 304.899 228.846 303.209 Q228.846 300.455 226.902 298.719 Q224.98 296.983 221.878 296.983 Q219.679 296.983 217.226 297.747 Q214.795 298.51 212.017 300.061 L212.017 295.339 Q214.841 294.205 217.295 293.626 Q219.749 293.047 221.786 293.047 Q227.156 293.047 230.351 295.733 Q233.545 298.418 233.545 302.909 Q233.545 305.038 232.735 306.959 Q231.948 308.858 229.841 311.45 Q229.263 312.121 226.161 315.339 Q223.059 318.533 217.411 324.297 Z\" fill=\"#000000\" fill-rule=\"evenodd\" fill-opacity=\"1\" /><path clip-path=\"url(#clip470)\" d=\"M243.591 293.672 L261.948 293.672 L261.948 297.608 L247.874 297.608 L247.874 306.08 Q248.892 305.733 249.911 305.571 Q250.929 305.385 251.948 305.385 Q257.735 305.385 261.114 308.557 Q264.494 311.728 264.494 317.145 Q264.494 322.723 261.022 325.825 Q257.549 328.904 251.23 328.904 Q249.054 328.904 246.786 328.533 Q244.54 328.163 242.133 327.422 L242.133 322.723 Q244.216 323.857 246.438 324.413 Q248.661 324.969 251.137 324.969 Q255.142 324.969 257.48 322.862 Q259.818 320.756 259.818 317.145 Q259.818 313.533 257.48 311.427 Q255.142 309.321 251.137 309.321 Q249.263 309.321 247.388 309.737 Q245.536 310.154 243.591 311.033 L243.591 293.672 Z\" fill=\"#000000\" fill-rule=\"evenodd\" fill-opacity=\"1\" /><path clip-path=\"url(#clip470)\" d=\"M177.156 215.315 Q173.545 215.315 171.717 218.88 Q169.911 222.422 169.911 229.552 Q169.911 236.658 171.717 240.223 Q173.545 243.764 177.156 243.764 Q180.791 243.764 182.596 240.223 Q184.425 236.658 184.425 229.552 Q184.425 222.422 182.596 218.88 Q180.791 215.315 177.156 215.315 M177.156 211.612 Q182.967 211.612 186.022 216.218 Q189.101 220.802 189.101 229.552 Q189.101 238.278 186.022 242.885 Q182.967 247.468 177.156 247.468 Q171.346 247.468 168.268 242.885 Q165.212 238.278 165.212 229.552 Q165.212 220.802 168.268 216.218 Q171.346 211.612 177.156 211.612 Z\" fill=\"#000000\" fill-rule=\"evenodd\" fill-opacity=\"1\" /><path clip-path=\"url(#clip470)\" d=\"M197.318 240.917 L202.203 240.917 L202.203 246.797 L197.318 246.797 L197.318 240.917 Z\" fill=\"#000000\" fill-rule=\"evenodd\" fill-opacity=\"1\" /><path clip-path=\"url(#clip470)\" d=\"M212.434 212.237 L230.79 212.237 L230.79 216.172 L216.716 216.172 L216.716 224.644 Q217.735 224.297 218.753 224.135 Q219.772 223.95 220.79 223.95 Q226.577 223.95 229.957 227.121 Q233.337 230.292 233.337 235.709 Q233.337 241.288 229.864 244.389 Q226.392 247.468 220.073 247.468 Q217.897 247.468 215.628 247.098 Q213.383 246.727 210.976 245.987 L210.976 241.288 Q213.059 242.422 215.281 242.977 Q217.503 243.533 219.98 243.533 Q223.985 243.533 226.323 241.426 Q228.661 239.32 228.661 235.709 Q228.661 232.098 226.323 229.991 Q223.985 227.885 219.98 227.885 Q218.105 227.885 216.23 228.302 Q214.378 228.718 212.434 229.598 L212.434 212.237 Z\" fill=\"#000000\" fill-rule=\"evenodd\" fill-opacity=\"1\" /><path clip-path=\"url(#clip470)\" d=\"M252.55 215.315 Q248.938 215.315 247.11 218.88 Q245.304 222.422 245.304 229.552 Q245.304 236.658 247.11 240.223 Q248.938 243.764 252.55 243.764 Q256.184 243.764 257.989 240.223 Q259.818 236.658 259.818 229.552 Q259.818 222.422 257.989 218.88 Q256.184 215.315 252.55 215.315 M252.55 211.612 Q258.36 211.612 261.415 216.218 Q264.494 220.802 264.494 229.552 Q264.494 238.278 261.415 242.885 Q258.36 247.468 252.55 247.468 Q246.739 247.468 243.661 242.885 Q240.605 238.278 240.605 229.552 Q240.605 220.802 243.661 216.218 Q246.739 211.612 252.55 211.612 Z\" fill=\"#000000\" fill-rule=\"evenodd\" fill-opacity=\"1\" /><path clip-path=\"url(#clip470)\" d=\"M178.152 133.88 Q174.541 133.88 172.712 137.445 Q170.906 140.986 170.906 148.116 Q170.906 155.222 172.712 158.787 Q174.541 162.329 178.152 162.329 Q181.786 162.329 183.592 158.787 Q185.42 155.222 185.42 148.116 Q185.42 140.986 183.592 137.445 Q181.786 133.88 178.152 133.88 M178.152 130.176 Q183.962 130.176 187.017 134.783 Q190.096 139.366 190.096 148.116 Q190.096 156.843 187.017 161.449 Q183.962 166.032 178.152 166.032 Q172.342 166.032 169.263 161.449 Q166.207 156.843 166.207 148.116 Q166.207 139.366 169.263 134.783 Q172.342 130.176 178.152 130.176 Z\" fill=\"#000000\" fill-rule=\"evenodd\" fill-opacity=\"1\" /><path clip-path=\"url(#clip470)\" d=\"M198.314 159.482 L203.198 159.482 L203.198 165.361 L198.314 165.361 L198.314 159.482 Z\" fill=\"#000000\" fill-rule=\"evenodd\" fill-opacity=\"1\" /><path clip-path=\"url(#clip470)\" d=\"M212.203 130.801 L234.425 130.801 L234.425 132.792 L221.878 165.361 L216.994 165.361 L228.8 134.736 L212.203 134.736 L212.203 130.801 Z\" fill=\"#000000\" fill-rule=\"evenodd\" fill-opacity=\"1\" /><path clip-path=\"url(#clip470)\" d=\"M243.591 130.801 L261.948 130.801 L261.948 134.736 L247.874 134.736 L247.874 143.208 Q248.892 142.861 249.911 142.699 Q250.929 142.514 251.948 142.514 Q257.735 142.514 261.114 145.685 Q264.494 148.857 264.494 154.273 Q264.494 159.852 261.022 162.954 Q257.549 166.032 251.23 166.032 Q249.054 166.032 246.786 165.662 Q244.54 165.292 242.133 164.551 L242.133 159.852 Q244.216 160.986 246.438 161.542 Q248.661 162.097 251.137 162.097 Q255.142 162.097 257.48 159.991 Q259.818 157.884 259.818 154.273 Q259.818 150.662 257.48 148.556 Q255.142 146.449 251.137 146.449 Q249.263 146.449 247.388 146.866 Q245.536 147.283 243.591 148.162 L243.591 130.801 Z\" fill=\"#000000\" fill-rule=\"evenodd\" fill-opacity=\"1\" /><path clip-path=\"url(#clip470)\" d=\"M167.967 79.9903 L175.605 79.9903 L175.605 53.6247 L167.295 55.2914 L167.295 51.0322 L175.559 49.3655 L180.235 49.3655 L180.235 79.9903 L187.874 79.9903 L187.874 83.9255 L167.967 83.9255 L167.967 79.9903 Z\" fill=\"#000000\" fill-rule=\"evenodd\" fill-opacity=\"1\" /><path clip-path=\"url(#clip470)\" d=\"M197.318 78.0459 L202.203 78.0459 L202.203 83.9255 L197.318 83.9255 L197.318 78.0459 Z\" fill=\"#000000\" fill-rule=\"evenodd\" fill-opacity=\"1\" /><path clip-path=\"url(#clip470)\" d=\"M222.388 52.4442 Q218.777 52.4442 216.948 56.009 Q215.142 59.5506 215.142 66.6802 Q215.142 73.7867 216.948 77.3515 Q218.777 80.8931 222.388 80.8931 Q226.022 80.8931 227.827 77.3515 Q229.656 73.7867 229.656 66.6802 Q229.656 59.5506 227.827 56.009 Q226.022 52.4442 222.388 52.4442 M222.388 48.7405 Q228.198 48.7405 231.253 53.347 Q234.332 57.9303 234.332 66.6802 Q234.332 75.407 231.253 80.0135 Q228.198 84.5968 222.388 84.5968 Q216.577 84.5968 213.499 80.0135 Q210.443 75.407 210.443 66.6802 Q210.443 57.9303 213.499 53.347 Q216.577 48.7405 222.388 48.7405 Z\" fill=\"#000000\" fill-rule=\"evenodd\" fill-opacity=\"1\" /><path clip-path=\"url(#clip470)\" d=\"M252.55 52.4442 Q248.938 52.4442 247.11 56.009 Q245.304 59.5506 245.304 66.6802 Q245.304 73.7867 247.11 77.3515 Q248.938 80.8931 252.55 80.8931 Q256.184 80.8931 257.989 77.3515 Q259.818 73.7867 259.818 66.6802 Q259.818 59.5506 257.989 56.009 Q256.184 52.4442 252.55 52.4442 M252.55 48.7405 Q258.36 48.7405 261.415 53.347 Q264.494 57.9303 264.494 66.6802 Q264.494 75.407 261.415 80.0135 Q258.36 84.5968 252.55 84.5968 Q246.739 84.5968 243.661 80.0135 Q240.605 75.407 240.605 66.6802 Q240.605 57.9303 243.661 53.347 Q246.739 48.7405 252.55 48.7405 Z\" fill=\"#000000\" fill-rule=\"evenodd\" fill-opacity=\"1\" /><path clip-path=\"url(#clip470)\" d=\"M98.4423 390.769 Q104.808 393.252 106.75 395.607 Q108.691 397.962 108.691 401.909 L108.691 406.588 L103.79 406.588 L103.79 403.15 Q103.79 400.731 102.644 399.395 Q101.498 398.058 97.2328 396.435 L94.5592 395.384 L59.4842 409.803 L59.4842 403.596 L87.366 392.456 L59.4842 381.316 L59.4842 375.109 L98.4423 390.769 Z\" fill=\"#000000\" fill-rule=\"evenodd\" fill-opacity=\"1\" /><polyline clip-path=\"url(#clip472)\" style=\"stroke:#ff0000; stroke-linecap:butt; stroke-linejoin:round; stroke-width:8; stroke-opacity:1; fill:none\" points=\"\n",
       "  307.124,392.388 313.692,359.868 320.26,327.673 326.828,296.125 333.396,265.538 339.964,236.219 346.532,208.46 353.1,182.539 359.668,158.715 366.236,137.225 \n",
       "  372.804,118.285 379.372,102.084 385.94,88.7833 392.508,78.5161 399.076,71.3851 405.644,67.4615 412.212,66.7844 418.78,69.3606 425.348,75.1644 431.916,84.1378 \n",
       "  438.484,96.1912 445.052,111.204 451.62,129.026 458.188,149.48 464.756,172.361 471.324,197.44 477.892,224.467 484.46,253.172 491.028,283.268 497.596,314.454 \n",
       "  504.164,346.419 510.732,378.844 517.3,411.403 523.868,443.773 530.436,475.629 537.004,506.653 543.573,536.536 550.141,564.978 556.709,591.696 563.277,616.423 \n",
       "  569.845,638.911 576.413,658.936 582.981,676.297 589.549,690.822 596.117,702.365 602.685,710.811 609.253,716.076 615.821,718.106 622.389,716.881 628.957,712.415 \n",
       "  635.525,704.751 642.093,693.965 648.661,680.167 655.229,663.493 661.797,644.11 668.365,622.213 674.933,598.019 681.501,571.77 688.069,543.729 694.637,514.176 \n",
       "  701.205,483.406 707.773,451.726 714.341,419.454 720.909,386.911 727.477,354.423 734.045,322.314 740.613,290.906 747.181,260.511 753.749,231.434 760.317,203.966 \n",
       "  766.885,178.38 773.453,154.932 780.021,133.857 786.589,115.365 793.157,99.6406 799.725,86.8415 806.293,77.0954 812.861,70.4996 819.429,67.12 825.997,66.9903 \n",
       "  832.565,70.112 839.133,76.4537 845.701,85.9521 852.269,98.5123 858.837,114.009 865.405,132.287 871.973,153.164 878.541,176.431 885.109,201.856 891.677,229.184 \n",
       "  898.245,258.144 904.813,288.444 911.381,319.783 917.949,351.848 924.517,384.318 931.085,416.868 937.653,449.174 944.221,480.912 950.789,511.766 957.357,541.427 \n",
       "  963.925,569.599 970.493,596 977.062,620.367 983.63,642.456 990.198,662.046 996.766,678.943 1003.33,692.975 1009.9,704.005 1016.47,711.921 1023.04,716.644 \n",
       "  1029.61,718.128 1036.17,716.356 1042.74,711.348 1049.31,703.153 1055.88,691.853 1062.45,677.56 1069.01,660.418 1075.58,640.599 1082.15,618.299 1088.72,593.742 \n",
       "  1095.29,567.173 1101.85,538.857 1108.42,509.079 1114.99,478.134 1121.56,446.332 1128.13,413.992 \n",
       "  \"/>\n",
       "</svg>\n"
      ]
     },
     "execution_count": 125,
     "metadata": {},
     "output_type": "execute_result"
    }
   ],
   "source": [
    "x = 0 : 0.1 : 4π\n",
    "y = sin.(x)\n",
    "\n",
    "plot(x, y,\n",
    "     xlabel=\"x\",   #X軸のラベル\n",
    "     ylabel=\"y\",   #Y軸のラベル\n",
    "     lc=:red,     #線の色\n",
    "     lw=2,           #線幅\n",
    "     ls=:solid,        #線種\n",
    "     legend=false,\n",
    "     xticks=0:2:12,\n",
    "     yticks=-1.0:0.25:1.0,\n",
    "     size=(300,230)   #プロットのサイズ \n",
    "    \n",
    ")"
   ]
  },
  {
   "cell_type": "code",
   "execution_count": 126,
   "metadata": {},
   "outputs": [
    {
     "data": {
      "image/svg+xml": [
       "<?xml version=\"1.0\" encoding=\"utf-8\"?>\n",
       "<svg xmlns=\"http://www.w3.org/2000/svg\" xmlns:xlink=\"http://www.w3.org/1999/xlink\" width=\"600\" height=\"400\" viewBox=\"0 0 2400 1600\">\n",
       "<defs>\n",
       "  <clipPath id=\"clip510\">\n",
       "    <rect x=\"0\" y=\"0\" width=\"2400\" height=\"1600\"/>\n",
       "  </clipPath>\n",
       "</defs>\n",
       "<path clip-path=\"url(#clip510)\" d=\"\n",
       "M0 1600 L2400 1600 L2400 0 L0 0  Z\n",
       "  \" fill=\"#ffffff\" fill-rule=\"evenodd\" fill-opacity=\"1\"/>\n",
       "<defs>\n",
       "  <clipPath id=\"clip511\">\n",
       "    <rect x=\"480\" y=\"0\" width=\"1681\" height=\"1600\"/>\n",
       "  </clipPath>\n",
       "</defs>\n",
       "<path clip-path=\"url(#clip510)\" d=\"\n",
       "M287.366 623.18 L2352.76 623.18 L2352.76 47.2441 L287.366 47.2441  Z\n",
       "  \" fill=\"#ffffff\" fill-rule=\"evenodd\" fill-opacity=\"1\"/>\n",
       "<defs>\n",
       "  <clipPath id=\"clip512\">\n",
       "    <rect x=\"287\" y=\"47\" width=\"2066\" height=\"577\"/>\n",
       "  </clipPath>\n",
       "</defs>\n",
       "<polyline clip-path=\"url(#clip512)\" style=\"stroke:#000000; stroke-linecap:butt; stroke-linejoin:round; stroke-width:2; stroke-opacity:0.1; fill:none\" points=\"\n",
       "  345.82,623.18 345.82,47.2441 \n",
       "  \"/>\n",
       "<polyline clip-path=\"url(#clip512)\" style=\"stroke:#000000; stroke-linecap:butt; stroke-linejoin:round; stroke-width:2; stroke-opacity:0.1; fill:none\" points=\"\n",
       "  657.577,623.18 657.577,47.2441 \n",
       "  \"/>\n",
       "<polyline clip-path=\"url(#clip512)\" style=\"stroke:#000000; stroke-linecap:butt; stroke-linejoin:round; stroke-width:2; stroke-opacity:0.1; fill:none\" points=\"\n",
       "  969.334,623.18 969.334,47.2441 \n",
       "  \"/>\n",
       "<polyline clip-path=\"url(#clip512)\" style=\"stroke:#000000; stroke-linecap:butt; stroke-linejoin:round; stroke-width:2; stroke-opacity:0.1; fill:none\" points=\"\n",
       "  1281.09,623.18 1281.09,47.2441 \n",
       "  \"/>\n",
       "<polyline clip-path=\"url(#clip512)\" style=\"stroke:#000000; stroke-linecap:butt; stroke-linejoin:round; stroke-width:2; stroke-opacity:0.1; fill:none\" points=\"\n",
       "  1592.85,623.18 1592.85,47.2441 \n",
       "  \"/>\n",
       "<polyline clip-path=\"url(#clip512)\" style=\"stroke:#000000; stroke-linecap:butt; stroke-linejoin:round; stroke-width:2; stroke-opacity:0.1; fill:none\" points=\"\n",
       "  1904.61,623.18 1904.61,47.2441 \n",
       "  \"/>\n",
       "<polyline clip-path=\"url(#clip512)\" style=\"stroke:#000000; stroke-linecap:butt; stroke-linejoin:round; stroke-width:2; stroke-opacity:0.1; fill:none\" points=\"\n",
       "  2216.36,623.18 2216.36,47.2441 \n",
       "  \"/>\n",
       "<polyline clip-path=\"url(#clip510)\" style=\"stroke:#000000; stroke-linecap:butt; stroke-linejoin:round; stroke-width:4; stroke-opacity:1; fill:none\" points=\"\n",
       "  287.366,623.18 2352.76,623.18 \n",
       "  \"/>\n",
       "<polyline clip-path=\"url(#clip510)\" style=\"stroke:#000000; stroke-linecap:butt; stroke-linejoin:round; stroke-width:4; stroke-opacity:1; fill:none\" points=\"\n",
       "  345.82,623.18 345.82,604.282 \n",
       "  \"/>\n",
       "<polyline clip-path=\"url(#clip510)\" style=\"stroke:#000000; stroke-linecap:butt; stroke-linejoin:round; stroke-width:4; stroke-opacity:1; fill:none\" points=\"\n",
       "  657.577,623.18 657.577,604.282 \n",
       "  \"/>\n",
       "<polyline clip-path=\"url(#clip510)\" style=\"stroke:#000000; stroke-linecap:butt; stroke-linejoin:round; stroke-width:4; stroke-opacity:1; fill:none\" points=\"\n",
       "  969.334,623.18 969.334,604.282 \n",
       "  \"/>\n",
       "<polyline clip-path=\"url(#clip510)\" style=\"stroke:#000000; stroke-linecap:butt; stroke-linejoin:round; stroke-width:4; stroke-opacity:1; fill:none\" points=\"\n",
       "  1281.09,623.18 1281.09,604.282 \n",
       "  \"/>\n",
       "<polyline clip-path=\"url(#clip510)\" style=\"stroke:#000000; stroke-linecap:butt; stroke-linejoin:round; stroke-width:4; stroke-opacity:1; fill:none\" points=\"\n",
       "  1592.85,623.18 1592.85,604.282 \n",
       "  \"/>\n",
       "<polyline clip-path=\"url(#clip510)\" style=\"stroke:#000000; stroke-linecap:butt; stroke-linejoin:round; stroke-width:4; stroke-opacity:1; fill:none\" points=\"\n",
       "  1904.61,623.18 1904.61,604.282 \n",
       "  \"/>\n",
       "<polyline clip-path=\"url(#clip510)\" style=\"stroke:#000000; stroke-linecap:butt; stroke-linejoin:round; stroke-width:4; stroke-opacity:1; fill:none\" points=\"\n",
       "  2216.36,623.18 2216.36,604.282 \n",
       "  \"/>\n",
       "<path clip-path=\"url(#clip510)\" d=\"M345.82 654.099 Q342.209 654.099 340.381 657.663 Q338.575 661.205 338.575 668.335 Q338.575 675.441 340.381 679.006 Q342.209 682.547 345.82 682.547 Q349.455 682.547 351.26 679.006 Q353.089 675.441 353.089 668.335 Q353.089 661.205 351.26 657.663 Q349.455 654.099 345.82 654.099 M345.82 650.395 Q351.63 650.395 354.686 655.001 Q357.765 659.585 357.765 668.335 Q357.765 677.061 354.686 681.668 Q351.63 686.251 345.82 686.251 Q340.01 686.251 336.931 681.668 Q333.876 677.061 333.876 668.335 Q333.876 659.585 336.931 655.001 Q340.01 650.395 345.82 650.395 Z\" fill=\"#000000\" fill-rule=\"evenodd\" fill-opacity=\"1\" /><path clip-path=\"url(#clip510)\" d=\"M652.23 681.645 L668.549 681.645 L668.549 685.58 L646.605 685.58 L646.605 681.645 Q649.267 678.89 653.85 674.26 Q658.457 669.608 659.637 668.265 Q661.883 665.742 662.762 664.006 Q663.665 662.247 663.665 660.557 Q663.665 657.802 661.721 656.066 Q659.8 654.33 656.698 654.33 Q654.499 654.33 652.045 655.094 Q649.614 655.858 646.837 657.409 L646.837 652.687 Q649.661 651.552 652.114 650.974 Q654.568 650.395 656.605 650.395 Q661.975 650.395 665.17 653.08 Q668.364 655.765 668.364 660.256 Q668.364 662.386 667.554 664.307 Q666.767 666.205 664.661 668.798 Q664.082 669.469 660.98 672.686 Q657.878 675.881 652.23 681.645 Z\" fill=\"#000000\" fill-rule=\"evenodd\" fill-opacity=\"1\" /><path clip-path=\"url(#clip510)\" d=\"M972.344 655.094 L960.538 673.543 L972.344 673.543 L972.344 655.094 M971.117 651.02 L976.996 651.02 L976.996 673.543 L981.927 673.543 L981.927 677.432 L976.996 677.432 L976.996 685.58 L972.344 685.58 L972.344 677.432 L956.742 677.432 L956.742 672.918 L971.117 651.02 Z\" fill=\"#000000\" fill-rule=\"evenodd\" fill-opacity=\"1\" /><path clip-path=\"url(#clip510)\" d=\"M1281.5 666.436 Q1278.35 666.436 1276.5 668.589 Q1274.67 670.742 1274.67 674.492 Q1274.67 678.219 1276.5 680.395 Q1278.35 682.547 1281.5 682.547 Q1284.64 682.547 1286.47 680.395 Q1288.33 678.219 1288.33 674.492 Q1288.33 670.742 1286.47 668.589 Q1284.64 666.436 1281.5 666.436 M1290.78 651.784 L1290.78 656.043 Q1289.02 655.21 1287.21 654.77 Q1285.43 654.33 1283.67 654.33 Q1279.04 654.33 1276.59 657.455 Q1274.16 660.58 1273.81 666.899 Q1275.18 664.886 1277.24 663.821 Q1279.3 662.733 1281.77 662.733 Q1286.98 662.733 1289.99 665.904 Q1293.02 669.052 1293.02 674.492 Q1293.02 679.816 1289.88 683.034 Q1286.73 686.251 1281.5 686.251 Q1275.5 686.251 1272.33 681.668 Q1269.16 677.061 1269.16 668.335 Q1269.16 660.14 1273.05 655.279 Q1276.94 650.395 1283.49 650.395 Q1285.25 650.395 1287.03 650.742 Q1288.83 651.089 1290.78 651.784 Z\" fill=\"#000000\" fill-rule=\"evenodd\" fill-opacity=\"1\" /><path clip-path=\"url(#clip510)\" d=\"M1592.85 669.168 Q1589.51 669.168 1587.59 670.95 Q1585.7 672.733 1585.7 675.858 Q1585.7 678.983 1587.59 680.765 Q1589.51 682.547 1592.85 682.547 Q1596.18 682.547 1598.1 680.765 Q1600.02 678.96 1600.02 675.858 Q1600.02 672.733 1598.1 670.95 Q1596.2 669.168 1592.85 669.168 M1588.17 667.177 Q1585.16 666.436 1583.47 664.376 Q1581.81 662.316 1581.81 659.353 Q1581.81 655.21 1584.75 652.802 Q1587.71 650.395 1592.85 650.395 Q1598.01 650.395 1600.95 652.802 Q1603.89 655.21 1603.89 659.353 Q1603.89 662.316 1602.2 664.376 Q1600.53 666.436 1597.55 667.177 Q1600.93 667.964 1602.8 670.256 Q1604.7 672.548 1604.7 675.858 Q1604.7 680.881 1601.62 683.566 Q1598.57 686.251 1592.85 686.251 Q1587.13 686.251 1584.05 683.566 Q1581 680.881 1581 675.858 Q1581 672.548 1582.89 670.256 Q1584.79 667.964 1588.17 667.177 M1586.46 659.793 Q1586.46 662.478 1588.13 663.983 Q1589.82 665.487 1592.85 665.487 Q1595.86 665.487 1597.55 663.983 Q1599.26 662.478 1599.26 659.793 Q1599.26 657.108 1597.55 655.603 Q1595.86 654.099 1592.85 654.099 Q1589.82 654.099 1588.13 655.603 Q1586.46 657.108 1586.46 659.793 Z\" fill=\"#000000\" fill-rule=\"evenodd\" fill-opacity=\"1\" /><path clip-path=\"url(#clip510)\" d=\"M1879.29 681.645 L1886.93 681.645 L1886.93 655.279 L1878.62 656.946 L1878.62 652.687 L1886.89 651.02 L1891.56 651.02 L1891.56 681.645 L1899.2 681.645 L1899.2 685.58 L1879.29 685.58 L1879.29 681.645 Z\" fill=\"#000000\" fill-rule=\"evenodd\" fill-opacity=\"1\" /><path clip-path=\"url(#clip510)\" d=\"M1918.64 654.099 Q1915.03 654.099 1913.2 657.663 Q1911.4 661.205 1911.4 668.335 Q1911.4 675.441 1913.2 679.006 Q1915.03 682.547 1918.64 682.547 Q1922.28 682.547 1924.08 679.006 Q1925.91 675.441 1925.91 668.335 Q1925.91 661.205 1924.08 657.663 Q1922.28 654.099 1918.64 654.099 M1918.64 650.395 Q1924.45 650.395 1927.51 655.001 Q1930.59 659.585 1930.59 668.335 Q1930.59 677.061 1927.51 681.668 Q1924.45 686.251 1918.64 686.251 Q1912.83 686.251 1909.76 681.668 Q1906.7 677.061 1906.7 668.335 Q1906.7 659.585 1909.76 655.001 Q1912.83 650.395 1918.64 650.395 Z\" fill=\"#000000\" fill-rule=\"evenodd\" fill-opacity=\"1\" /><path clip-path=\"url(#clip510)\" d=\"M2191.85 681.645 L2199.49 681.645 L2199.49 655.279 L2191.18 656.946 L2191.18 652.687 L2199.44 651.02 L2204.12 651.02 L2204.12 681.645 L2211.76 681.645 L2211.76 685.58 L2191.85 685.58 L2191.85 681.645 Z\" fill=\"#000000\" fill-rule=\"evenodd\" fill-opacity=\"1\" /><path clip-path=\"url(#clip510)\" d=\"M2225.23 681.645 L2241.55 681.645 L2241.55 685.58 L2219.6 685.58 L2219.6 681.645 Q2222.26 678.89 2226.85 674.26 Q2231.45 669.608 2232.64 668.265 Q2234.88 665.742 2235.76 664.006 Q2236.66 662.247 2236.66 660.557 Q2236.66 657.802 2234.72 656.066 Q2232.8 654.33 2229.7 654.33 Q2227.5 654.33 2225.04 655.094 Q2222.61 655.858 2219.83 657.409 L2219.83 652.687 Q2222.66 651.552 2225.11 650.974 Q2227.57 650.395 2229.6 650.395 Q2234.97 650.395 2238.17 653.08 Q2241.36 655.765 2241.36 660.256 Q2241.36 662.386 2240.55 664.307 Q2239.76 666.205 2237.66 668.798 Q2237.08 669.469 2233.98 672.686 Q2230.88 675.881 2225.23 681.645 Z\" fill=\"#000000\" fill-rule=\"evenodd\" fill-opacity=\"1\" /><path clip-path=\"url(#clip510)\" d=\"M1336.68 732.396 L1323.78 749.742 L1337.34 768.044 L1330.44 768.044 L1320.06 754.039 L1309.68 768.044 L1302.78 768.044 L1316.62 749.392 L1303.96 732.396 L1310.86 732.396 L1320.32 745.095 L1329.77 732.396 L1336.68 732.396 Z\" fill=\"#000000\" fill-rule=\"evenodd\" fill-opacity=\"1\" /><polyline clip-path=\"url(#clip512)\" style=\"stroke:#000000; stroke-linecap:butt; stroke-linejoin:round; stroke-width:2; stroke-opacity:0.1; fill:none\" points=\"\n",
       "  287.366,606.882 2352.76,606.882 \n",
       "  \"/>\n",
       "<polyline clip-path=\"url(#clip512)\" style=\"stroke:#000000; stroke-linecap:butt; stroke-linejoin:round; stroke-width:2; stroke-opacity:0.1; fill:none\" points=\"\n",
       "  287.366,538.965 2352.76,538.965 \n",
       "  \"/>\n",
       "<polyline clip-path=\"url(#clip512)\" style=\"stroke:#000000; stroke-linecap:butt; stroke-linejoin:round; stroke-width:2; stroke-opacity:0.1; fill:none\" points=\"\n",
       "  287.366,471.048 2352.76,471.048 \n",
       "  \"/>\n",
       "<polyline clip-path=\"url(#clip512)\" style=\"stroke:#000000; stroke-linecap:butt; stroke-linejoin:round; stroke-width:2; stroke-opacity:0.1; fill:none\" points=\"\n",
       "  287.366,403.131 2352.76,403.131 \n",
       "  \"/>\n",
       "<polyline clip-path=\"url(#clip512)\" style=\"stroke:#000000; stroke-linecap:butt; stroke-linejoin:round; stroke-width:2; stroke-opacity:0.1; fill:none\" points=\"\n",
       "  287.366,335.213 2352.76,335.213 \n",
       "  \"/>\n",
       "<polyline clip-path=\"url(#clip512)\" style=\"stroke:#000000; stroke-linecap:butt; stroke-linejoin:round; stroke-width:2; stroke-opacity:0.1; fill:none\" points=\"\n",
       "  287.366,267.296 2352.76,267.296 \n",
       "  \"/>\n",
       "<polyline clip-path=\"url(#clip512)\" style=\"stroke:#000000; stroke-linecap:butt; stroke-linejoin:round; stroke-width:2; stroke-opacity:0.1; fill:none\" points=\"\n",
       "  287.366,199.379 2352.76,199.379 \n",
       "  \"/>\n",
       "<polyline clip-path=\"url(#clip512)\" style=\"stroke:#000000; stroke-linecap:butt; stroke-linejoin:round; stroke-width:2; stroke-opacity:0.1; fill:none\" points=\"\n",
       "  287.366,131.461 2352.76,131.461 \n",
       "  \"/>\n",
       "<polyline clip-path=\"url(#clip512)\" style=\"stroke:#000000; stroke-linecap:butt; stroke-linejoin:round; stroke-width:2; stroke-opacity:0.1; fill:none\" points=\"\n",
       "  287.366,63.5442 2352.76,63.5442 \n",
       "  \"/>\n",
       "<polyline clip-path=\"url(#clip510)\" style=\"stroke:#000000; stroke-linecap:butt; stroke-linejoin:round; stroke-width:4; stroke-opacity:1; fill:none\" points=\"\n",
       "  287.366,623.18 287.366,47.2441 \n",
       "  \"/>\n",
       "<polyline clip-path=\"url(#clip510)\" style=\"stroke:#000000; stroke-linecap:butt; stroke-linejoin:round; stroke-width:4; stroke-opacity:1; fill:none\" points=\"\n",
       "  287.366,606.882 306.264,606.882 \n",
       "  \"/>\n",
       "<polyline clip-path=\"url(#clip510)\" style=\"stroke:#000000; stroke-linecap:butt; stroke-linejoin:round; stroke-width:4; stroke-opacity:1; fill:none\" points=\"\n",
       "  287.366,538.965 306.264,538.965 \n",
       "  \"/>\n",
       "<polyline clip-path=\"url(#clip510)\" style=\"stroke:#000000; stroke-linecap:butt; stroke-linejoin:round; stroke-width:4; stroke-opacity:1; fill:none\" points=\"\n",
       "  287.366,471.048 306.264,471.048 \n",
       "  \"/>\n",
       "<polyline clip-path=\"url(#clip510)\" style=\"stroke:#000000; stroke-linecap:butt; stroke-linejoin:round; stroke-width:4; stroke-opacity:1; fill:none\" points=\"\n",
       "  287.366,403.131 306.264,403.131 \n",
       "  \"/>\n",
       "<polyline clip-path=\"url(#clip510)\" style=\"stroke:#000000; stroke-linecap:butt; stroke-linejoin:round; stroke-width:4; stroke-opacity:1; fill:none\" points=\"\n",
       "  287.366,335.213 306.264,335.213 \n",
       "  \"/>\n",
       "<polyline clip-path=\"url(#clip510)\" style=\"stroke:#000000; stroke-linecap:butt; stroke-linejoin:round; stroke-width:4; stroke-opacity:1; fill:none\" points=\"\n",
       "  287.366,267.296 306.264,267.296 \n",
       "  \"/>\n",
       "<polyline clip-path=\"url(#clip510)\" style=\"stroke:#000000; stroke-linecap:butt; stroke-linejoin:round; stroke-width:4; stroke-opacity:1; fill:none\" points=\"\n",
       "  287.366,199.379 306.264,199.379 \n",
       "  \"/>\n",
       "<polyline clip-path=\"url(#clip510)\" style=\"stroke:#000000; stroke-linecap:butt; stroke-linejoin:round; stroke-width:4; stroke-opacity:1; fill:none\" points=\"\n",
       "  287.366,131.461 306.264,131.461 \n",
       "  \"/>\n",
       "<polyline clip-path=\"url(#clip510)\" style=\"stroke:#000000; stroke-linecap:butt; stroke-linejoin:round; stroke-width:4; stroke-opacity:1; fill:none\" points=\"\n",
       "  287.366,63.5442 306.264,63.5442 \n",
       "  \"/>\n",
       "<path clip-path=\"url(#clip510)\" d=\"M114.26 607.334 L143.936 607.334 L143.936 611.269 L114.26 611.269 L114.26 607.334 Z\" fill=\"#000000\" fill-rule=\"evenodd\" fill-opacity=\"1\" /><path clip-path=\"url(#clip510)\" d=\"M154.839 620.227 L162.477 620.227 L162.477 593.862 L154.167 595.528 L154.167 591.269 L162.431 589.602 L167.107 589.602 L167.107 620.227 L174.746 620.227 L174.746 624.162 L154.839 624.162 L154.839 620.227 Z\" fill=\"#000000\" fill-rule=\"evenodd\" fill-opacity=\"1\" /><path clip-path=\"url(#clip510)\" d=\"M184.19 618.283 L189.075 618.283 L189.075 624.162 L184.19 624.162 L184.19 618.283 Z\" fill=\"#000000\" fill-rule=\"evenodd\" fill-opacity=\"1\" /><path clip-path=\"url(#clip510)\" d=\"M209.26 592.681 Q205.649 592.681 203.82 596.246 Q202.014 599.788 202.014 606.917 Q202.014 614.024 203.82 617.588 Q205.649 621.13 209.26 621.13 Q212.894 621.13 214.699 617.588 Q216.528 614.024 216.528 606.917 Q216.528 599.788 214.699 596.246 Q212.894 592.681 209.26 592.681 M209.26 588.977 Q215.07 588.977 218.125 593.584 Q221.204 598.167 221.204 606.917 Q221.204 615.644 218.125 620.25 Q215.07 624.834 209.26 624.834 Q203.449 624.834 200.371 620.25 Q197.315 615.644 197.315 606.917 Q197.315 598.167 200.371 593.584 Q203.449 588.977 209.26 588.977 Z\" fill=\"#000000\" fill-rule=\"evenodd\" fill-opacity=\"1\" /><path clip-path=\"url(#clip510)\" d=\"M239.422 592.681 Q235.81 592.681 233.982 596.246 Q232.176 599.788 232.176 606.917 Q232.176 614.024 233.982 617.588 Q235.81 621.13 239.422 621.13 Q243.056 621.13 244.861 617.588 Q246.69 614.024 246.69 606.917 Q246.69 599.788 244.861 596.246 Q243.056 592.681 239.422 592.681 M239.422 588.977 Q245.232 588.977 248.287 593.584 Q251.366 598.167 251.366 606.917 Q251.366 615.644 248.287 620.25 Q245.232 624.834 239.422 624.834 Q233.611 624.834 230.533 620.25 Q227.477 615.644 227.477 606.917 Q227.477 598.167 230.533 593.584 Q233.611 588.977 239.422 588.977 Z\" fill=\"#000000\" fill-rule=\"evenodd\" fill-opacity=\"1\" /><path clip-path=\"url(#clip510)\" d=\"M115.256 539.417 L144.931 539.417 L144.931 543.352 L115.256 543.352 L115.256 539.417 Z\" fill=\"#000000\" fill-rule=\"evenodd\" fill-opacity=\"1\" /><path clip-path=\"url(#clip510)\" d=\"M165.024 524.764 Q161.413 524.764 159.584 528.329 Q157.778 531.87 157.778 539 Q157.778 546.106 159.584 549.671 Q161.413 553.213 165.024 553.213 Q168.658 553.213 170.464 549.671 Q172.292 546.106 172.292 539 Q172.292 531.87 170.464 528.329 Q168.658 524.764 165.024 524.764 M165.024 521.06 Q170.834 521.06 173.889 525.667 Q176.968 530.25 176.968 539 Q176.968 547.727 173.889 552.333 Q170.834 556.916 165.024 556.916 Q159.214 556.916 156.135 552.333 Q153.079 547.727 153.079 539 Q153.079 530.25 156.135 525.667 Q159.214 521.06 165.024 521.06 Z\" fill=\"#000000\" fill-rule=\"evenodd\" fill-opacity=\"1\" /><path clip-path=\"url(#clip510)\" d=\"M185.186 550.366 L190.07 550.366 L190.07 556.245 L185.186 556.245 L185.186 550.366 Z\" fill=\"#000000\" fill-rule=\"evenodd\" fill-opacity=\"1\" /><path clip-path=\"url(#clip510)\" d=\"M199.075 521.685 L221.297 521.685 L221.297 523.676 L208.75 556.245 L203.866 556.245 L215.672 525.62 L199.075 525.62 L199.075 521.685 Z\" fill=\"#000000\" fill-rule=\"evenodd\" fill-opacity=\"1\" /><path clip-path=\"url(#clip510)\" d=\"M230.463 521.685 L248.82 521.685 L248.82 525.62 L234.746 525.62 L234.746 534.092 Q235.764 533.745 236.783 533.583 Q237.801 533.398 238.82 533.398 Q244.607 533.398 247.986 536.569 Q251.366 539.741 251.366 545.157 Q251.366 550.736 247.894 553.838 Q244.421 556.916 238.102 556.916 Q235.926 556.916 233.658 556.546 Q231.412 556.176 229.005 555.435 L229.005 550.736 Q231.088 551.87 233.31 552.426 Q235.533 552.981 238.009 552.981 Q242.014 552.981 244.352 550.875 Q246.69 548.768 246.69 545.157 Q246.69 541.546 244.352 539.44 Q242.014 537.333 238.009 537.333 Q236.135 537.333 234.26 537.75 Q232.408 538.167 230.463 539.046 L230.463 521.685 Z\" fill=\"#000000\" fill-rule=\"evenodd\" fill-opacity=\"1\" /><path clip-path=\"url(#clip510)\" d=\"M114.26 471.499 L143.936 471.499 L143.936 475.434 L114.26 475.434 L114.26 471.499 Z\" fill=\"#000000\" fill-rule=\"evenodd\" fill-opacity=\"1\" /><path clip-path=\"url(#clip510)\" d=\"M164.028 456.847 Q160.417 456.847 158.589 460.411 Q156.783 463.953 156.783 471.083 Q156.783 478.189 158.589 481.754 Q160.417 485.295 164.028 485.295 Q167.663 485.295 169.468 481.754 Q171.297 478.189 171.297 471.083 Q171.297 463.953 169.468 460.411 Q167.663 456.847 164.028 456.847 M164.028 453.143 Q169.839 453.143 172.894 457.749 Q175.973 462.333 175.973 471.083 Q175.973 479.809 172.894 484.416 Q169.839 488.999 164.028 488.999 Q158.218 488.999 155.14 484.416 Q152.084 479.809 152.084 471.083 Q152.084 462.333 155.14 457.749 Q158.218 453.143 164.028 453.143 Z\" fill=\"#000000\" fill-rule=\"evenodd\" fill-opacity=\"1\" /><path clip-path=\"url(#clip510)\" d=\"M184.19 482.448 L189.075 482.448 L189.075 488.328 L184.19 488.328 L184.19 482.448 Z\" fill=\"#000000\" fill-rule=\"evenodd\" fill-opacity=\"1\" /><path clip-path=\"url(#clip510)\" d=\"M199.306 453.768 L217.662 453.768 L217.662 457.703 L203.588 457.703 L203.588 466.175 Q204.607 465.828 205.625 465.666 Q206.644 465.481 207.662 465.481 Q213.449 465.481 216.829 468.652 Q220.209 471.823 220.209 477.24 Q220.209 482.819 216.736 485.92 Q213.264 488.999 206.945 488.999 Q204.769 488.999 202.5 488.629 Q200.255 488.258 197.848 487.518 L197.848 482.819 Q199.931 483.953 202.153 484.508 Q204.375 485.064 206.852 485.064 Q210.857 485.064 213.195 482.958 Q215.533 480.851 215.533 477.24 Q215.533 473.629 213.195 471.522 Q210.857 469.416 206.852 469.416 Q204.977 469.416 203.102 469.833 Q201.25 470.249 199.306 471.129 L199.306 453.768 Z\" fill=\"#000000\" fill-rule=\"evenodd\" fill-opacity=\"1\" /><path clip-path=\"url(#clip510)\" d=\"M239.422 456.847 Q235.81 456.847 233.982 460.411 Q232.176 463.953 232.176 471.083 Q232.176 478.189 233.982 481.754 Q235.81 485.295 239.422 485.295 Q243.056 485.295 244.861 481.754 Q246.69 478.189 246.69 471.083 Q246.69 463.953 244.861 460.411 Q243.056 456.847 239.422 456.847 M239.422 453.143 Q245.232 453.143 248.287 457.749 Q251.366 462.333 251.366 471.083 Q251.366 479.809 248.287 484.416 Q245.232 488.999 239.422 488.999 Q233.611 488.999 230.533 484.416 Q227.477 479.809 227.477 471.083 Q227.477 462.333 230.533 457.749 Q233.611 453.143 239.422 453.143 Z\" fill=\"#000000\" fill-rule=\"evenodd\" fill-opacity=\"1\" /><path clip-path=\"url(#clip510)\" d=\"M115.256 403.582 L144.931 403.582 L144.931 407.517 L115.256 407.517 L115.256 403.582 Z\" fill=\"#000000\" fill-rule=\"evenodd\" fill-opacity=\"1\" /><path clip-path=\"url(#clip510)\" d=\"M165.024 388.929 Q161.413 388.929 159.584 392.494 Q157.778 396.036 157.778 403.165 Q157.778 410.272 159.584 413.837 Q161.413 417.378 165.024 417.378 Q168.658 417.378 170.464 413.837 Q172.292 410.272 172.292 403.165 Q172.292 396.036 170.464 392.494 Q168.658 388.929 165.024 388.929 M165.024 385.226 Q170.834 385.226 173.889 389.832 Q176.968 394.415 176.968 403.165 Q176.968 411.892 173.889 416.499 Q170.834 421.082 165.024 421.082 Q159.214 421.082 156.135 416.499 Q153.079 411.892 153.079 403.165 Q153.079 394.415 156.135 389.832 Q159.214 385.226 165.024 385.226 Z\" fill=\"#000000\" fill-rule=\"evenodd\" fill-opacity=\"1\" /><path clip-path=\"url(#clip510)\" d=\"M185.186 414.531 L190.07 414.531 L190.07 420.411 L185.186 420.411 L185.186 414.531 Z\" fill=\"#000000\" fill-rule=\"evenodd\" fill-opacity=\"1\" /><path clip-path=\"url(#clip510)\" d=\"M204.283 416.475 L220.602 416.475 L220.602 420.411 L198.658 420.411 L198.658 416.475 Q201.32 413.721 205.903 409.091 Q210.51 404.438 211.69 403.096 Q213.936 400.573 214.815 398.837 Q215.718 397.077 215.718 395.388 Q215.718 392.633 213.774 390.897 Q211.852 389.161 208.75 389.161 Q206.551 389.161 204.098 389.925 Q201.667 390.689 198.889 392.239 L198.889 387.517 Q201.713 386.383 204.167 385.804 Q206.621 385.226 208.658 385.226 Q214.028 385.226 217.223 387.911 Q220.417 390.596 220.417 395.087 Q220.417 397.216 219.607 399.138 Q218.82 401.036 216.713 403.628 Q216.135 404.3 213.033 407.517 Q209.931 410.712 204.283 416.475 Z\" fill=\"#000000\" fill-rule=\"evenodd\" fill-opacity=\"1\" /><path clip-path=\"url(#clip510)\" d=\"M230.463 385.851 L248.82 385.851 L248.82 389.786 L234.746 389.786 L234.746 398.258 Q235.764 397.911 236.783 397.749 Q237.801 397.563 238.82 397.563 Q244.607 397.563 247.986 400.735 Q251.366 403.906 251.366 409.323 Q251.366 414.901 247.894 418.003 Q244.421 421.082 238.102 421.082 Q235.926 421.082 233.658 420.712 Q231.412 420.341 229.005 419.6 L229.005 414.901 Q231.088 416.036 233.31 416.591 Q235.533 417.147 238.009 417.147 Q242.014 417.147 244.352 415.04 Q246.69 412.934 246.69 409.323 Q246.69 405.712 244.352 403.605 Q242.014 401.499 238.009 401.499 Q236.135 401.499 234.26 401.915 Q232.408 402.332 230.463 403.212 L230.463 385.851 Z\" fill=\"#000000\" fill-rule=\"evenodd\" fill-opacity=\"1\" /><path clip-path=\"url(#clip510)\" d=\"M164.028 321.012 Q160.417 321.012 158.589 324.577 Q156.783 328.118 156.783 335.248 Q156.783 342.354 158.589 345.919 Q160.417 349.461 164.028 349.461 Q167.663 349.461 169.468 345.919 Q171.297 342.354 171.297 335.248 Q171.297 328.118 169.468 324.577 Q167.663 321.012 164.028 321.012 M164.028 317.308 Q169.839 317.308 172.894 321.915 Q175.973 326.498 175.973 335.248 Q175.973 343.975 172.894 348.581 Q169.839 353.165 164.028 353.165 Q158.218 353.165 155.14 348.581 Q152.084 343.975 152.084 335.248 Q152.084 326.498 155.14 321.915 Q158.218 317.308 164.028 317.308 Z\" fill=\"#000000\" fill-rule=\"evenodd\" fill-opacity=\"1\" /><path clip-path=\"url(#clip510)\" d=\"M184.19 346.614 L189.075 346.614 L189.075 352.493 L184.19 352.493 L184.19 346.614 Z\" fill=\"#000000\" fill-rule=\"evenodd\" fill-opacity=\"1\" /><path clip-path=\"url(#clip510)\" d=\"M209.26 321.012 Q205.649 321.012 203.82 324.577 Q202.014 328.118 202.014 335.248 Q202.014 342.354 203.82 345.919 Q205.649 349.461 209.26 349.461 Q212.894 349.461 214.699 345.919 Q216.528 342.354 216.528 335.248 Q216.528 328.118 214.699 324.577 Q212.894 321.012 209.26 321.012 M209.26 317.308 Q215.07 317.308 218.125 321.915 Q221.204 326.498 221.204 335.248 Q221.204 343.975 218.125 348.581 Q215.07 353.165 209.26 353.165 Q203.449 353.165 200.371 348.581 Q197.315 343.975 197.315 335.248 Q197.315 326.498 200.371 321.915 Q203.449 317.308 209.26 317.308 Z\" fill=\"#000000\" fill-rule=\"evenodd\" fill-opacity=\"1\" /><path clip-path=\"url(#clip510)\" d=\"M239.422 321.012 Q235.81 321.012 233.982 324.577 Q232.176 328.118 232.176 335.248 Q232.176 342.354 233.982 345.919 Q235.81 349.461 239.422 349.461 Q243.056 349.461 244.861 345.919 Q246.69 342.354 246.69 335.248 Q246.69 328.118 244.861 324.577 Q243.056 321.012 239.422 321.012 M239.422 317.308 Q245.232 317.308 248.287 321.915 Q251.366 326.498 251.366 335.248 Q251.366 343.975 248.287 348.581 Q245.232 353.165 239.422 353.165 Q233.611 353.165 230.533 348.581 Q227.477 343.975 227.477 335.248 Q227.477 326.498 230.533 321.915 Q233.611 317.308 239.422 317.308 Z\" fill=\"#000000\" fill-rule=\"evenodd\" fill-opacity=\"1\" /><path clip-path=\"url(#clip510)\" d=\"M165.024 253.095 Q161.413 253.095 159.584 256.659 Q157.778 260.201 157.778 267.331 Q157.778 274.437 159.584 278.002 Q161.413 281.544 165.024 281.544 Q168.658 281.544 170.464 278.002 Q172.292 274.437 172.292 267.331 Q172.292 260.201 170.464 256.659 Q168.658 253.095 165.024 253.095 M165.024 249.391 Q170.834 249.391 173.889 253.997 Q176.968 258.581 176.968 267.331 Q176.968 276.058 173.889 280.664 Q170.834 285.247 165.024 285.247 Q159.214 285.247 156.135 280.664 Q153.079 276.058 153.079 267.331 Q153.079 258.581 156.135 253.997 Q159.214 249.391 165.024 249.391 Z\" fill=\"#000000\" fill-rule=\"evenodd\" fill-opacity=\"1\" /><path clip-path=\"url(#clip510)\" d=\"M185.186 278.696 L190.07 278.696 L190.07 284.576 L185.186 284.576 L185.186 278.696 Z\" fill=\"#000000\" fill-rule=\"evenodd\" fill-opacity=\"1\" /><path clip-path=\"url(#clip510)\" d=\"M204.283 280.641 L220.602 280.641 L220.602 284.576 L198.658 284.576 L198.658 280.641 Q201.32 277.886 205.903 273.257 Q210.51 268.604 211.69 267.261 Q213.936 264.738 214.815 263.002 Q215.718 261.243 215.718 259.553 Q215.718 256.798 213.774 255.062 Q211.852 253.326 208.75 253.326 Q206.551 253.326 204.098 254.09 Q201.667 254.854 198.889 256.405 L198.889 251.683 Q201.713 250.548 204.167 249.97 Q206.621 249.391 208.658 249.391 Q214.028 249.391 217.223 252.076 Q220.417 254.761 220.417 259.252 Q220.417 261.382 219.607 263.303 Q218.82 265.201 216.713 267.794 Q216.135 268.465 213.033 271.683 Q209.931 274.877 204.283 280.641 Z\" fill=\"#000000\" fill-rule=\"evenodd\" fill-opacity=\"1\" /><path clip-path=\"url(#clip510)\" d=\"M230.463 250.016 L248.82 250.016 L248.82 253.951 L234.746 253.951 L234.746 262.423 Q235.764 262.076 236.783 261.914 Q237.801 261.729 238.82 261.729 Q244.607 261.729 247.986 264.9 Q251.366 268.071 251.366 273.488 Q251.366 279.067 247.894 282.169 Q244.421 285.247 238.102 285.247 Q235.926 285.247 233.658 284.877 Q231.412 284.507 229.005 283.766 L229.005 279.067 Q231.088 280.201 233.31 280.757 Q235.533 281.312 238.009 281.312 Q242.014 281.312 244.352 279.206 Q246.69 277.099 246.69 273.488 Q246.69 269.877 244.352 267.771 Q242.014 265.664 238.009 265.664 Q236.135 265.664 234.26 266.081 Q232.408 266.497 230.463 267.377 L230.463 250.016 Z\" fill=\"#000000\" fill-rule=\"evenodd\" fill-opacity=\"1\" /><path clip-path=\"url(#clip510)\" d=\"M164.028 185.177 Q160.417 185.177 158.589 188.742 Q156.783 192.284 156.783 199.413 Q156.783 206.52 158.589 210.085 Q160.417 213.626 164.028 213.626 Q167.663 213.626 169.468 210.085 Q171.297 206.52 171.297 199.413 Q171.297 192.284 169.468 188.742 Q167.663 185.177 164.028 185.177 M164.028 181.474 Q169.839 181.474 172.894 186.08 Q175.973 190.663 175.973 199.413 Q175.973 208.14 172.894 212.747 Q169.839 217.33 164.028 217.33 Q158.218 217.33 155.14 212.747 Q152.084 208.14 152.084 199.413 Q152.084 190.663 155.14 186.08 Q158.218 181.474 164.028 181.474 Z\" fill=\"#000000\" fill-rule=\"evenodd\" fill-opacity=\"1\" /><path clip-path=\"url(#clip510)\" d=\"M184.19 210.779 L189.075 210.779 L189.075 216.659 L184.19 216.659 L184.19 210.779 Z\" fill=\"#000000\" fill-rule=\"evenodd\" fill-opacity=\"1\" /><path clip-path=\"url(#clip510)\" d=\"M199.306 182.099 L217.662 182.099 L217.662 186.034 L203.588 186.034 L203.588 194.506 Q204.607 194.159 205.625 193.997 Q206.644 193.812 207.662 193.812 Q213.449 193.812 216.829 196.983 Q220.209 200.154 220.209 205.571 Q220.209 211.15 216.736 214.251 Q213.264 217.33 206.945 217.33 Q204.769 217.33 202.5 216.96 Q200.255 216.589 197.848 215.849 L197.848 211.15 Q199.931 212.284 202.153 212.839 Q204.375 213.395 206.852 213.395 Q210.857 213.395 213.195 211.288 Q215.533 209.182 215.533 205.571 Q215.533 201.96 213.195 199.853 Q210.857 197.747 206.852 197.747 Q204.977 197.747 203.102 198.163 Q201.25 198.58 199.306 199.46 L199.306 182.099 Z\" fill=\"#000000\" fill-rule=\"evenodd\" fill-opacity=\"1\" /><path clip-path=\"url(#clip510)\" d=\"M239.422 185.177 Q235.81 185.177 233.982 188.742 Q232.176 192.284 232.176 199.413 Q232.176 206.52 233.982 210.085 Q235.81 213.626 239.422 213.626 Q243.056 213.626 244.861 210.085 Q246.69 206.52 246.69 199.413 Q246.69 192.284 244.861 188.742 Q243.056 185.177 239.422 185.177 M239.422 181.474 Q245.232 181.474 248.287 186.08 Q251.366 190.663 251.366 199.413 Q251.366 208.14 248.287 212.747 Q245.232 217.33 239.422 217.33 Q233.611 217.33 230.533 212.747 Q227.477 208.14 227.477 199.413 Q227.477 190.663 230.533 186.08 Q233.611 181.474 239.422 181.474 Z\" fill=\"#000000\" fill-rule=\"evenodd\" fill-opacity=\"1\" /><path clip-path=\"url(#clip510)\" d=\"M165.024 117.26 Q161.413 117.26 159.584 120.825 Q157.778 124.367 157.778 131.496 Q157.778 138.603 159.584 142.167 Q161.413 145.709 165.024 145.709 Q168.658 145.709 170.464 142.167 Q172.292 138.603 172.292 131.496 Q172.292 124.367 170.464 120.825 Q168.658 117.26 165.024 117.26 M165.024 113.556 Q170.834 113.556 173.889 118.163 Q176.968 122.746 176.968 131.496 Q176.968 140.223 173.889 144.829 Q170.834 149.413 165.024 149.413 Q159.214 149.413 156.135 144.829 Q153.079 140.223 153.079 131.496 Q153.079 122.746 156.135 118.163 Q159.214 113.556 165.024 113.556 Z\" fill=\"#000000\" fill-rule=\"evenodd\" fill-opacity=\"1\" /><path clip-path=\"url(#clip510)\" d=\"M185.186 142.862 L190.07 142.862 L190.07 148.741 L185.186 148.741 L185.186 142.862 Z\" fill=\"#000000\" fill-rule=\"evenodd\" fill-opacity=\"1\" /><path clip-path=\"url(#clip510)\" d=\"M199.075 114.181 L221.297 114.181 L221.297 116.172 L208.75 148.741 L203.866 148.741 L215.672 118.117 L199.075 118.117 L199.075 114.181 Z\" fill=\"#000000\" fill-rule=\"evenodd\" fill-opacity=\"1\" /><path clip-path=\"url(#clip510)\" d=\"M230.463 114.181 L248.82 114.181 L248.82 118.117 L234.746 118.117 L234.746 126.589 Q235.764 126.242 236.783 126.08 Q237.801 125.894 238.82 125.894 Q244.607 125.894 247.986 129.066 Q251.366 132.237 251.366 137.654 Q251.366 143.232 247.894 146.334 Q244.421 149.413 238.102 149.413 Q235.926 149.413 233.658 149.042 Q231.412 148.672 229.005 147.931 L229.005 143.232 Q231.088 144.366 233.31 144.922 Q235.533 145.478 238.009 145.478 Q242.014 145.478 244.352 143.371 Q246.69 141.265 246.69 137.654 Q246.69 134.042 244.352 131.936 Q242.014 129.83 238.009 129.83 Q236.135 129.83 234.26 130.246 Q232.408 130.663 230.463 131.542 L230.463 114.181 Z\" fill=\"#000000\" fill-rule=\"evenodd\" fill-opacity=\"1\" /><path clip-path=\"url(#clip510)\" d=\"M154.839 76.889 L162.477 76.889 L162.477 50.5234 L154.167 52.1901 L154.167 47.9308 L162.431 46.2642 L167.107 46.2642 L167.107 76.889 L174.746 76.889 L174.746 80.8242 L154.839 80.8242 L154.839 76.889 Z\" fill=\"#000000\" fill-rule=\"evenodd\" fill-opacity=\"1\" /><path clip-path=\"url(#clip510)\" d=\"M184.19 74.9446 L189.075 74.9446 L189.075 80.8242 L184.19 80.8242 L184.19 74.9446 Z\" fill=\"#000000\" fill-rule=\"evenodd\" fill-opacity=\"1\" /><path clip-path=\"url(#clip510)\" d=\"M209.26 49.3429 Q205.649 49.3429 203.82 52.9076 Q202.014 56.4493 202.014 63.5789 Q202.014 70.6853 203.82 74.2501 Q205.649 77.7918 209.26 77.7918 Q212.894 77.7918 214.699 74.2501 Q216.528 70.6853 216.528 63.5789 Q216.528 56.4493 214.699 52.9076 Q212.894 49.3429 209.26 49.3429 M209.26 45.6392 Q215.07 45.6392 218.125 50.2456 Q221.204 54.8289 221.204 63.5789 Q221.204 72.3057 218.125 76.9121 Q215.07 81.4955 209.26 81.4955 Q203.449 81.4955 200.371 76.9121 Q197.315 72.3057 197.315 63.5789 Q197.315 54.8289 200.371 50.2456 Q203.449 45.6392 209.26 45.6392 Z\" fill=\"#000000\" fill-rule=\"evenodd\" fill-opacity=\"1\" /><path clip-path=\"url(#clip510)\" d=\"M239.422 49.3429 Q235.81 49.3429 233.982 52.9076 Q232.176 56.4493 232.176 63.5789 Q232.176 70.6853 233.982 74.2501 Q235.81 77.7918 239.422 77.7918 Q243.056 77.7918 244.861 74.2501 Q246.69 70.6853 246.69 63.5789 Q246.69 56.4493 244.861 52.9076 Q243.056 49.3429 239.422 49.3429 M239.422 45.6392 Q245.232 45.6392 248.287 50.2456 Q251.366 54.8289 251.366 63.5789 Q251.366 72.3057 248.287 76.9121 Q245.232 81.4955 239.422 81.4955 Q233.611 81.4955 230.533 76.9121 Q227.477 72.3057 227.477 63.5789 Q227.477 54.8289 230.533 50.2456 Q233.611 45.6392 239.422 45.6392 Z\" fill=\"#000000\" fill-rule=\"evenodd\" fill-opacity=\"1\" /><path clip-path=\"url(#clip510)\" d=\"M67.3143 333.525 Q73.68 336.008 75.6216 338.363 Q77.5631 340.718 77.5631 344.665 L77.5631 349.344 L72.6615 349.344 L72.6615 345.906 Q72.6615 343.487 71.5157 342.151 Q70.3699 340.814 66.1048 339.191 L63.4312 338.14 L28.3562 352.559 L28.3562 346.352 L56.238 335.212 L28.3562 324.072 L28.3562 317.865 L67.3143 333.525 Z\" fill=\"#000000\" fill-rule=\"evenodd\" fill-opacity=\"1\" /><polyline clip-path=\"url(#clip512)\" style=\"stroke:#009af9; stroke-linecap:butt; stroke-linejoin:round; stroke-width:8; stroke-opacity:1; fill:none\" points=\"\n",
       "  345.82,335.213 361.408,308.092 376.996,281.241 392.584,254.93 408.172,229.42 423.76,204.968 439.347,181.817 454.935,160.199 470.523,140.33 486.111,122.408 \n",
       "  501.699,106.612 517.287,93.0998 532.875,82.007 548.462,73.4443 564.05,67.497 579.638,64.2247 595.226,63.66 610.814,65.8086 626.402,70.649 641.989,78.1328 \n",
       "  657.577,88.1853 673.165,100.706 688.753,115.57 704.341,132.628 719.929,151.711 735.517,172.627 751.104,195.167 766.692,219.107 782.28,244.207 797.868,270.217 \n",
       "  813.456,296.875 829.044,323.917 844.632,351.072 860.219,378.068 875.807,404.636 891.395,430.51 906.983,455.432 922.571,479.153 938.159,501.436 953.746,522.058 \n",
       "  969.334,540.813 984.922,557.514 1000.51,571.994 1016.1,584.107 1031.69,593.734 1047.27,600.778 1062.86,605.168 1078.45,606.862 1094.04,605.84 1109.62,602.115 \n",
       "  1125.21,595.723 1140.8,586.729 1156.39,575.221 1171.98,561.315 1187.56,545.15 1203.15,526.887 1218.74,506.709 1234.33,484.818 1249.92,461.431 1265.5,436.784 \n",
       "  1281.09,411.122 1296.68,384.701 1312.27,357.786 1327.85,330.645 1343.44,303.55 1359.03,276.772 1374.62,250.577 1390.21,225.228 1405.79,200.978 1421.38,178.069 \n",
       "  1436.97,156.73 1452.56,137.175 1468.15,119.598 1483.73,104.176 1499.32,91.062 1514.91,80.3877 1530.5,72.2594 1546.08,66.7585 1561.67,63.9399 1577.26,63.8318 \n",
       "  1592.85,66.4352 1608.44,71.7242 1624.02,79.6458 1639.61,90.1211 1655.2,103.045 1670.79,118.289 1686.38,135.7 1701.96,155.105 1717.55,176.309 1733.14,199.101 \n",
       "  1748.73,223.253 1764.31,248.524 1779.9,274.661 1795.49,301.403 1811.08,328.483 1826.67,355.63 1842.25,382.573 1857.84,409.042 1873.43,434.774 1889.02,459.512 \n",
       "  1904.61,483.007 1920.19,505.026 1935.78,525.348 1951.37,543.77 1966.96,560.108 1982.54,574.199 1998.13,585.903 2013.72,595.102 2029.31,601.703 2044.9,605.643 \n",
       "  2060.48,606.88 2076.07,605.403 2091.66,601.226 2107.25,594.391 2122.84,584.966 2138.42,573.047 2154.01,558.75 2169.6,542.221 2185.19,523.623 2200.77,503.142 \n",
       "  2216.36,480.984 2231.95,457.369 2247.54,432.533 2263.13,406.725 2278.71,380.203 2294.3,353.231 \n",
       "  \"/>\n",
       "<polyline clip-path=\"url(#clip512)\" style=\"stroke:#e26f46; stroke-linecap:butt; stroke-linejoin:round; stroke-width:8; stroke-opacity:1; fill:none\" stroke-dasharray=\"32, 20\" points=\"\n",
       "  345.82,63.5442 361.408,64.9014 376.996,68.9595 392.584,75.6779 408.172,84.9895 423.76,96.8012 439.347,110.995 454.935,127.429 470.523,145.94 486.111,166.341 \n",
       "  501.699,188.43 517.287,211.985 532.875,236.772 548.462,262.542 564.05,289.038 579.638,315.996 595.226,343.146 610.814,370.216 626.402,396.937 641.989,423.041 \n",
       "  657.577,448.268 673.165,472.364 688.753,495.091 704.341,516.22 719.929,535.54 735.517,552.859 751.104,568.004 766.692,580.822 782.28,591.186 797.868,598.993 \n",
       "  813.456,604.164 829.044,606.647 844.632,606.419 860.219,603.481 875.807,597.863 891.395,589.62 906.983,578.835 922.571,565.616 938.159,550.095 953.746,532.427 \n",
       "  969.334,512.788 984.922,491.375 1000.51,468.402 1016.1,444.098 1031.69,418.706 1047.27,392.48 1062.86,365.682 1078.45,338.579 1094.04,311.443 1109.62,284.544 \n",
       "  1125.21,258.151 1140.8,232.528 1156.39,207.932 1171.98,184.607 1187.56,162.787 1203.15,142.69 1218.74,124.516 1234.33,108.448 1249.92,94.645 1265.5,83.246 \n",
       "  1281.09,74.3647 1296.68,68.0896 1312.27,64.4836 1327.85,63.5826 1343.44,65.3956 1359.03,69.9046 1374.62,77.0644 1390.21,86.8036 1405.79,99.0248 1421.38,113.606 \n",
       "  1436.97,130.401 1452.56,149.243 1468.15,169.943 1483.73,192.294 1499.32,216.074 1514.91,241.043 1530.5,266.954 1546.08,293.546 1561.67,320.555 1577.26,347.711 \n",
       "  1592.85,374.741 1608.44,401.377 1624.02,427.351 1639.61,452.405 1655.2,476.288 1670.79,498.761 1686.38,519.601 1701.96,538.597 1717.55,555.562 1733.14,570.325 \n",
       "  1748.73,582.739 1764.31,592.68 1779.9,600.048 1795.49,604.77 1811.08,606.799 1826.67,606.114 1842.25,602.723 1857.84,596.658 1873.43,587.981 1889.02,576.779 \n",
       "  1904.61,563.163 1920.19,547.27 1935.78,529.257 1951.37,509.306 1966.96,487.615 1982.54,464.402 1998.13,439.898 2013.72,414.348 2029.31,388.007 2044.9,361.138 \n",
       "  2060.48,334.011 2076.07,306.896 2091.66,280.063 2107.25,253.782 2122.84,228.314 2138.42,203.914 2154.01,180.827 2169.6,159.281 2185.19,139.494 2200.77,121.662 \n",
       "  2216.36,105.964 2231.95,92.5568 2247.54,81.5739 2263.13,73.1252 2278.71,67.2953 2294.3,64.1423 \n",
       "  \"/>\n",
       "<path clip-path=\"url(#clip510)\" d=\"\n",
       "M1979.58 221.962 L2283.91 221.962 L2283.91 66.442 L1979.58 66.442  Z\n",
       "  \" fill=\"#ffffff\" fill-rule=\"evenodd\" fill-opacity=\"1\"/>\n",
       "<polyline clip-path=\"url(#clip510)\" style=\"stroke:#000000; stroke-linecap:butt; stroke-linejoin:round; stroke-width:4; stroke-opacity:1; fill:none\" points=\"\n",
       "  1979.58,221.962 2283.91,221.962 2283.91,66.442 1979.58,66.442 1979.58,221.962 \n",
       "  \"/>\n",
       "<polyline clip-path=\"url(#clip510)\" style=\"stroke:#009af9; stroke-linecap:butt; stroke-linejoin:round; stroke-width:4; stroke-opacity:1; fill:none\" points=\"\n",
       "  2002.53,118.282 2140.23,118.282 \n",
       "  \"/>\n",
       "<path clip-path=\"url(#clip510)\" d=\"M2181.6 110.4 L2181.6 114.428 Q2179.79 113.502 2177.85 113.039 Q2175.91 112.576 2173.82 112.576 Q2170.65 112.576 2169.05 113.548 Q2167.48 114.52 2167.48 116.465 Q2167.48 117.946 2168.61 118.803 Q2169.75 119.636 2173.17 120.4 L2174.63 120.724 Q2179.17 121.696 2181.07 123.479 Q2182.99 125.238 2182.99 128.409 Q2182.99 132.02 2180.12 134.127 Q2177.27 136.233 2172.27 136.233 Q2170.19 136.233 2167.92 135.817 Q2165.67 135.423 2163.17 134.613 L2163.17 130.215 Q2165.54 131.442 2167.83 132.067 Q2170.12 132.668 2172.36 132.668 Q2175.37 132.668 2176.99 131.65 Q2178.61 130.608 2178.61 128.733 Q2178.61 126.997 2177.43 126.071 Q2176.28 125.145 2172.32 124.289 L2170.84 123.942 Q2166.88 123.108 2165.12 121.395 Q2163.36 119.659 2163.36 116.65 Q2163.36 112.993 2165.95 111.002 Q2168.54 109.011 2173.31 109.011 Q2175.67 109.011 2177.76 109.358 Q2179.84 109.706 2181.6 110.4 Z\" fill=\"#000000\" fill-rule=\"evenodd\" fill-opacity=\"1\" /><path clip-path=\"url(#clip510)\" d=\"M2189.77 109.636 L2194.03 109.636 L2194.03 135.562 L2189.77 135.562 L2189.77 109.636 M2189.77 99.5436 L2194.03 99.5436 L2194.03 104.937 L2189.77 104.937 L2189.77 99.5436 Z\" fill=\"#000000\" fill-rule=\"evenodd\" fill-opacity=\"1\" /><path clip-path=\"url(#clip510)\" d=\"M2224.49 119.914 L2224.49 135.562 L2220.23 135.562 L2220.23 120.053 Q2220.23 116.372 2218.8 114.544 Q2217.36 112.715 2214.49 112.715 Q2211.04 112.715 2209.05 114.914 Q2207.06 117.113 2207.06 120.909 L2207.06 135.562 L2202.78 135.562 L2202.78 109.636 L2207.06 109.636 L2207.06 113.664 Q2208.59 111.326 2210.65 110.169 Q2212.73 109.011 2215.44 109.011 Q2219.91 109.011 2222.2 111.789 Q2224.49 114.544 2224.49 119.914 Z\" fill=\"#000000\" fill-rule=\"evenodd\" fill-opacity=\"1\" /><polyline clip-path=\"url(#clip510)\" style=\"stroke:#e26f46; stroke-linecap:butt; stroke-linejoin:round; stroke-width:4; stroke-opacity:1; fill:none\" stroke-dasharray=\"16, 10\" points=\"\n",
       "  2002.53,170.122 2140.23,170.122 \n",
       "  \"/>\n",
       "<path clip-path=\"url(#clip510)\" d=\"M2183.68 162.472 L2183.68 166.453 Q2181.88 165.458 2180.05 164.972 Q2178.24 164.462 2176.39 164.462 Q2172.25 164.462 2169.96 167.101 Q2167.67 169.717 2167.67 174.462 Q2167.67 179.208 2169.96 181.846 Q2172.25 184.462 2176.39 184.462 Q2178.24 184.462 2180.05 183.976 Q2181.88 183.467 2183.68 182.471 L2183.68 186.407 Q2181.9 187.24 2179.98 187.657 Q2178.08 188.073 2175.93 188.073 Q2170.07 188.073 2166.62 184.393 Q2163.17 180.712 2163.17 174.462 Q2163.17 168.12 2166.65 164.485 Q2170.14 160.851 2176.21 160.851 Q2178.17 160.851 2180.05 161.268 Q2181.92 161.661 2183.68 162.472 Z\" fill=\"#000000\" fill-rule=\"evenodd\" fill-opacity=\"1\" /><path clip-path=\"url(#clip510)\" d=\"M2201.14 164.462 Q2197.71 164.462 2195.72 167.147 Q2193.73 169.809 2193.73 174.462 Q2193.73 179.115 2195.7 181.8 Q2197.69 184.462 2201.14 184.462 Q2204.54 184.462 2206.53 181.777 Q2208.52 179.092 2208.52 174.462 Q2208.52 169.856 2206.53 167.171 Q2204.54 164.462 2201.14 164.462 M2201.14 160.851 Q2206.69 160.851 2209.86 164.462 Q2213.04 168.073 2213.04 174.462 Q2213.04 180.828 2209.86 184.462 Q2206.69 188.073 2201.14 188.073 Q2195.56 188.073 2192.39 184.462 Q2189.24 180.828 2189.24 174.462 Q2189.24 168.073 2192.39 164.462 Q2195.56 160.851 2201.14 160.851 Z\" fill=\"#000000\" fill-rule=\"evenodd\" fill-opacity=\"1\" /><path clip-path=\"url(#clip510)\" d=\"M2236.62 162.24 L2236.62 166.268 Q2234.82 165.342 2232.87 164.879 Q2230.93 164.416 2228.85 164.416 Q2225.67 164.416 2224.08 165.388 Q2222.5 166.36 2222.5 168.305 Q2222.5 169.786 2223.64 170.643 Q2224.77 171.476 2228.2 172.24 L2229.66 172.564 Q2234.19 173.536 2236.09 175.319 Q2238.01 177.078 2238.01 180.249 Q2238.01 183.86 2235.14 185.967 Q2232.29 188.073 2227.29 188.073 Q2225.21 188.073 2222.94 187.657 Q2220.7 187.263 2218.2 186.453 L2218.2 182.055 Q2220.56 183.282 2222.85 183.907 Q2225.14 184.508 2227.39 184.508 Q2230.4 184.508 2232.02 183.49 Q2233.64 182.448 2233.64 180.573 Q2233.64 178.837 2232.46 177.911 Q2231.3 176.985 2227.34 176.129 L2225.86 175.782 Q2221.9 174.948 2220.14 173.235 Q2218.38 171.499 2218.38 168.49 Q2218.38 164.833 2220.98 162.842 Q2223.57 160.851 2228.34 160.851 Q2230.7 160.851 2232.78 161.198 Q2234.86 161.546 2236.62 162.24 Z\" fill=\"#000000\" fill-rule=\"evenodd\" fill-opacity=\"1\" /><path clip-path=\"url(#clip510)\" d=\"\n",
       "M287.366 1423.18 L2352.76 1423.18 L2352.76 847.244 L287.366 847.244  Z\n",
       "  \" fill=\"#ffffff\" fill-rule=\"evenodd\" fill-opacity=\"1\"/>\n",
       "<defs>\n",
       "  <clipPath id=\"clip513\">\n",
       "    <rect x=\"287\" y=\"847\" width=\"2066\" height=\"577\"/>\n",
       "  </clipPath>\n",
       "</defs>\n",
       "<polyline clip-path=\"url(#clip513)\" style=\"stroke:#000000; stroke-linecap:butt; stroke-linejoin:round; stroke-width:2; stroke-opacity:0.1; fill:none\" points=\"\n",
       "  345.82,1423.18 345.82,847.244 \n",
       "  \"/>\n",
       "<polyline clip-path=\"url(#clip513)\" style=\"stroke:#000000; stroke-linecap:butt; stroke-linejoin:round; stroke-width:2; stroke-opacity:0.1; fill:none\" points=\"\n",
       "  657.577,1423.18 657.577,847.244 \n",
       "  \"/>\n",
       "<polyline clip-path=\"url(#clip513)\" style=\"stroke:#000000; stroke-linecap:butt; stroke-linejoin:round; stroke-width:2; stroke-opacity:0.1; fill:none\" points=\"\n",
       "  969.334,1423.18 969.334,847.244 \n",
       "  \"/>\n",
       "<polyline clip-path=\"url(#clip513)\" style=\"stroke:#000000; stroke-linecap:butt; stroke-linejoin:round; stroke-width:2; stroke-opacity:0.1; fill:none\" points=\"\n",
       "  1281.09,1423.18 1281.09,847.244 \n",
       "  \"/>\n",
       "<polyline clip-path=\"url(#clip513)\" style=\"stroke:#000000; stroke-linecap:butt; stroke-linejoin:round; stroke-width:2; stroke-opacity:0.1; fill:none\" points=\"\n",
       "  1592.85,1423.18 1592.85,847.244 \n",
       "  \"/>\n",
       "<polyline clip-path=\"url(#clip513)\" style=\"stroke:#000000; stroke-linecap:butt; stroke-linejoin:round; stroke-width:2; stroke-opacity:0.1; fill:none\" points=\"\n",
       "  1904.61,1423.18 1904.61,847.244 \n",
       "  \"/>\n",
       "<polyline clip-path=\"url(#clip513)\" style=\"stroke:#000000; stroke-linecap:butt; stroke-linejoin:round; stroke-width:2; stroke-opacity:0.1; fill:none\" points=\"\n",
       "  2216.36,1423.18 2216.36,847.244 \n",
       "  \"/>\n",
       "<polyline clip-path=\"url(#clip510)\" style=\"stroke:#000000; stroke-linecap:butt; stroke-linejoin:round; stroke-width:4; stroke-opacity:1; fill:none\" points=\"\n",
       "  287.366,1423.18 2352.76,1423.18 \n",
       "  \"/>\n",
       "<polyline clip-path=\"url(#clip510)\" style=\"stroke:#000000; stroke-linecap:butt; stroke-linejoin:round; stroke-width:4; stroke-opacity:1; fill:none\" points=\"\n",
       "  345.82,1423.18 345.82,1404.28 \n",
       "  \"/>\n",
       "<polyline clip-path=\"url(#clip510)\" style=\"stroke:#000000; stroke-linecap:butt; stroke-linejoin:round; stroke-width:4; stroke-opacity:1; fill:none\" points=\"\n",
       "  657.577,1423.18 657.577,1404.28 \n",
       "  \"/>\n",
       "<polyline clip-path=\"url(#clip510)\" style=\"stroke:#000000; stroke-linecap:butt; stroke-linejoin:round; stroke-width:4; stroke-opacity:1; fill:none\" points=\"\n",
       "  969.334,1423.18 969.334,1404.28 \n",
       "  \"/>\n",
       "<polyline clip-path=\"url(#clip510)\" style=\"stroke:#000000; stroke-linecap:butt; stroke-linejoin:round; stroke-width:4; stroke-opacity:1; fill:none\" points=\"\n",
       "  1281.09,1423.18 1281.09,1404.28 \n",
       "  \"/>\n",
       "<polyline clip-path=\"url(#clip510)\" style=\"stroke:#000000; stroke-linecap:butt; stroke-linejoin:round; stroke-width:4; stroke-opacity:1; fill:none\" points=\"\n",
       "  1592.85,1423.18 1592.85,1404.28 \n",
       "  \"/>\n",
       "<polyline clip-path=\"url(#clip510)\" style=\"stroke:#000000; stroke-linecap:butt; stroke-linejoin:round; stroke-width:4; stroke-opacity:1; fill:none\" points=\"\n",
       "  1904.61,1423.18 1904.61,1404.28 \n",
       "  \"/>\n",
       "<polyline clip-path=\"url(#clip510)\" style=\"stroke:#000000; stroke-linecap:butt; stroke-linejoin:round; stroke-width:4; stroke-opacity:1; fill:none\" points=\"\n",
       "  2216.36,1423.18 2216.36,1404.28 \n",
       "  \"/>\n",
       "<path clip-path=\"url(#clip510)\" d=\"M345.82 1454.1 Q342.209 1454.1 340.381 1457.66 Q338.575 1461.2 338.575 1468.33 Q338.575 1475.44 340.381 1479.01 Q342.209 1482.55 345.82 1482.55 Q349.455 1482.55 351.26 1479.01 Q353.089 1475.44 353.089 1468.33 Q353.089 1461.2 351.26 1457.66 Q349.455 1454.1 345.82 1454.1 M345.82 1450.39 Q351.63 1450.39 354.686 1455 Q357.765 1459.58 357.765 1468.33 Q357.765 1477.06 354.686 1481.67 Q351.63 1486.25 345.82 1486.25 Q340.01 1486.25 336.931 1481.67 Q333.876 1477.06 333.876 1468.33 Q333.876 1459.58 336.931 1455 Q340.01 1450.39 345.82 1450.39 Z\" fill=\"#000000\" fill-rule=\"evenodd\" fill-opacity=\"1\" /><path clip-path=\"url(#clip510)\" d=\"M652.23 1481.64 L668.549 1481.64 L668.549 1485.58 L646.605 1485.58 L646.605 1481.64 Q649.267 1478.89 653.85 1474.26 Q658.457 1469.61 659.637 1468.27 Q661.883 1465.74 662.762 1464.01 Q663.665 1462.25 663.665 1460.56 Q663.665 1457.8 661.721 1456.07 Q659.8 1454.33 656.698 1454.33 Q654.499 1454.33 652.045 1455.09 Q649.614 1455.86 646.837 1457.41 L646.837 1452.69 Q649.661 1451.55 652.114 1450.97 Q654.568 1450.39 656.605 1450.39 Q661.975 1450.39 665.17 1453.08 Q668.364 1455.77 668.364 1460.26 Q668.364 1462.39 667.554 1464.31 Q666.767 1466.2 664.661 1468.8 Q664.082 1469.47 660.98 1472.69 Q657.878 1475.88 652.23 1481.64 Z\" fill=\"#000000\" fill-rule=\"evenodd\" fill-opacity=\"1\" /><path clip-path=\"url(#clip510)\" d=\"M972.344 1455.09 L960.538 1473.54 L972.344 1473.54 L972.344 1455.09 M971.117 1451.02 L976.996 1451.02 L976.996 1473.54 L981.927 1473.54 L981.927 1477.43 L976.996 1477.43 L976.996 1485.58 L972.344 1485.58 L972.344 1477.43 L956.742 1477.43 L956.742 1472.92 L971.117 1451.02 Z\" fill=\"#000000\" fill-rule=\"evenodd\" fill-opacity=\"1\" /><path clip-path=\"url(#clip510)\" d=\"M1281.5 1466.44 Q1278.35 1466.44 1276.5 1468.59 Q1274.67 1470.74 1274.67 1474.49 Q1274.67 1478.22 1276.5 1480.39 Q1278.35 1482.55 1281.5 1482.55 Q1284.64 1482.55 1286.47 1480.39 Q1288.33 1478.22 1288.33 1474.49 Q1288.33 1470.74 1286.47 1468.59 Q1284.64 1466.44 1281.5 1466.44 M1290.78 1451.78 L1290.78 1456.04 Q1289.02 1455.21 1287.21 1454.77 Q1285.43 1454.33 1283.67 1454.33 Q1279.04 1454.33 1276.59 1457.45 Q1274.16 1460.58 1273.81 1466.9 Q1275.18 1464.89 1277.24 1463.82 Q1279.3 1462.73 1281.77 1462.73 Q1286.98 1462.73 1289.99 1465.9 Q1293.02 1469.05 1293.02 1474.49 Q1293.02 1479.82 1289.88 1483.03 Q1286.73 1486.25 1281.5 1486.25 Q1275.5 1486.25 1272.33 1481.67 Q1269.16 1477.06 1269.16 1468.33 Q1269.16 1460.14 1273.05 1455.28 Q1276.94 1450.39 1283.49 1450.39 Q1285.25 1450.39 1287.03 1450.74 Q1288.83 1451.09 1290.78 1451.78 Z\" fill=\"#000000\" fill-rule=\"evenodd\" fill-opacity=\"1\" /><path clip-path=\"url(#clip510)\" d=\"M1592.85 1469.17 Q1589.51 1469.17 1587.59 1470.95 Q1585.7 1472.73 1585.7 1475.86 Q1585.7 1478.98 1587.59 1480.77 Q1589.51 1482.55 1592.85 1482.55 Q1596.18 1482.55 1598.1 1480.77 Q1600.02 1478.96 1600.02 1475.86 Q1600.02 1472.73 1598.1 1470.95 Q1596.2 1469.17 1592.85 1469.17 M1588.17 1467.18 Q1585.16 1466.44 1583.47 1464.38 Q1581.81 1462.32 1581.81 1459.35 Q1581.81 1455.21 1584.75 1452.8 Q1587.71 1450.39 1592.85 1450.39 Q1598.01 1450.39 1600.95 1452.8 Q1603.89 1455.21 1603.89 1459.35 Q1603.89 1462.32 1602.2 1464.38 Q1600.53 1466.44 1597.55 1467.18 Q1600.93 1467.96 1602.8 1470.26 Q1604.7 1472.55 1604.7 1475.86 Q1604.7 1480.88 1601.62 1483.57 Q1598.57 1486.25 1592.85 1486.25 Q1587.13 1486.25 1584.05 1483.57 Q1581 1480.88 1581 1475.86 Q1581 1472.55 1582.89 1470.26 Q1584.79 1467.96 1588.17 1467.18 M1586.46 1459.79 Q1586.46 1462.48 1588.13 1463.98 Q1589.82 1465.49 1592.85 1465.49 Q1595.86 1465.49 1597.55 1463.98 Q1599.26 1462.48 1599.26 1459.79 Q1599.26 1457.11 1597.55 1455.6 Q1595.86 1454.1 1592.85 1454.1 Q1589.82 1454.1 1588.13 1455.6 Q1586.46 1457.11 1586.46 1459.79 Z\" fill=\"#000000\" fill-rule=\"evenodd\" fill-opacity=\"1\" /><path clip-path=\"url(#clip510)\" d=\"M1879.29 1481.64 L1886.93 1481.64 L1886.93 1455.28 L1878.62 1456.95 L1878.62 1452.69 L1886.89 1451.02 L1891.56 1451.02 L1891.56 1481.64 L1899.2 1481.64 L1899.2 1485.58 L1879.29 1485.58 L1879.29 1481.64 Z\" fill=\"#000000\" fill-rule=\"evenodd\" fill-opacity=\"1\" /><path clip-path=\"url(#clip510)\" d=\"M1918.64 1454.1 Q1915.03 1454.1 1913.2 1457.66 Q1911.4 1461.2 1911.4 1468.33 Q1911.4 1475.44 1913.2 1479.01 Q1915.03 1482.55 1918.64 1482.55 Q1922.28 1482.55 1924.08 1479.01 Q1925.91 1475.44 1925.91 1468.33 Q1925.91 1461.2 1924.08 1457.66 Q1922.28 1454.1 1918.64 1454.1 M1918.64 1450.39 Q1924.45 1450.39 1927.51 1455 Q1930.59 1459.58 1930.59 1468.33 Q1930.59 1477.06 1927.51 1481.67 Q1924.45 1486.25 1918.64 1486.25 Q1912.83 1486.25 1909.76 1481.67 Q1906.7 1477.06 1906.7 1468.33 Q1906.7 1459.58 1909.76 1455 Q1912.83 1450.39 1918.64 1450.39 Z\" fill=\"#000000\" fill-rule=\"evenodd\" fill-opacity=\"1\" /><path clip-path=\"url(#clip510)\" d=\"M2191.85 1481.64 L2199.49 1481.64 L2199.49 1455.28 L2191.18 1456.95 L2191.18 1452.69 L2199.44 1451.02 L2204.12 1451.02 L2204.12 1481.64 L2211.76 1481.64 L2211.76 1485.58 L2191.85 1485.58 L2191.85 1481.64 Z\" fill=\"#000000\" fill-rule=\"evenodd\" fill-opacity=\"1\" /><path clip-path=\"url(#clip510)\" d=\"M2225.23 1481.64 L2241.55 1481.64 L2241.55 1485.58 L2219.6 1485.58 L2219.6 1481.64 Q2222.26 1478.89 2226.85 1474.26 Q2231.45 1469.61 2232.64 1468.27 Q2234.88 1465.74 2235.76 1464.01 Q2236.66 1462.25 2236.66 1460.56 Q2236.66 1457.8 2234.72 1456.07 Q2232.8 1454.33 2229.7 1454.33 Q2227.5 1454.33 2225.04 1455.09 Q2222.61 1455.86 2219.83 1457.41 L2219.83 1452.69 Q2222.66 1451.55 2225.11 1450.97 Q2227.57 1450.39 2229.6 1450.39 Q2234.97 1450.39 2238.17 1453.08 Q2241.36 1455.77 2241.36 1460.26 Q2241.36 1462.39 2240.55 1464.31 Q2239.76 1466.2 2237.66 1468.8 Q2237.08 1469.47 2233.98 1472.69 Q2230.88 1475.88 2225.23 1481.64 Z\" fill=\"#000000\" fill-rule=\"evenodd\" fill-opacity=\"1\" /><path clip-path=\"url(#clip510)\" d=\"M1336.68 1532.4 L1323.78 1549.74 L1337.34 1568.04 L1330.44 1568.04 L1320.06 1554.04 L1309.68 1568.04 L1302.78 1568.04 L1316.62 1549.39 L1303.96 1532.4 L1310.86 1532.4 L1320.32 1545.1 L1329.77 1532.4 L1336.68 1532.4 Z\" fill=\"#000000\" fill-rule=\"evenodd\" fill-opacity=\"1\" /><polyline clip-path=\"url(#clip513)\" style=\"stroke:#000000; stroke-linecap:butt; stroke-linejoin:round; stroke-width:2; stroke-opacity:0.1; fill:none\" points=\"\n",
       "  287.366,1327.32 2352.76,1327.32 \n",
       "  \"/>\n",
       "<polyline clip-path=\"url(#clip513)\" style=\"stroke:#000000; stroke-linecap:butt; stroke-linejoin:round; stroke-width:2; stroke-opacity:0.1; fill:none\" points=\"\n",
       "  287.366,1279.29 2352.76,1279.29 \n",
       "  \"/>\n",
       "<polyline clip-path=\"url(#clip513)\" style=\"stroke:#000000; stroke-linecap:butt; stroke-linejoin:round; stroke-width:2; stroke-opacity:0.1; fill:none\" points=\"\n",
       "  287.366,1231.26 2352.76,1231.26 \n",
       "  \"/>\n",
       "<polyline clip-path=\"url(#clip513)\" style=\"stroke:#000000; stroke-linecap:butt; stroke-linejoin:round; stroke-width:2; stroke-opacity:0.1; fill:none\" points=\"\n",
       "  287.366,1183.23 2352.76,1183.23 \n",
       "  \"/>\n",
       "<polyline clip-path=\"url(#clip513)\" style=\"stroke:#000000; stroke-linecap:butt; stroke-linejoin:round; stroke-width:2; stroke-opacity:0.1; fill:none\" points=\"\n",
       "  287.366,1135.2 2352.76,1135.2 \n",
       "  \"/>\n",
       "<polyline clip-path=\"url(#clip513)\" style=\"stroke:#000000; stroke-linecap:butt; stroke-linejoin:round; stroke-width:2; stroke-opacity:0.1; fill:none\" points=\"\n",
       "  287.366,1087.18 2352.76,1087.18 \n",
       "  \"/>\n",
       "<polyline clip-path=\"url(#clip513)\" style=\"stroke:#000000; stroke-linecap:butt; stroke-linejoin:round; stroke-width:2; stroke-opacity:0.1; fill:none\" points=\"\n",
       "  287.366,1039.15 2352.76,1039.15 \n",
       "  \"/>\n",
       "<polyline clip-path=\"url(#clip513)\" style=\"stroke:#000000; stroke-linecap:butt; stroke-linejoin:round; stroke-width:2; stroke-opacity:0.1; fill:none\" points=\"\n",
       "  287.366,991.119 2352.76,991.119 \n",
       "  \"/>\n",
       "<polyline clip-path=\"url(#clip513)\" style=\"stroke:#000000; stroke-linecap:butt; stroke-linejoin:round; stroke-width:2; stroke-opacity:0.1; fill:none\" points=\"\n",
       "  287.366,943.091 2352.76,943.091 \n",
       "  \"/>\n",
       "<polyline clip-path=\"url(#clip510)\" style=\"stroke:#000000; stroke-linecap:butt; stroke-linejoin:round; stroke-width:4; stroke-opacity:1; fill:none\" points=\"\n",
       "  287.366,1423.18 287.366,847.244 \n",
       "  \"/>\n",
       "<polyline clip-path=\"url(#clip510)\" style=\"stroke:#000000; stroke-linecap:butt; stroke-linejoin:round; stroke-width:4; stroke-opacity:1; fill:none\" points=\"\n",
       "  287.366,1327.32 306.264,1327.32 \n",
       "  \"/>\n",
       "<polyline clip-path=\"url(#clip510)\" style=\"stroke:#000000; stroke-linecap:butt; stroke-linejoin:round; stroke-width:4; stroke-opacity:1; fill:none\" points=\"\n",
       "  287.366,1279.29 306.264,1279.29 \n",
       "  \"/>\n",
       "<polyline clip-path=\"url(#clip510)\" style=\"stroke:#000000; stroke-linecap:butt; stroke-linejoin:round; stroke-width:4; stroke-opacity:1; fill:none\" points=\"\n",
       "  287.366,1231.26 306.264,1231.26 \n",
       "  \"/>\n",
       "<polyline clip-path=\"url(#clip510)\" style=\"stroke:#000000; stroke-linecap:butt; stroke-linejoin:round; stroke-width:4; stroke-opacity:1; fill:none\" points=\"\n",
       "  287.366,1183.23 306.264,1183.23 \n",
       "  \"/>\n",
       "<polyline clip-path=\"url(#clip510)\" style=\"stroke:#000000; stroke-linecap:butt; stroke-linejoin:round; stroke-width:4; stroke-opacity:1; fill:none\" points=\"\n",
       "  287.366,1135.2 306.264,1135.2 \n",
       "  \"/>\n",
       "<polyline clip-path=\"url(#clip510)\" style=\"stroke:#000000; stroke-linecap:butt; stroke-linejoin:round; stroke-width:4; stroke-opacity:1; fill:none\" points=\"\n",
       "  287.366,1087.18 306.264,1087.18 \n",
       "  \"/>\n",
       "<polyline clip-path=\"url(#clip510)\" style=\"stroke:#000000; stroke-linecap:butt; stroke-linejoin:round; stroke-width:4; stroke-opacity:1; fill:none\" points=\"\n",
       "  287.366,1039.15 306.264,1039.15 \n",
       "  \"/>\n",
       "<polyline clip-path=\"url(#clip510)\" style=\"stroke:#000000; stroke-linecap:butt; stroke-linejoin:round; stroke-width:4; stroke-opacity:1; fill:none\" points=\"\n",
       "  287.366,991.119 306.264,991.119 \n",
       "  \"/>\n",
       "<polyline clip-path=\"url(#clip510)\" style=\"stroke:#000000; stroke-linecap:butt; stroke-linejoin:round; stroke-width:4; stroke-opacity:1; fill:none\" points=\"\n",
       "  287.366,943.091 306.264,943.091 \n",
       "  \"/>\n",
       "<path clip-path=\"url(#clip510)\" d=\"M114.26 1327.77 L143.936 1327.77 L143.936 1331.7 L114.26 1331.7 L114.26 1327.77 Z\" fill=\"#000000\" fill-rule=\"evenodd\" fill-opacity=\"1\" /><path clip-path=\"url(#clip510)\" d=\"M154.839 1340.66 L162.477 1340.66 L162.477 1314.3 L154.167 1315.96 L154.167 1311.7 L162.431 1310.04 L167.107 1310.04 L167.107 1340.66 L174.746 1340.66 L174.746 1344.6 L154.839 1344.6 L154.839 1340.66 Z\" fill=\"#000000\" fill-rule=\"evenodd\" fill-opacity=\"1\" /><path clip-path=\"url(#clip510)\" d=\"M184.19 1338.72 L189.075 1338.72 L189.075 1344.6 L184.19 1344.6 L184.19 1338.72 Z\" fill=\"#000000\" fill-rule=\"evenodd\" fill-opacity=\"1\" /><path clip-path=\"url(#clip510)\" d=\"M209.26 1313.12 Q205.649 1313.12 203.82 1316.68 Q202.014 1320.22 202.014 1327.35 Q202.014 1334.46 203.82 1338.02 Q205.649 1341.57 209.26 1341.57 Q212.894 1341.57 214.699 1338.02 Q216.528 1334.46 216.528 1327.35 Q216.528 1320.22 214.699 1316.68 Q212.894 1313.12 209.26 1313.12 M209.26 1309.41 Q215.07 1309.41 218.125 1314.02 Q221.204 1318.6 221.204 1327.35 Q221.204 1336.08 218.125 1340.69 Q215.07 1345.27 209.26 1345.27 Q203.449 1345.27 200.371 1340.69 Q197.315 1336.08 197.315 1327.35 Q197.315 1318.6 200.371 1314.02 Q203.449 1309.41 209.26 1309.41 Z\" fill=\"#000000\" fill-rule=\"evenodd\" fill-opacity=\"1\" /><path clip-path=\"url(#clip510)\" d=\"M239.422 1313.12 Q235.81 1313.12 233.982 1316.68 Q232.176 1320.22 232.176 1327.35 Q232.176 1334.46 233.982 1338.02 Q235.81 1341.57 239.422 1341.57 Q243.056 1341.57 244.861 1338.02 Q246.69 1334.46 246.69 1327.35 Q246.69 1320.22 244.861 1316.68 Q243.056 1313.12 239.422 1313.12 M239.422 1309.41 Q245.232 1309.41 248.287 1314.02 Q251.366 1318.6 251.366 1327.35 Q251.366 1336.08 248.287 1340.69 Q245.232 1345.27 239.422 1345.27 Q233.611 1345.27 230.533 1340.69 Q227.477 1336.08 227.477 1327.35 Q227.477 1318.6 230.533 1314.02 Q233.611 1309.41 239.422 1309.41 Z\" fill=\"#000000\" fill-rule=\"evenodd\" fill-opacity=\"1\" /><path clip-path=\"url(#clip510)\" d=\"M115.256 1279.74 L144.931 1279.74 L144.931 1283.68 L115.256 1283.68 L115.256 1279.74 Z\" fill=\"#000000\" fill-rule=\"evenodd\" fill-opacity=\"1\" /><path clip-path=\"url(#clip510)\" d=\"M165.024 1265.09 Q161.413 1265.09 159.584 1268.65 Q157.778 1272.19 157.778 1279.32 Q157.778 1286.43 159.584 1290 Q161.413 1293.54 165.024 1293.54 Q168.658 1293.54 170.464 1290 Q172.292 1286.43 172.292 1279.32 Q172.292 1272.19 170.464 1268.65 Q168.658 1265.09 165.024 1265.09 M165.024 1261.38 Q170.834 1261.38 173.889 1265.99 Q176.968 1270.57 176.968 1279.32 Q176.968 1288.05 173.889 1292.66 Q170.834 1297.24 165.024 1297.24 Q159.214 1297.24 156.135 1292.66 Q153.079 1288.05 153.079 1279.32 Q153.079 1270.57 156.135 1265.99 Q159.214 1261.38 165.024 1261.38 Z\" fill=\"#000000\" fill-rule=\"evenodd\" fill-opacity=\"1\" /><path clip-path=\"url(#clip510)\" d=\"M185.186 1290.69 L190.07 1290.69 L190.07 1296.57 L185.186 1296.57 L185.186 1290.69 Z\" fill=\"#000000\" fill-rule=\"evenodd\" fill-opacity=\"1\" /><path clip-path=\"url(#clip510)\" d=\"M199.075 1262.01 L221.297 1262.01 L221.297 1264 L208.75 1296.57 L203.866 1296.57 L215.672 1265.94 L199.075 1265.94 L199.075 1262.01 Z\" fill=\"#000000\" fill-rule=\"evenodd\" fill-opacity=\"1\" /><path clip-path=\"url(#clip510)\" d=\"M230.463 1262.01 L248.82 1262.01 L248.82 1265.94 L234.746 1265.94 L234.746 1274.42 Q235.764 1274.07 236.783 1273.91 Q237.801 1273.72 238.82 1273.72 Q244.607 1273.72 247.986 1276.89 Q251.366 1280.07 251.366 1285.48 Q251.366 1291.06 247.894 1294.16 Q244.421 1297.24 238.102 1297.24 Q235.926 1297.24 233.658 1296.87 Q231.412 1296.5 229.005 1295.76 L229.005 1291.06 Q231.088 1292.19 233.31 1292.75 Q235.533 1293.31 238.009 1293.31 Q242.014 1293.31 244.352 1291.2 Q246.69 1289.09 246.69 1285.48 Q246.69 1281.87 244.352 1279.76 Q242.014 1277.66 238.009 1277.66 Q236.135 1277.66 234.26 1278.07 Q232.408 1278.49 230.463 1279.37 L230.463 1262.01 Z\" fill=\"#000000\" fill-rule=\"evenodd\" fill-opacity=\"1\" /><path clip-path=\"url(#clip510)\" d=\"M114.26 1231.71 L143.936 1231.71 L143.936 1235.65 L114.26 1235.65 L114.26 1231.71 Z\" fill=\"#000000\" fill-rule=\"evenodd\" fill-opacity=\"1\" /><path clip-path=\"url(#clip510)\" d=\"M164.028 1217.06 Q160.417 1217.06 158.589 1220.62 Q156.783 1224.17 156.783 1231.3 Q156.783 1238.4 158.589 1241.97 Q160.417 1245.51 164.028 1245.51 Q167.663 1245.51 169.468 1241.97 Q171.297 1238.4 171.297 1231.3 Q171.297 1224.17 169.468 1220.62 Q167.663 1217.06 164.028 1217.06 M164.028 1213.36 Q169.839 1213.36 172.894 1217.96 Q175.973 1222.55 175.973 1231.3 Q175.973 1240.02 172.894 1244.63 Q169.839 1249.21 164.028 1249.21 Q158.218 1249.21 155.14 1244.63 Q152.084 1240.02 152.084 1231.3 Q152.084 1222.55 155.14 1217.96 Q158.218 1213.36 164.028 1213.36 Z\" fill=\"#000000\" fill-rule=\"evenodd\" fill-opacity=\"1\" /><path clip-path=\"url(#clip510)\" d=\"M184.19 1242.66 L189.075 1242.66 L189.075 1248.54 L184.19 1248.54 L184.19 1242.66 Z\" fill=\"#000000\" fill-rule=\"evenodd\" fill-opacity=\"1\" /><path clip-path=\"url(#clip510)\" d=\"M199.306 1213.98 L217.662 1213.98 L217.662 1217.92 L203.588 1217.92 L203.588 1226.39 Q204.607 1226.04 205.625 1225.88 Q206.644 1225.69 207.662 1225.69 Q213.449 1225.69 216.829 1228.87 Q220.209 1232.04 220.209 1237.45 Q220.209 1243.03 216.736 1246.13 Q213.264 1249.21 206.945 1249.21 Q204.769 1249.21 202.5 1248.84 Q200.255 1248.47 197.848 1247.73 L197.848 1243.03 Q199.931 1244.17 202.153 1244.72 Q204.375 1245.28 206.852 1245.28 Q210.857 1245.28 213.195 1243.17 Q215.533 1241.06 215.533 1237.45 Q215.533 1233.84 213.195 1231.74 Q210.857 1229.63 206.852 1229.63 Q204.977 1229.63 203.102 1230.05 Q201.25 1230.46 199.306 1231.34 L199.306 1213.98 Z\" fill=\"#000000\" fill-rule=\"evenodd\" fill-opacity=\"1\" /><path clip-path=\"url(#clip510)\" d=\"M239.422 1217.06 Q235.81 1217.06 233.982 1220.62 Q232.176 1224.17 232.176 1231.3 Q232.176 1238.4 233.982 1241.97 Q235.81 1245.51 239.422 1245.51 Q243.056 1245.51 244.861 1241.97 Q246.69 1238.4 246.69 1231.3 Q246.69 1224.17 244.861 1220.62 Q243.056 1217.06 239.422 1217.06 M239.422 1213.36 Q245.232 1213.36 248.287 1217.96 Q251.366 1222.55 251.366 1231.3 Q251.366 1240.02 248.287 1244.63 Q245.232 1249.21 239.422 1249.21 Q233.611 1249.21 230.533 1244.63 Q227.477 1240.02 227.477 1231.3 Q227.477 1222.55 230.533 1217.96 Q233.611 1213.36 239.422 1213.36 Z\" fill=\"#000000\" fill-rule=\"evenodd\" fill-opacity=\"1\" /><path clip-path=\"url(#clip510)\" d=\"M115.256 1183.68 L144.931 1183.68 L144.931 1187.62 L115.256 1187.62 L115.256 1183.68 Z\" fill=\"#000000\" fill-rule=\"evenodd\" fill-opacity=\"1\" /><path clip-path=\"url(#clip510)\" d=\"M165.024 1169.03 Q161.413 1169.03 159.584 1172.6 Q157.778 1176.14 157.778 1183.27 Q157.778 1190.37 159.584 1193.94 Q161.413 1197.48 165.024 1197.48 Q168.658 1197.48 170.464 1193.94 Q172.292 1190.37 172.292 1183.27 Q172.292 1176.14 170.464 1172.6 Q168.658 1169.03 165.024 1169.03 M165.024 1165.33 Q170.834 1165.33 173.889 1169.93 Q176.968 1174.52 176.968 1183.27 Q176.968 1191.99 173.889 1196.6 Q170.834 1201.18 165.024 1201.18 Q159.214 1201.18 156.135 1196.6 Q153.079 1191.99 153.079 1183.27 Q153.079 1174.52 156.135 1169.93 Q159.214 1165.33 165.024 1165.33 Z\" fill=\"#000000\" fill-rule=\"evenodd\" fill-opacity=\"1\" /><path clip-path=\"url(#clip510)\" d=\"M185.186 1194.63 L190.07 1194.63 L190.07 1200.51 L185.186 1200.51 L185.186 1194.63 Z\" fill=\"#000000\" fill-rule=\"evenodd\" fill-opacity=\"1\" /><path clip-path=\"url(#clip510)\" d=\"M204.283 1196.58 L220.602 1196.58 L220.602 1200.51 L198.658 1200.51 L198.658 1196.58 Q201.32 1193.82 205.903 1189.19 Q210.51 1184.54 211.69 1183.2 Q213.936 1180.68 214.815 1178.94 Q215.718 1177.18 215.718 1175.49 Q215.718 1172.74 213.774 1171 Q211.852 1169.26 208.75 1169.26 Q206.551 1169.26 204.098 1170.03 Q201.667 1170.79 198.889 1172.34 L198.889 1167.62 Q201.713 1166.49 204.167 1165.91 Q206.621 1165.33 208.658 1165.33 Q214.028 1165.33 217.223 1168.01 Q220.417 1170.7 220.417 1175.19 Q220.417 1177.32 219.607 1179.24 Q218.82 1181.14 216.713 1183.73 Q216.135 1184.4 213.033 1187.62 Q209.931 1190.81 204.283 1196.58 Z\" fill=\"#000000\" fill-rule=\"evenodd\" fill-opacity=\"1\" /><path clip-path=\"url(#clip510)\" d=\"M230.463 1165.95 L248.82 1165.95 L248.82 1169.89 L234.746 1169.89 L234.746 1178.36 Q235.764 1178.01 236.783 1177.85 Q237.801 1177.67 238.82 1177.67 Q244.607 1177.67 247.986 1180.84 Q251.366 1184.01 251.366 1189.42 Q251.366 1195 247.894 1198.11 Q244.421 1201.18 238.102 1201.18 Q235.926 1201.18 233.658 1200.81 Q231.412 1200.44 229.005 1199.7 L229.005 1195 Q231.088 1196.14 233.31 1196.69 Q235.533 1197.25 238.009 1197.25 Q242.014 1197.25 244.352 1195.14 Q246.69 1193.04 246.69 1189.42 Q246.69 1185.81 244.352 1183.71 Q242.014 1181.6 238.009 1181.6 Q236.135 1181.6 234.26 1182.02 Q232.408 1182.43 230.463 1183.31 L230.463 1165.95 Z\" fill=\"#000000\" fill-rule=\"evenodd\" fill-opacity=\"1\" /><path clip-path=\"url(#clip510)\" d=\"M164.028 1121 Q160.417 1121 158.589 1124.57 Q156.783 1128.11 156.783 1135.24 Q156.783 1142.35 158.589 1145.91 Q160.417 1149.45 164.028 1149.45 Q167.663 1149.45 169.468 1145.91 Q171.297 1142.35 171.297 1135.24 Q171.297 1128.11 169.468 1124.57 Q167.663 1121 164.028 1121 M164.028 1117.3 Q169.839 1117.3 172.894 1121.91 Q175.973 1126.49 175.973 1135.24 Q175.973 1143.97 172.894 1148.57 Q169.839 1153.16 164.028 1153.16 Q158.218 1153.16 155.14 1148.57 Q152.084 1143.97 152.084 1135.24 Q152.084 1126.49 155.14 1121.91 Q158.218 1117.3 164.028 1117.3 Z\" fill=\"#000000\" fill-rule=\"evenodd\" fill-opacity=\"1\" /><path clip-path=\"url(#clip510)\" d=\"M184.19 1146.6 L189.075 1146.6 L189.075 1152.48 L184.19 1152.48 L184.19 1146.6 Z\" fill=\"#000000\" fill-rule=\"evenodd\" fill-opacity=\"1\" /><path clip-path=\"url(#clip510)\" d=\"M209.26 1121 Q205.649 1121 203.82 1124.57 Q202.014 1128.11 202.014 1135.24 Q202.014 1142.35 203.82 1145.91 Q205.649 1149.45 209.26 1149.45 Q212.894 1149.45 214.699 1145.91 Q216.528 1142.35 216.528 1135.24 Q216.528 1128.11 214.699 1124.57 Q212.894 1121 209.26 1121 M209.26 1117.3 Q215.07 1117.3 218.125 1121.91 Q221.204 1126.49 221.204 1135.24 Q221.204 1143.97 218.125 1148.57 Q215.07 1153.16 209.26 1153.16 Q203.449 1153.16 200.371 1148.57 Q197.315 1143.97 197.315 1135.24 Q197.315 1126.49 200.371 1121.91 Q203.449 1117.3 209.26 1117.3 Z\" fill=\"#000000\" fill-rule=\"evenodd\" fill-opacity=\"1\" /><path clip-path=\"url(#clip510)\" d=\"M239.422 1121 Q235.81 1121 233.982 1124.57 Q232.176 1128.11 232.176 1135.24 Q232.176 1142.35 233.982 1145.91 Q235.81 1149.45 239.422 1149.45 Q243.056 1149.45 244.861 1145.91 Q246.69 1142.35 246.69 1135.24 Q246.69 1128.11 244.861 1124.57 Q243.056 1121 239.422 1121 M239.422 1117.3 Q245.232 1117.3 248.287 1121.91 Q251.366 1126.49 251.366 1135.24 Q251.366 1143.97 248.287 1148.57 Q245.232 1153.16 239.422 1153.16 Q233.611 1153.16 230.533 1148.57 Q227.477 1143.97 227.477 1135.24 Q227.477 1126.49 230.533 1121.91 Q233.611 1117.3 239.422 1117.3 Z\" fill=\"#000000\" fill-rule=\"evenodd\" fill-opacity=\"1\" /><path clip-path=\"url(#clip510)\" d=\"M165.024 1072.97 Q161.413 1072.97 159.584 1076.54 Q157.778 1080.08 157.778 1087.21 Q157.778 1094.32 159.584 1097.88 Q161.413 1101.42 165.024 1101.42 Q168.658 1101.42 170.464 1097.88 Q172.292 1094.32 172.292 1087.21 Q172.292 1080.08 170.464 1076.54 Q168.658 1072.97 165.024 1072.97 M165.024 1069.27 Q170.834 1069.27 173.889 1073.88 Q176.968 1078.46 176.968 1087.21 Q176.968 1095.94 173.889 1100.54 Q170.834 1105.13 165.024 1105.13 Q159.214 1105.13 156.135 1100.54 Q153.079 1095.94 153.079 1087.21 Q153.079 1078.46 156.135 1073.88 Q159.214 1069.27 165.024 1069.27 Z\" fill=\"#000000\" fill-rule=\"evenodd\" fill-opacity=\"1\" /><path clip-path=\"url(#clip510)\" d=\"M185.186 1098.58 L190.07 1098.58 L190.07 1104.46 L185.186 1104.46 L185.186 1098.58 Z\" fill=\"#000000\" fill-rule=\"evenodd\" fill-opacity=\"1\" /><path clip-path=\"url(#clip510)\" d=\"M204.283 1100.52 L220.602 1100.52 L220.602 1104.46 L198.658 1104.46 L198.658 1100.52 Q201.32 1097.77 205.903 1093.14 Q210.51 1088.48 211.69 1087.14 Q213.936 1084.62 214.815 1082.88 Q215.718 1081.12 215.718 1079.43 Q215.718 1076.68 213.774 1074.94 Q211.852 1073.21 208.75 1073.21 Q206.551 1073.21 204.098 1073.97 Q201.667 1074.73 198.889 1076.29 L198.889 1071.56 Q201.713 1070.43 204.167 1069.85 Q206.621 1069.27 208.658 1069.27 Q214.028 1069.27 217.223 1071.96 Q220.417 1074.64 220.417 1079.13 Q220.417 1081.26 219.607 1083.18 Q218.82 1085.08 216.713 1087.67 Q216.135 1088.35 213.033 1091.56 Q209.931 1094.76 204.283 1100.52 Z\" fill=\"#000000\" fill-rule=\"evenodd\" fill-opacity=\"1\" /><path clip-path=\"url(#clip510)\" d=\"M230.463 1069.9 L248.82 1069.9 L248.82 1073.83 L234.746 1073.83 L234.746 1082.3 Q235.764 1081.96 236.783 1081.79 Q237.801 1081.61 238.82 1081.61 Q244.607 1081.61 247.986 1084.78 Q251.366 1087.95 251.366 1093.37 Q251.366 1098.95 247.894 1102.05 Q244.421 1105.13 238.102 1105.13 Q235.926 1105.13 233.658 1104.76 Q231.412 1104.39 229.005 1103.65 L229.005 1098.95 Q231.088 1100.08 233.31 1100.64 Q235.533 1101.19 238.009 1101.19 Q242.014 1101.19 244.352 1099.09 Q246.69 1096.98 246.69 1093.37 Q246.69 1089.76 244.352 1087.65 Q242.014 1085.54 238.009 1085.54 Q236.135 1085.54 234.26 1085.96 Q232.408 1086.38 230.463 1087.26 L230.463 1069.9 Z\" fill=\"#000000\" fill-rule=\"evenodd\" fill-opacity=\"1\" /><path clip-path=\"url(#clip510)\" d=\"M164.028 1024.95 Q160.417 1024.95 158.589 1028.51 Q156.783 1032.05 156.783 1039.18 Q156.783 1046.29 158.589 1049.85 Q160.417 1053.4 164.028 1053.4 Q167.663 1053.4 169.468 1049.85 Q171.297 1046.29 171.297 1039.18 Q171.297 1032.05 169.468 1028.51 Q167.663 1024.95 164.028 1024.95 M164.028 1021.24 Q169.839 1021.24 172.894 1025.85 Q175.973 1030.43 175.973 1039.18 Q175.973 1047.91 172.894 1052.52 Q169.839 1057.1 164.028 1057.1 Q158.218 1057.1 155.14 1052.52 Q152.084 1047.91 152.084 1039.18 Q152.084 1030.43 155.14 1025.85 Q158.218 1021.24 164.028 1021.24 Z\" fill=\"#000000\" fill-rule=\"evenodd\" fill-opacity=\"1\" /><path clip-path=\"url(#clip510)\" d=\"M184.19 1050.55 L189.075 1050.55 L189.075 1056.43 L184.19 1056.43 L184.19 1050.55 Z\" fill=\"#000000\" fill-rule=\"evenodd\" fill-opacity=\"1\" /><path clip-path=\"url(#clip510)\" d=\"M199.306 1021.87 L217.662 1021.87 L217.662 1025.8 L203.588 1025.8 L203.588 1034.28 Q204.607 1033.93 205.625 1033.77 Q206.644 1033.58 207.662 1033.58 Q213.449 1033.58 216.829 1036.75 Q220.209 1039.92 220.209 1045.34 Q220.209 1050.92 216.736 1054.02 Q213.264 1057.1 206.945 1057.1 Q204.769 1057.1 202.5 1056.73 Q200.255 1056.36 197.848 1055.62 L197.848 1050.92 Q199.931 1052.05 202.153 1052.61 Q204.375 1053.16 206.852 1053.16 Q210.857 1053.16 213.195 1051.06 Q215.533 1048.95 215.533 1045.34 Q215.533 1041.73 213.195 1039.62 Q210.857 1037.52 206.852 1037.52 Q204.977 1037.52 203.102 1037.93 Q201.25 1038.35 199.306 1039.23 L199.306 1021.87 Z\" fill=\"#000000\" fill-rule=\"evenodd\" fill-opacity=\"1\" /><path clip-path=\"url(#clip510)\" d=\"M239.422 1024.95 Q235.81 1024.95 233.982 1028.51 Q232.176 1032.05 232.176 1039.18 Q232.176 1046.29 233.982 1049.85 Q235.81 1053.4 239.422 1053.4 Q243.056 1053.4 244.861 1049.85 Q246.69 1046.29 246.69 1039.18 Q246.69 1032.05 244.861 1028.51 Q243.056 1024.95 239.422 1024.95 M239.422 1021.24 Q245.232 1021.24 248.287 1025.85 Q251.366 1030.43 251.366 1039.18 Q251.366 1047.91 248.287 1052.52 Q245.232 1057.1 239.422 1057.1 Q233.611 1057.1 230.533 1052.52 Q227.477 1047.91 227.477 1039.18 Q227.477 1030.43 230.533 1025.85 Q233.611 1021.24 239.422 1021.24 Z\" fill=\"#000000\" fill-rule=\"evenodd\" fill-opacity=\"1\" /><path clip-path=\"url(#clip510)\" d=\"M165.024 976.918 Q161.413 976.918 159.584 980.483 Q157.778 984.025 157.778 991.154 Q157.778 998.261 159.584 1001.83 Q161.413 1005.37 165.024 1005.37 Q168.658 1005.37 170.464 1001.83 Q172.292 998.261 172.292 991.154 Q172.292 984.025 170.464 980.483 Q168.658 976.918 165.024 976.918 M165.024 973.215 Q170.834 973.215 173.889 977.821 Q176.968 982.404 176.968 991.154 Q176.968 999.881 173.889 1004.49 Q170.834 1009.07 165.024 1009.07 Q159.214 1009.07 156.135 1004.49 Q153.079 999.881 153.079 991.154 Q153.079 982.404 156.135 977.821 Q159.214 973.215 165.024 973.215 Z\" fill=\"#000000\" fill-rule=\"evenodd\" fill-opacity=\"1\" /><path clip-path=\"url(#clip510)\" d=\"M185.186 1002.52 L190.07 1002.52 L190.07 1008.4 L185.186 1008.4 L185.186 1002.52 Z\" fill=\"#000000\" fill-rule=\"evenodd\" fill-opacity=\"1\" /><path clip-path=\"url(#clip510)\" d=\"M199.075 973.839 L221.297 973.839 L221.297 975.83 L208.75 1008.4 L203.866 1008.4 L215.672 977.775 L199.075 977.775 L199.075 973.839 Z\" fill=\"#000000\" fill-rule=\"evenodd\" fill-opacity=\"1\" /><path clip-path=\"url(#clip510)\" d=\"M230.463 973.839 L248.82 973.839 L248.82 977.775 L234.746 977.775 L234.746 986.247 Q235.764 985.9 236.783 985.738 Q237.801 985.552 238.82 985.552 Q244.607 985.552 247.986 988.724 Q251.366 991.895 251.366 997.312 Q251.366 1002.89 247.894 1005.99 Q244.421 1009.07 238.102 1009.07 Q235.926 1009.07 233.658 1008.7 Q231.412 1008.33 229.005 1007.59 L229.005 1002.89 Q231.088 1004.02 233.31 1004.58 Q235.533 1005.14 238.009 1005.14 Q242.014 1005.14 244.352 1003.03 Q246.69 1000.92 246.69 997.312 Q246.69 993.701 244.352 991.594 Q242.014 989.488 238.009 989.488 Q236.135 989.488 234.26 989.904 Q232.408 990.321 230.463 991.201 L230.463 973.839 Z\" fill=\"#000000\" fill-rule=\"evenodd\" fill-opacity=\"1\" /><path clip-path=\"url(#clip510)\" d=\"M154.839 956.436 L162.477 956.436 L162.477 930.07 L154.167 931.737 L154.167 927.478 L162.431 925.811 L167.107 925.811 L167.107 956.436 L174.746 956.436 L174.746 960.371 L154.839 960.371 L154.839 956.436 Z\" fill=\"#000000\" fill-rule=\"evenodd\" fill-opacity=\"1\" /><path clip-path=\"url(#clip510)\" d=\"M184.19 954.492 L189.075 954.492 L189.075 960.371 L184.19 960.371 L184.19 954.492 Z\" fill=\"#000000\" fill-rule=\"evenodd\" fill-opacity=\"1\" /><path clip-path=\"url(#clip510)\" d=\"M209.26 928.89 Q205.649 928.89 203.82 932.455 Q202.014 935.996 202.014 943.126 Q202.014 950.232 203.82 953.797 Q205.649 957.339 209.26 957.339 Q212.894 957.339 214.699 953.797 Q216.528 950.232 216.528 943.126 Q216.528 935.996 214.699 932.455 Q212.894 928.89 209.26 928.89 M209.26 925.186 Q215.07 925.186 218.125 929.793 Q221.204 934.376 221.204 943.126 Q221.204 951.853 218.125 956.459 Q215.07 961.042 209.26 961.042 Q203.449 961.042 200.371 956.459 Q197.315 951.853 197.315 943.126 Q197.315 934.376 200.371 929.793 Q203.449 925.186 209.26 925.186 Z\" fill=\"#000000\" fill-rule=\"evenodd\" fill-opacity=\"1\" /><path clip-path=\"url(#clip510)\" d=\"M239.422 928.89 Q235.81 928.89 233.982 932.455 Q232.176 935.996 232.176 943.126 Q232.176 950.232 233.982 953.797 Q235.81 957.339 239.422 957.339 Q243.056 957.339 244.861 953.797 Q246.69 950.232 246.69 943.126 Q246.69 935.996 244.861 932.455 Q243.056 928.89 239.422 928.89 M239.422 925.186 Q245.232 925.186 248.287 929.793 Q251.366 934.376 251.366 943.126 Q251.366 951.853 248.287 956.459 Q245.232 961.042 239.422 961.042 Q233.611 961.042 230.533 956.459 Q227.477 951.853 227.477 943.126 Q227.477 934.376 230.533 929.793 Q233.611 925.186 239.422 925.186 Z\" fill=\"#000000\" fill-rule=\"evenodd\" fill-opacity=\"1\" /><path clip-path=\"url(#clip510)\" d=\"M67.3143 1133.53 Q73.68 1136.01 75.6216 1138.36 Q77.5631 1140.72 77.5631 1144.67 L77.5631 1149.34 L72.6615 1149.34 L72.6615 1145.91 Q72.6615 1143.49 71.5157 1142.15 Q70.3699 1140.81 66.1048 1139.19 L63.4312 1138.14 L28.3562 1152.56 L28.3562 1146.35 L56.238 1135.21 L28.3562 1124.07 L28.3562 1117.87 L67.3143 1133.53 Z\" fill=\"#000000\" fill-rule=\"evenodd\" fill-opacity=\"1\" /><polyline clip-path=\"url(#clip513)\" style=\"stroke:#000000; stroke-linecap:butt; stroke-linejoin:round; stroke-width:8; stroke-opacity:1; fill:none\" stroke-dasharray=\"4, 8\" points=\"\n",
       "  345.82,943.091 361.408,924.872 376.996,908.754 392.584,894.898 408.172,883.444 423.76,874.505 439.347,868.171 454.935,864.505 470.523,863.544 486.111,865.297 \n",
       "  501.699,869.747 517.287,876.85 532.875,886.534 548.462,898.702 564.05,913.234 579.638,929.983 595.226,948.783 610.814,969.445 626.402,991.764 641.989,1015.52 \n",
       "  657.577,1040.46 673.165,1066.36 688.753,1092.94 704.341,1119.95 719.929,1147.1 735.517,1174.14 751.104,1200.79 766.692,1226.78 782.28,1251.86 797.868,1275.78 \n",
       "  813.456,1298.28 829.044,1319.16 844.632,1338.2 860.219,1355.22 875.807,1370.03 891.395,1382.5 906.983,1392.5 922.571,1399.92 938.159,1404.71 953.746,1406.79 \n",
       "  969.334,1406.17 984.922,1402.84 1000.51,1396.83 1016.1,1388.21 1031.69,1377.06 1047.27,1363.5 1062.86,1347.65 1078.45,1329.68 1094.04,1309.77 1109.62,1288.12 \n",
       "  1125.21,1264.93 1140.8,1240.45 1156.39,1214.92 1171.98,1188.59 1187.56,1161.73 1203.15,1134.6 1218.74,1107.48 1234.33,1080.64 1249.92,1054.34 1265.5,1028.85 \n",
       "  1281.09,1004.42 1296.68,981.301 1312.27,959.718 1327.85,939.888 1343.44,922.01 1359.03,906.262 1374.62,892.801 1390.21,881.762 1405.79,873.256 1421.38,867.367 \n",
       "  1436.97,864.154 1452.56,863.649 1468.15,865.858 1483.73,870.758 1499.32,878.3 1514.91,888.409 1530.5,900.984 1546.08,915.899 1561.67,933.005 1577.26,952.132 \n",
       "  1592.85,973.088 1608.44,995.664 1624.02,1019.63 1639.61,1044.76 1655.2,1070.79 1670.79,1097.46 1686.38,1124.51 1701.96,1151.66 1717.55,1178.66 1733.14,1205.21 \n",
       "  1748.73,1231.07 1764.31,1255.97 1779.9,1279.66 1795.49,1301.91 1811.08,1322.5 1826.67,1341.21 1842.25,1357.87 1857.84,1372.3 1873.43,1384.36 1889.02,1393.93 \n",
       "  1904.61,1400.92 1920.19,1405.25 1935.78,1406.88 1951.37,1405.8 1966.96,1402.01 1982.54,1395.56 1998.13,1386.51 2013.72,1374.95 2029.31,1360.99 2044.9,1344.77 \n",
       "  2060.48,1326.47 2076.07,1306.25 2091.66,1284.32 2107.25,1260.9 2122.84,1236.22 2138.42,1210.54 2154.01,1184.1 2169.6,1157.18 2185.19,1130.04 2200.77,1102.94 \n",
       "  2216.36,1076.17 2231.95,1049.99 2247.54,1024.66 2263.13,1000.44 2278.71,977.559 2294.3,956.255 \n",
       "  \"/>\n",
       "</svg>\n"
      ]
     },
     "execution_count": 126,
     "metadata": {},
     "output_type": "execute_result"
    }
   ],
   "source": [
    "x = 0:0.1:4π\n",
    "y = sin.(x)\n",
    "z = cos.(x)\n",
    "w = y + z\n",
    "\n",
    "p1 = plot(x, y,\n",
    "     xlabel=\"x\",   #X軸のラベル\n",
    "     ylabel=\"y\",   #Y軸のラベル\n",
    "     lw=2,           #線幅\n",
    "     ls=:solid,        #線種\n",
    "     label=\"sin\",\n",
    "     legend=false,\n",
    "     xticks=0:2:12,\n",
    "     yticks=-1.0:0.25:1.0,\n",
    ")\n",
    "\n",
    "p1 = plot!(x, z,\n",
    "     xlabel=\"x\",   #X軸のラベル\n",
    "     ylabel=\"y\",   #Y軸のラベル\n",
    "     lw=2,           #線幅\n",
    "     ls=:dash,        #線種\n",
    "     label=\"cos\",\n",
    "     legend=true,\n",
    "     xticks=0:2:12,\n",
    "     yticks=-1.0:0.25:1.0,\n",
    ")\n",
    "\n",
    "p2 = plot(x, w,\n",
    "     xlabel=\"x\",   #X軸のラベル\n",
    "     ylabel=\"y\",   #Y軸のラベル\n",
    "     lw=2,           #線幅\n",
    "     ls=:dot,        #線種\n",
    "     lc=:black,\n",
    "     legend=false,\n",
    "     xticks=0:2:12,\n",
    "     yticks=-1.0:0.25:1.0,\n",
    ")\n",
    "\n",
    "plot(p1, p2, layout=(2,1))"
   ]
  },
  {
   "cell_type": "markdown",
   "metadata": {},
   "source": [
    "### DifferentialEquations"
   ]
  },
  {
   "cell_type": "code",
   "execution_count": 1,
   "metadata": {},
   "outputs": [
    {
     "data": {
      "text/plain": [
       "Plots.GRBackend()"
      ]
     },
     "execution_count": 1,
     "metadata": {},
     "output_type": "execute_result"
    }
   ],
   "source": [
    "using DifferentialEquations\n",
    "using Plots; gr()"
   ]
  },
  {
   "cell_type": "code",
   "execution_count": 2,
   "metadata": {},
   "outputs": [
    {
     "data": {
      "image/svg+xml": [
       "<?xml version=\"1.0\" encoding=\"utf-8\"?>\n",
       "<svg xmlns=\"http://www.w3.org/2000/svg\" xmlns:xlink=\"http://www.w3.org/1999/xlink\" width=\"300\" height=\"230\" viewBox=\"0 0 1200 920\">\n",
       "<defs>\n",
       "  <clipPath id=\"clip950\">\n",
       "    <rect x=\"0\" y=\"0\" width=\"1200\" height=\"920\"/>\n",
       "  </clipPath>\n",
       "</defs>\n",
       "<path clip-path=\"url(#clip950)\" d=\"\n",
       "M0 920 L1200 920 L1200 -1.13687e-13 L0 -1.13687e-13  Z\n",
       "  \" fill=\"#ffffff\" fill-rule=\"evenodd\" fill-opacity=\"1\"/>\n",
       "<defs>\n",
       "  <clipPath id=\"clip951\">\n",
       "    <rect x=\"240\" y=\"0\" width=\"841\" height=\"841\"/>\n",
       "  </clipPath>\n",
       "</defs>\n",
       "<path clip-path=\"url(#clip950)\" d=\"\n",
       "M244.67 737.668 L1152.76 737.668 L1152.76 47.2441 L244.67 47.2441  Z\n",
       "  \" fill=\"#ffffff\" fill-rule=\"evenodd\" fill-opacity=\"1\"/>\n",
       "<defs>\n",
       "  <clipPath id=\"clip952\">\n",
       "    <rect x=\"244\" y=\"47\" width=\"909\" height=\"691\"/>\n",
       "  </clipPath>\n",
       "</defs>\n",
       "<polyline clip-path=\"url(#clip952)\" style=\"stroke:#000000; stroke-linecap:butt; stroke-linejoin:round; stroke-width:2; stroke-opacity:0.1; fill:none\" points=\"\n",
       "  244.67,737.668 244.67,47.2441 \n",
       "  \"/>\n",
       "<polyline clip-path=\"url(#clip952)\" style=\"stroke:#000000; stroke-linecap:butt; stroke-linejoin:round; stroke-width:2; stroke-opacity:0.1; fill:none\" points=\"\n",
       "  471.692,737.668 471.692,47.2441 \n",
       "  \"/>\n",
       "<polyline clip-path=\"url(#clip952)\" style=\"stroke:#000000; stroke-linecap:butt; stroke-linejoin:round; stroke-width:2; stroke-opacity:0.1; fill:none\" points=\"\n",
       "  698.713,737.668 698.713,47.2441 \n",
       "  \"/>\n",
       "<polyline clip-path=\"url(#clip952)\" style=\"stroke:#000000; stroke-linecap:butt; stroke-linejoin:round; stroke-width:2; stroke-opacity:0.1; fill:none\" points=\"\n",
       "  925.734,737.668 925.734,47.2441 \n",
       "  \"/>\n",
       "<polyline clip-path=\"url(#clip952)\" style=\"stroke:#000000; stroke-linecap:butt; stroke-linejoin:round; stroke-width:2; stroke-opacity:0.1; fill:none\" points=\"\n",
       "  1152.76,737.668 1152.76,47.2441 \n",
       "  \"/>\n",
       "<polyline clip-path=\"url(#clip950)\" style=\"stroke:#000000; stroke-linecap:butt; stroke-linejoin:round; stroke-width:4; stroke-opacity:1; fill:none\" points=\"\n",
       "  244.67,737.668 1152.76,737.668 \n",
       "  \"/>\n",
       "<polyline clip-path=\"url(#clip950)\" style=\"stroke:#000000; stroke-linecap:butt; stroke-linejoin:round; stroke-width:4; stroke-opacity:1; fill:none\" points=\"\n",
       "  244.67,737.668 244.67,718.77 \n",
       "  \"/>\n",
       "<polyline clip-path=\"url(#clip950)\" style=\"stroke:#000000; stroke-linecap:butt; stroke-linejoin:round; stroke-width:4; stroke-opacity:1; fill:none\" points=\"\n",
       "  471.692,737.668 471.692,718.77 \n",
       "  \"/>\n",
       "<polyline clip-path=\"url(#clip950)\" style=\"stroke:#000000; stroke-linecap:butt; stroke-linejoin:round; stroke-width:4; stroke-opacity:1; fill:none\" points=\"\n",
       "  698.713,737.668 698.713,718.77 \n",
       "  \"/>\n",
       "<polyline clip-path=\"url(#clip950)\" style=\"stroke:#000000; stroke-linecap:butt; stroke-linejoin:round; stroke-width:4; stroke-opacity:1; fill:none\" points=\"\n",
       "  925.734,737.668 925.734,718.77 \n",
       "  \"/>\n",
       "<polyline clip-path=\"url(#clip950)\" style=\"stroke:#000000; stroke-linecap:butt; stroke-linejoin:round; stroke-width:4; stroke-opacity:1; fill:none\" points=\"\n",
       "  1152.76,737.668 1152.76,718.77 \n",
       "  \"/>\n",
       "<path clip-path=\"url(#clip950)\" d=\"M244.67 758.987 Q241.059 758.987 239.23 762.551 Q237.425 766.093 237.425 773.223 Q237.425 780.329 239.23 783.894 Q241.059 787.435 244.67 787.435 Q248.304 787.435 250.11 783.894 Q251.939 780.329 251.939 773.223 Q251.939 766.093 250.11 762.551 Q248.304 758.987 244.67 758.987 M244.67 755.283 Q250.48 755.283 253.536 759.889 Q256.614 764.473 256.614 773.223 Q256.614 781.949 253.536 786.556 Q250.48 791.139 244.67 791.139 Q238.86 791.139 235.781 786.556 Q232.726 781.949 232.726 773.223 Q232.726 764.473 235.781 759.889 Q238.86 755.283 244.67 755.283 Z\" fill=\"#000000\" fill-rule=\"evenodd\" fill-opacity=\"1\" /><path clip-path=\"url(#clip950)\" d=\"M446.379 786.533 L454.018 786.533 L454.018 760.167 L445.708 761.834 L445.708 757.575 L453.972 755.908 L458.648 755.908 L458.648 786.533 L466.286 786.533 L466.286 790.468 L446.379 790.468 L446.379 786.533 Z\" fill=\"#000000\" fill-rule=\"evenodd\" fill-opacity=\"1\" /><path clip-path=\"url(#clip950)\" d=\"M485.731 758.987 Q482.12 758.987 480.291 762.551 Q478.485 766.093 478.485 773.223 Q478.485 780.329 480.291 783.894 Q482.12 787.435 485.731 787.435 Q489.365 787.435 491.171 783.894 Q492.999 780.329 492.999 773.223 Q492.999 766.093 491.171 762.551 Q489.365 758.987 485.731 758.987 M485.731 755.283 Q491.541 755.283 494.596 759.889 Q497.675 764.473 497.675 773.223 Q497.675 781.949 494.596 786.556 Q491.541 791.139 485.731 791.139 Q479.921 791.139 476.842 786.556 Q473.786 781.949 473.786 773.223 Q473.786 764.473 476.842 759.889 Q479.921 755.283 485.731 755.283 Z\" fill=\"#000000\" fill-rule=\"evenodd\" fill-opacity=\"1\" /><path clip-path=\"url(#clip950)\" d=\"M677.486 786.533 L693.806 786.533 L693.806 790.468 L671.861 790.468 L671.861 786.533 Q674.523 783.778 679.107 779.148 Q683.713 774.496 684.894 773.153 Q687.139 770.63 688.019 768.894 Q688.921 767.135 688.921 765.445 Q688.921 762.69 686.977 760.954 Q685.056 759.218 681.954 759.218 Q679.755 759.218 677.301 759.982 Q674.871 760.746 672.093 762.297 L672.093 757.575 Q674.917 756.44 677.37 755.862 Q679.824 755.283 681.861 755.283 Q687.232 755.283 690.426 757.968 Q693.62 760.653 693.62 765.144 Q693.62 767.274 692.81 769.195 Q692.023 771.093 689.917 773.686 Q689.338 774.357 686.236 777.574 Q683.134 780.769 677.486 786.533 Z\" fill=\"#000000\" fill-rule=\"evenodd\" fill-opacity=\"1\" /><path clip-path=\"url(#clip950)\" d=\"M713.62 758.987 Q710.009 758.987 708.181 762.551 Q706.375 766.093 706.375 773.223 Q706.375 780.329 708.181 783.894 Q710.009 787.435 713.62 787.435 Q717.255 787.435 719.06 783.894 Q720.889 780.329 720.889 773.223 Q720.889 766.093 719.06 762.551 Q717.255 758.987 713.62 758.987 M713.62 755.283 Q719.43 755.283 722.486 759.889 Q725.565 764.473 725.565 773.223 Q725.565 781.949 722.486 786.556 Q719.43 791.139 713.62 791.139 Q707.81 791.139 704.731 786.556 Q701.676 781.949 701.676 773.223 Q701.676 764.473 704.731 759.889 Q707.81 755.283 713.62 755.283 Z\" fill=\"#000000\" fill-rule=\"evenodd\" fill-opacity=\"1\" /><path clip-path=\"url(#clip950)\" d=\"M914.577 771.834 Q917.934 772.551 919.809 774.82 Q921.707 777.088 921.707 780.422 Q921.707 785.537 918.188 788.338 Q914.67 791.139 908.188 791.139 Q906.012 791.139 903.698 790.699 Q901.406 790.283 898.952 789.426 L898.952 784.912 Q900.897 786.047 903.211 786.625 Q905.526 787.204 908.049 787.204 Q912.447 787.204 914.739 785.468 Q917.054 783.732 917.054 780.422 Q917.054 777.366 914.901 775.653 Q912.772 773.917 908.952 773.917 L904.924 773.917 L904.924 770.074 L909.137 770.074 Q912.586 770.074 914.415 768.709 Q916.244 767.32 916.244 764.727 Q916.244 762.065 914.346 760.653 Q912.471 759.218 908.952 759.218 Q907.031 759.218 904.832 759.635 Q902.633 760.051 899.994 760.931 L899.994 756.764 Q902.656 756.024 904.971 755.653 Q907.309 755.283 909.369 755.283 Q914.693 755.283 917.795 757.713 Q920.897 760.121 920.897 764.241 Q920.897 767.111 919.253 769.102 Q917.609 771.07 914.577 771.834 Z\" fill=\"#000000\" fill-rule=\"evenodd\" fill-opacity=\"1\" /><path clip-path=\"url(#clip950)\" d=\"M940.572 758.987 Q936.961 758.987 935.133 762.551 Q933.327 766.093 933.327 773.223 Q933.327 780.329 935.133 783.894 Q936.961 787.435 940.572 787.435 Q944.207 787.435 946.012 783.894 Q947.841 780.329 947.841 773.223 Q947.841 766.093 946.012 762.551 Q944.207 758.987 940.572 758.987 M940.572 755.283 Q946.382 755.283 949.438 759.889 Q952.517 764.473 952.517 773.223 Q952.517 781.949 949.438 786.556 Q946.382 791.139 940.572 791.139 Q934.762 791.139 931.683 786.556 Q928.628 781.949 928.628 773.223 Q928.628 764.473 931.683 759.889 Q934.762 755.283 940.572 755.283 Z\" fill=\"#000000\" fill-rule=\"evenodd\" fill-opacity=\"1\" /><path clip-path=\"url(#clip950)\" d=\"M1140.93 759.982 L1129.12 778.431 L1140.93 778.431 L1140.93 759.982 M1139.7 755.908 L1145.58 755.908 L1145.58 778.431 L1150.51 778.431 L1150.51 782.32 L1145.58 782.32 L1145.58 790.468 L1140.93 790.468 L1140.93 782.32 L1125.33 782.32 L1125.33 777.806 L1139.7 755.908 Z\" fill=\"#000000\" fill-rule=\"evenodd\" fill-opacity=\"1\" /><path clip-path=\"url(#clip950)\" d=\"M1168.24 758.987 Q1164.63 758.987 1162.8 762.551 Q1161 766.093 1161 773.223 Q1161 780.329 1162.8 783.894 Q1164.63 787.435 1168.24 787.435 Q1171.88 787.435 1173.68 783.894 Q1175.51 780.329 1175.51 773.223 Q1175.51 766.093 1173.68 762.551 Q1171.88 758.987 1168.24 758.987 M1168.24 755.283 Q1174.05 755.283 1177.11 759.889 Q1180.19 764.473 1180.19 773.223 Q1180.19 781.949 1177.11 786.556 Q1174.05 791.139 1168.24 791.139 Q1162.43 791.139 1159.35 786.556 Q1156.3 781.949 1156.3 773.223 Q1156.3 764.473 1159.35 759.889 Q1162.43 755.283 1168.24 755.283 Z\" fill=\"#000000\" fill-rule=\"evenodd\" fill-opacity=\"1\" /><path clip-path=\"url(#clip950)\" d=\"M697.774 818.762 L697.774 828.884 L709.837 828.884 L709.837 833.435 L697.774 833.435 L697.774 852.787 Q697.774 857.148 698.952 858.389 Q700.161 859.63 703.821 859.63 L709.837 859.63 L709.837 864.532 L703.821 864.532 Q697.042 864.532 694.464 862.017 Q691.886 859.471 691.886 852.787 L691.886 833.435 L687.589 833.435 L687.589 828.884 L691.886 828.884 L691.886 818.762 L697.774 818.762 Z\" fill=\"#000000\" fill-rule=\"evenodd\" fill-opacity=\"1\" /><polyline clip-path=\"url(#clip952)\" style=\"stroke:#000000; stroke-linecap:butt; stroke-linejoin:round; stroke-width:2; stroke-opacity:0.1; fill:none\" points=\"\n",
       "  244.67,718.128 1152.76,718.128 \n",
       "  \"/>\n",
       "<polyline clip-path=\"url(#clip952)\" style=\"stroke:#000000; stroke-linecap:butt; stroke-linejoin:round; stroke-width:2; stroke-opacity:0.1; fill:none\" points=\"\n",
       "  244.67,555.292 1152.76,555.292 \n",
       "  \"/>\n",
       "<polyline clip-path=\"url(#clip952)\" style=\"stroke:#000000; stroke-linecap:butt; stroke-linejoin:round; stroke-width:2; stroke-opacity:0.1; fill:none\" points=\"\n",
       "  244.67,392.456 1152.76,392.456 \n",
       "  \"/>\n",
       "<polyline clip-path=\"url(#clip952)\" style=\"stroke:#000000; stroke-linecap:butt; stroke-linejoin:round; stroke-width:2; stroke-opacity:0.1; fill:none\" points=\"\n",
       "  244.67,229.62 1152.76,229.62 \n",
       "  \"/>\n",
       "<polyline clip-path=\"url(#clip952)\" style=\"stroke:#000000; stroke-linecap:butt; stroke-linejoin:round; stroke-width:2; stroke-opacity:0.1; fill:none\" points=\"\n",
       "  244.67,66.7844 1152.76,66.7844 \n",
       "  \"/>\n",
       "<polyline clip-path=\"url(#clip950)\" style=\"stroke:#000000; stroke-linecap:butt; stroke-linejoin:round; stroke-width:4; stroke-opacity:1; fill:none\" points=\"\n",
       "  244.67,737.668 244.67,47.2441 \n",
       "  \"/>\n",
       "<polyline clip-path=\"url(#clip950)\" style=\"stroke:#000000; stroke-linecap:butt; stroke-linejoin:round; stroke-width:4; stroke-opacity:1; fill:none\" points=\"\n",
       "  244.67,718.128 263.568,718.128 \n",
       "  \"/>\n",
       "<polyline clip-path=\"url(#clip950)\" style=\"stroke:#000000; stroke-linecap:butt; stroke-linejoin:round; stroke-width:4; stroke-opacity:1; fill:none\" points=\"\n",
       "  244.67,555.292 263.568,555.292 \n",
       "  \"/>\n",
       "<polyline clip-path=\"url(#clip950)\" style=\"stroke:#000000; stroke-linecap:butt; stroke-linejoin:round; stroke-width:4; stroke-opacity:1; fill:none\" points=\"\n",
       "  244.67,392.456 263.568,392.456 \n",
       "  \"/>\n",
       "<polyline clip-path=\"url(#clip950)\" style=\"stroke:#000000; stroke-linecap:butt; stroke-linejoin:round; stroke-width:4; stroke-opacity:1; fill:none\" points=\"\n",
       "  244.67,229.62 263.568,229.62 \n",
       "  \"/>\n",
       "<polyline clip-path=\"url(#clip950)\" style=\"stroke:#000000; stroke-linecap:butt; stroke-linejoin:round; stroke-width:4; stroke-opacity:1; fill:none\" points=\"\n",
       "  244.67,66.7844 263.568,66.7844 \n",
       "  \"/>\n",
       "<path clip-path=\"url(#clip950)\" d=\"M139.333 703.926 Q135.721 703.926 133.893 707.491 Q132.087 711.033 132.087 718.162 Q132.087 725.269 133.893 728.834 Q135.721 732.375 139.333 732.375 Q142.967 732.375 144.772 728.834 Q146.601 725.269 146.601 718.162 Q146.601 711.033 144.772 707.491 Q142.967 703.926 139.333 703.926 M139.333 700.223 Q145.143 700.223 148.198 704.829 Q151.277 709.412 151.277 718.162 Q151.277 726.889 148.198 731.496 Q145.143 736.079 139.333 736.079 Q133.522 736.079 130.444 731.496 Q127.388 726.889 127.388 718.162 Q127.388 709.412 130.444 704.829 Q133.522 700.223 139.333 700.223 Z\" fill=\"#000000\" fill-rule=\"evenodd\" fill-opacity=\"1\" /><path clip-path=\"url(#clip950)\" d=\"M159.494 729.528 L164.379 729.528 L164.379 735.408 L159.494 735.408 L159.494 729.528 Z\" fill=\"#000000\" fill-rule=\"evenodd\" fill-opacity=\"1\" /><path clip-path=\"url(#clip950)\" d=\"M184.564 703.926 Q180.953 703.926 179.124 707.491 Q177.318 711.033 177.318 718.162 Q177.318 725.269 179.124 728.834 Q180.953 732.375 184.564 732.375 Q188.198 732.375 190.004 728.834 Q191.832 725.269 191.832 718.162 Q191.832 711.033 190.004 707.491 Q188.198 703.926 184.564 703.926 M184.564 700.223 Q190.374 700.223 193.429 704.829 Q196.508 709.412 196.508 718.162 Q196.508 726.889 193.429 731.496 Q190.374 736.079 184.564 736.079 Q178.754 736.079 175.675 731.496 Q172.619 726.889 172.619 718.162 Q172.619 709.412 175.675 704.829 Q178.754 700.223 184.564 700.223 Z\" fill=\"#000000\" fill-rule=\"evenodd\" fill-opacity=\"1\" /><path clip-path=\"url(#clip950)\" d=\"M214.726 703.926 Q211.115 703.926 209.286 707.491 Q207.48 711.033 207.48 718.162 Q207.48 725.269 209.286 728.834 Q211.115 732.375 214.726 732.375 Q218.36 732.375 220.165 728.834 Q221.994 725.269 221.994 718.162 Q221.994 711.033 220.165 707.491 Q218.36 703.926 214.726 703.926 M214.726 700.223 Q220.536 700.223 223.591 704.829 Q226.67 709.412 226.67 718.162 Q226.67 726.889 223.591 731.496 Q220.536 736.079 214.726 736.079 Q208.915 736.079 205.837 731.496 Q202.781 726.889 202.781 718.162 Q202.781 709.412 205.837 704.829 Q208.915 700.223 214.726 700.223 Z\" fill=\"#000000\" fill-rule=\"evenodd\" fill-opacity=\"1\" /><path clip-path=\"url(#clip950)\" d=\"M140.328 541.09 Q136.717 541.09 134.888 544.655 Q133.083 548.197 133.083 555.326 Q133.083 562.433 134.888 565.998 Q136.717 569.539 140.328 569.539 Q143.962 569.539 145.768 565.998 Q147.596 562.433 147.596 555.326 Q147.596 548.197 145.768 544.655 Q143.962 541.09 140.328 541.09 M140.328 537.387 Q146.138 537.387 149.194 541.993 Q152.272 546.577 152.272 555.326 Q152.272 564.053 149.194 568.66 Q146.138 573.243 140.328 573.243 Q134.518 573.243 131.439 568.66 Q128.384 564.053 128.384 555.326 Q128.384 546.577 131.439 541.993 Q134.518 537.387 140.328 537.387 Z\" fill=\"#000000\" fill-rule=\"evenodd\" fill-opacity=\"1\" /><path clip-path=\"url(#clip950)\" d=\"M160.49 566.692 L165.374 566.692 L165.374 572.572 L160.49 572.572 L160.49 566.692 Z\" fill=\"#000000\" fill-rule=\"evenodd\" fill-opacity=\"1\" /><path clip-path=\"url(#clip950)\" d=\"M179.587 568.637 L195.906 568.637 L195.906 572.572 L173.962 572.572 L173.962 568.637 Q176.624 565.882 181.207 561.252 Q185.814 556.6 186.994 555.257 Q189.24 552.734 190.119 550.998 Q191.022 549.239 191.022 547.549 Q191.022 544.794 189.078 543.058 Q187.156 541.322 184.055 541.322 Q181.855 541.322 179.402 542.086 Q176.971 542.85 174.193 544.401 L174.193 539.678 Q177.018 538.544 179.471 537.965 Q181.925 537.387 183.962 537.387 Q189.332 537.387 192.527 540.072 Q195.721 542.757 195.721 547.248 Q195.721 549.377 194.911 551.299 Q194.124 553.197 192.017 555.789 Q191.439 556.461 188.337 559.678 Q185.235 562.873 179.587 568.637 Z\" fill=\"#000000\" fill-rule=\"evenodd\" fill-opacity=\"1\" /><path clip-path=\"url(#clip950)\" d=\"M205.767 538.012 L224.124 538.012 L224.124 541.947 L210.05 541.947 L210.05 550.419 Q211.068 550.072 212.087 549.91 Q213.105 549.725 214.124 549.725 Q219.911 549.725 223.29 552.896 Q226.67 556.067 226.67 561.484 Q226.67 567.063 223.198 570.164 Q219.726 573.243 213.406 573.243 Q211.23 573.243 208.962 572.873 Q206.716 572.502 204.309 571.762 L204.309 567.063 Q206.392 568.197 208.615 568.752 Q210.837 569.308 213.314 569.308 Q217.318 569.308 219.656 567.201 Q221.994 565.095 221.994 561.484 Q221.994 557.873 219.656 555.766 Q217.318 553.66 213.314 553.66 Q211.439 553.66 209.564 554.076 Q207.712 554.493 205.767 555.373 L205.767 538.012 Z\" fill=\"#000000\" fill-rule=\"evenodd\" fill-opacity=\"1\" /><path clip-path=\"url(#clip950)\" d=\"M139.333 378.255 Q135.721 378.255 133.893 381.819 Q132.087 385.361 132.087 392.491 Q132.087 399.597 133.893 403.162 Q135.721 406.704 139.333 406.704 Q142.967 406.704 144.772 403.162 Q146.601 399.597 146.601 392.491 Q146.601 385.361 144.772 381.819 Q142.967 378.255 139.333 378.255 M139.333 374.551 Q145.143 374.551 148.198 379.157 Q151.277 383.741 151.277 392.491 Q151.277 401.217 148.198 405.824 Q145.143 410.407 139.333 410.407 Q133.522 410.407 130.444 405.824 Q127.388 401.217 127.388 392.491 Q127.388 383.741 130.444 379.157 Q133.522 374.551 139.333 374.551 Z\" fill=\"#000000\" fill-rule=\"evenodd\" fill-opacity=\"1\" /><path clip-path=\"url(#clip950)\" d=\"M159.494 403.856 L164.379 403.856 L164.379 409.736 L159.494 409.736 L159.494 403.856 Z\" fill=\"#000000\" fill-rule=\"evenodd\" fill-opacity=\"1\" /><path clip-path=\"url(#clip950)\" d=\"M174.61 375.176 L192.967 375.176 L192.967 379.111 L178.893 379.111 L178.893 387.583 Q179.911 387.236 180.93 387.074 Q181.948 386.889 182.967 386.889 Q188.754 386.889 192.133 390.06 Q195.513 393.231 195.513 398.648 Q195.513 404.227 192.041 407.329 Q188.568 410.407 182.249 410.407 Q180.073 410.407 177.805 410.037 Q175.559 409.667 173.152 408.926 L173.152 404.227 Q175.235 405.361 177.457 405.917 Q179.68 406.472 182.156 406.472 Q186.161 406.472 188.499 404.366 Q190.837 402.259 190.837 398.648 Q190.837 395.037 188.499 392.931 Q186.161 390.824 182.156 390.824 Q180.281 390.824 178.406 391.241 Q176.555 391.657 174.61 392.537 L174.61 375.176 Z\" fill=\"#000000\" fill-rule=\"evenodd\" fill-opacity=\"1\" /><path clip-path=\"url(#clip950)\" d=\"M214.726 378.255 Q211.115 378.255 209.286 381.819 Q207.48 385.361 207.48 392.491 Q207.48 399.597 209.286 403.162 Q211.115 406.704 214.726 406.704 Q218.36 406.704 220.165 403.162 Q221.994 399.597 221.994 392.491 Q221.994 385.361 220.165 381.819 Q218.36 378.255 214.726 378.255 M214.726 374.551 Q220.536 374.551 223.591 379.157 Q226.67 383.741 226.67 392.491 Q226.67 401.217 223.591 405.824 Q220.536 410.407 214.726 410.407 Q208.915 410.407 205.837 405.824 Q202.781 401.217 202.781 392.491 Q202.781 383.741 205.837 379.157 Q208.915 374.551 214.726 374.551 Z\" fill=\"#000000\" fill-rule=\"evenodd\" fill-opacity=\"1\" /><path clip-path=\"url(#clip950)\" d=\"M140.328 215.419 Q136.717 215.419 134.888 218.984 Q133.083 222.525 133.083 229.655 Q133.083 236.761 134.888 240.326 Q136.717 243.868 140.328 243.868 Q143.962 243.868 145.768 240.326 Q147.596 236.761 147.596 229.655 Q147.596 222.525 145.768 218.984 Q143.962 215.419 140.328 215.419 M140.328 211.715 Q146.138 211.715 149.194 216.322 Q152.272 220.905 152.272 229.655 Q152.272 238.382 149.194 242.988 Q146.138 247.571 140.328 247.571 Q134.518 247.571 131.439 242.988 Q128.384 238.382 128.384 229.655 Q128.384 220.905 131.439 216.322 Q134.518 211.715 140.328 211.715 Z\" fill=\"#000000\" fill-rule=\"evenodd\" fill-opacity=\"1\" /><path clip-path=\"url(#clip950)\" d=\"M160.49 241.021 L165.374 241.021 L165.374 246.9 L160.49 246.9 L160.49 241.021 Z\" fill=\"#000000\" fill-rule=\"evenodd\" fill-opacity=\"1\" /><path clip-path=\"url(#clip950)\" d=\"M174.379 212.34 L196.601 212.34 L196.601 214.331 L184.055 246.9 L179.17 246.9 L190.976 216.275 L174.379 216.275 L174.379 212.34 Z\" fill=\"#000000\" fill-rule=\"evenodd\" fill-opacity=\"1\" /><path clip-path=\"url(#clip950)\" d=\"M205.767 212.34 L224.124 212.34 L224.124 216.275 L210.05 216.275 L210.05 224.748 Q211.068 224.4 212.087 224.238 Q213.105 224.053 214.124 224.053 Q219.911 224.053 223.29 227.224 Q226.67 230.396 226.67 235.812 Q226.67 241.391 223.198 244.493 Q219.726 247.571 213.406 247.571 Q211.23 247.571 208.962 247.201 Q206.716 246.831 204.309 246.09 L204.309 241.391 Q206.392 242.525 208.615 243.081 Q210.837 243.636 213.314 243.636 Q217.318 243.636 219.656 241.53 Q221.994 239.423 221.994 235.812 Q221.994 232.201 219.656 230.095 Q217.318 227.988 213.314 227.988 Q211.439 227.988 209.564 228.405 Q207.712 228.822 205.767 229.701 L205.767 212.34 Z\" fill=\"#000000\" fill-rule=\"evenodd\" fill-opacity=\"1\" /><path clip-path=\"url(#clip950)\" d=\"M130.143 80.1292 L137.782 80.1292 L137.782 53.7636 L129.471 55.4303 L129.471 51.171 L137.735 49.5044 L142.411 49.5044 L142.411 80.1292 L150.05 80.1292 L150.05 84.0644 L130.143 84.0644 L130.143 80.1292 Z\" fill=\"#000000\" fill-rule=\"evenodd\" fill-opacity=\"1\" /><path clip-path=\"url(#clip950)\" d=\"M159.494 78.1848 L164.379 78.1848 L164.379 84.0644 L159.494 84.0644 L159.494 78.1848 Z\" fill=\"#000000\" fill-rule=\"evenodd\" fill-opacity=\"1\" /><path clip-path=\"url(#clip950)\" d=\"M184.564 52.5831 Q180.953 52.5831 179.124 56.1479 Q177.318 59.6895 177.318 66.8191 Q177.318 73.9256 179.124 77.4904 Q180.953 81.032 184.564 81.032 Q188.198 81.032 190.004 77.4904 Q191.832 73.9256 191.832 66.8191 Q191.832 59.6895 190.004 56.1479 Q188.198 52.5831 184.564 52.5831 M184.564 48.8794 Q190.374 48.8794 193.429 53.4858 Q196.508 58.0692 196.508 66.8191 Q196.508 75.5459 193.429 80.1524 Q190.374 84.7357 184.564 84.7357 Q178.754 84.7357 175.675 80.1524 Q172.619 75.5459 172.619 66.8191 Q172.619 58.0692 175.675 53.4858 Q178.754 48.8794 184.564 48.8794 Z\" fill=\"#000000\" fill-rule=\"evenodd\" fill-opacity=\"1\" /><path clip-path=\"url(#clip950)\" d=\"M214.726 52.5831 Q211.115 52.5831 209.286 56.1479 Q207.48 59.6895 207.48 66.8191 Q207.48 73.9256 209.286 77.4904 Q211.115 81.032 214.726 81.032 Q218.36 81.032 220.165 77.4904 Q221.994 73.9256 221.994 66.8191 Q221.994 59.6895 220.165 56.1479 Q218.36 52.5831 214.726 52.5831 M214.726 48.8794 Q220.536 48.8794 223.591 53.4858 Q226.67 58.0692 226.67 66.8191 Q226.67 75.5459 223.591 80.1524 Q220.536 84.7357 214.726 84.7357 Q208.915 84.7357 205.837 80.1524 Q202.781 75.5459 202.781 66.8191 Q202.781 58.0692 205.837 53.4858 Q208.915 48.8794 214.726 48.8794 Z\" fill=\"#000000\" fill-rule=\"evenodd\" fill-opacity=\"1\" /><path clip-path=\"url(#clip950)\" d=\"M81.0639 449.381 L59.4842 449.381 L59.4842 443.525 L80.8411 443.525 Q85.9019 443.525 88.4482 441.551 Q90.9626 439.578 90.9626 435.631 Q90.9626 430.889 87.9389 428.152 Q84.9152 425.383 79.6953 425.383 L59.4842 425.383 L59.4842 419.526 L95.1322 419.526 L95.1322 425.383 L89.6576 425.383 Q92.9042 427.515 94.4956 430.348 Q96.0552 433.149 96.0552 436.873 Q96.0552 443.016 92.2358 446.198 Q88.4163 449.381 81.0639 449.381 M58.6248 434.645 L58.6248 434.645 Z\" fill=\"#000000\" fill-rule=\"evenodd\" fill-opacity=\"1\" /><path clip-path=\"url(#clip950)\" d=\"M87.0477 405.967 L87.0477 399.251 L92.5222 399.251 L102.707 404.471 L102.707 408.577 L92.5222 405.967 L87.0477 405.967 Z\" fill=\"#000000\" fill-rule=\"evenodd\" fill-opacity=\"1\" /><path clip-path=\"url(#clip950)\" d=\"M98.4423 351.19 Q104.808 353.673 106.75 356.028 Q108.691 358.384 108.691 362.33 L108.691 367.009 L103.79 367.009 L103.79 363.572 Q103.79 361.153 102.644 359.816 Q101.498 358.479 97.2328 356.856 L94.5592 355.805 L59.4842 370.224 L59.4842 364.017 L87.366 352.877 L59.4842 341.737 L59.4842 335.531 L98.4423 351.19 Z\" fill=\"#000000\" fill-rule=\"evenodd\" fill-opacity=\"1\" /><polyline clip-path=\"url(#clip952)\" style=\"stroke:#009af9; stroke-linecap:butt; stroke-linejoin:round; stroke-width:8; stroke-opacity:1; fill:none\" points=\"\n",
       "  244.67,392.456 245.579,395.054 246.488,397.63 247.397,400.187 248.306,402.723 249.215,405.238 250.124,407.734 251.033,410.21 251.942,412.666 252.851,415.102 \n",
       "  253.76,417.519 254.669,419.917 255.578,422.295 256.487,424.655 257.396,426.996 258.305,429.318 259.214,431.621 260.123,433.906 261.032,436.173 261.941,438.422 \n",
       "  262.85,440.653 263.759,442.866 264.668,445.062 265.577,447.24 266.486,449.4 267.395,451.544 268.304,453.67 269.213,455.779 270.122,457.872 271.031,459.948 \n",
       "  271.94,462.007 272.849,464.05 273.758,466.076 274.667,468.086 275.576,470.081 276.485,472.059 277.394,474.022 278.303,475.969 279.212,477.9 280.121,479.816 \n",
       "  281.03,481.717 281.939,483.603 282.848,485.474 283.757,487.33 284.666,489.171 285.575,490.997 286.484,492.809 287.393,494.606 288.302,496.389 289.211,498.158 \n",
       "  290.12,499.913 291.029,501.654 291.938,503.381 292.847,505.094 293.756,506.793 294.665,508.479 295.574,510.152 296.483,511.811 297.392,513.456 298.301,515.089 \n",
       "  299.21,516.709 300.119,518.315 301.028,519.909 301.937,521.49 302.846,523.059 303.755,524.615 304.664,526.158 305.573,527.689 306.482,529.208 307.391,530.715 \n",
       "  308.3,532.21 309.209,533.693 310.118,535.164 311.027,536.623 311.936,538.071 312.845,539.507 313.754,540.931 314.663,542.344 315.572,543.746 316.481,545.137 \n",
       "  317.39,546.516 318.299,547.885 319.208,549.242 320.117,550.589 321.026,551.925 321.935,553.251 322.844,554.565 323.753,555.87 324.662,557.164 325.571,558.447 \n",
       "  326.48,559.721 327.389,560.984 328.298,562.237 329.207,563.48 330.116,564.713 331.025,565.937 331.934,567.15 332.843,568.354 333.752,569.549 334.661,570.734 \n",
       "  335.57,571.909 336.479,573.075 337.388,574.232 338.297,575.38 339.205,576.519 340.114,577.648 341.023,578.769 341.932,579.88 342.841,580.983 343.75,582.077 \n",
       "  344.659,583.163 345.568,584.24 346.477,585.308 347.386,586.368 348.295,587.419 349.204,588.462 350.113,589.496 351.022,590.523 351.931,591.541 352.84,592.551 \n",
       "  353.749,593.553 354.658,594.547 355.567,595.533 356.476,596.511 357.385,597.482 358.294,598.444 359.203,599.399 360.112,600.346 361.021,601.286 361.93,602.218 \n",
       "  362.839,603.143 363.748,604.061 364.657,604.971 365.566,605.873 366.475,606.769 367.384,607.657 368.293,608.538 369.202,609.412 370.111,610.28 371.02,611.14 \n",
       "  371.929,611.993 372.838,612.84 373.747,613.679 374.656,614.512 375.565,615.339 376.474,616.158 377.383,616.972 378.292,617.778 379.201,618.578 380.11,619.372 \n",
       "  381.019,620.16 381.928,620.941 382.837,621.716 383.746,622.484 384.655,623.247 385.564,624.003 386.473,624.754 387.382,625.498 388.291,626.237 389.2,626.969 \n",
       "  390.109,627.696 391.018,628.417 391.927,629.132 392.836,629.841 393.745,630.545 394.654,631.243 395.563,631.936 396.472,632.623 397.381,633.305 398.29,633.981 \n",
       "  399.199,634.652 400.108,635.317 401.017,635.977 401.926,636.632 402.835,637.282 403.744,637.927 404.653,638.566 405.562,639.2 406.471,639.83 407.38,640.454 \n",
       "  408.289,641.074 409.198,641.688 410.107,642.298 411.016,642.903 411.925,643.503 412.834,644.098 413.743,644.688 414.652,645.274 415.561,645.855 416.47,646.432 \n",
       "  417.379,647.003 418.288,647.571 419.197,648.133 420.106,648.692 421.015,649.246 421.924,649.795 422.833,650.34 423.742,650.881 424.651,651.417 425.56,651.949 \n",
       "  426.469,652.477 427.378,653.001 428.287,653.52 429.196,654.035 430.105,654.547 431.014,655.054 431.923,655.557 432.832,656.056 433.741,656.551 434.65,657.042 \n",
       "  435.559,657.529 436.468,658.013 437.377,658.492 438.286,658.968 439.195,659.44 440.104,659.908 441.013,660.372 441.922,660.833 442.831,661.29 443.74,661.743 \n",
       "  444.649,662.193 445.558,662.639 446.467,663.081 447.376,663.521 448.285,663.956 449.194,664.388 450.103,664.817 451.012,665.242 451.921,665.664 452.83,666.082 \n",
       "  453.739,666.497 454.648,666.909 455.557,667.318 456.466,667.723 457.375,668.125 458.284,668.524 459.193,668.919 460.102,669.312 461.011,669.701 461.92,670.088 \n",
       "  462.829,670.471 463.738,670.851 464.647,671.228 465.556,671.602 466.465,671.973 467.374,672.341 468.283,672.706 469.192,673.069 470.101,673.428 471.01,673.785 \n",
       "  471.919,673.784 472.828,673.078 473.737,671.729 474.646,669.801 475.555,667.353 476.464,664.442 477.373,661.123 478.282,657.447 479.191,653.464 480.1,649.219 \n",
       "  481.009,644.756 481.918,640.117 482.827,635.339 483.736,630.459 484.645,625.508 485.554,620.518 486.463,615.515 487.372,610.526 488.281,605.571 489.19,600.67 \n",
       "  490.099,595.841 491.008,591.097 491.917,586.451 492.826,581.909 493.735,577.48 494.644,573.166 495.553,568.967 496.462,564.883 497.371,560.908 498.28,557.035 \n",
       "  499.189,553.254 500.098,549.553 501.007,545.916 501.916,542.325 502.825,538.759 503.734,535.196 504.643,531.608 505.552,527.967 506.461,524.29 507.37,520.641 \n",
       "  508.279,517.021 509.188,513.43 510.097,509.867 511.006,506.333 511.915,502.827 512.824,499.35 513.733,495.899 514.642,492.477 515.551,489.081 516.459,485.713 \n",
       "  517.368,482.372 518.277,479.057 519.186,475.769 520.095,472.507 521.004,469.271 521.913,466.06 522.822,462.876 523.731,459.717 524.64,456.583 525.549,453.474 \n",
       "  526.458,450.389 527.367,447.33 528.276,444.294 529.185,441.283 530.094,438.296 531.003,435.333 531.912,432.394 532.821,429.477 533.73,426.584 534.639,423.714 \n",
       "  535.548,420.866 536.457,418.041 537.366,415.238 538.275,412.458 539.184,409.7 540.093,406.964 541.002,404.249 541.911,401.556 542.82,398.885 543.729,396.235 \n",
       "  544.638,393.606 545.547,390.997 546.456,388.41 547.365,385.844 548.274,383.297 549.183,380.772 550.092,378.266 551.001,375.78 551.91,373.314 552.819,370.868 \n",
       "  553.728,368.442 554.637,366.035 555.546,363.647 556.455,361.278 557.364,358.929 558.273,356.598 559.182,354.286 560.091,351.992 561,349.716 561.909,347.459 \n",
       "  562.818,345.22 563.727,342.999 564.636,340.796 565.545,338.61 566.454,336.442 567.363,334.291 568.272,332.158 569.181,330.042 570.09,327.942 570.999,325.859 \n",
       "  571.908,323.794 572.817,321.744 573.726,319.711 574.635,317.695 575.544,315.694 576.453,313.71 577.362,311.741 578.271,309.788 579.18,307.851 580.089,305.929 \n",
       "  580.998,304.023 581.907,302.132 582.816,300.256 583.725,298.395 584.634,296.549 585.543,294.718 586.452,292.901 587.361,291.099 588.27,289.311 589.179,287.538 \n",
       "  590.088,285.778 590.997,284.033 591.906,282.301 592.815,280.584 593.724,278.88 594.633,277.189 595.542,275.512 596.451,273.849 597.36,272.198 598.269,270.561 \n",
       "  599.178,268.936 600.087,267.325 600.996,265.726 601.905,264.14 602.814,262.567 603.723,261.006 604.632,259.457 605.541,257.92 606.45,256.396 607.359,254.884 \n",
       "  608.268,253.383 609.177,251.895 610.086,250.418 610.995,248.953 611.904,247.5 612.813,246.058 613.722,244.628 614.631,243.209 615.54,241.801 616.449,240.405 \n",
       "  617.358,239.019 618.267,237.645 619.176,236.281 620.085,234.929 620.994,233.587 621.903,232.256 622.812,230.936 623.721,229.626 624.63,228.326 625.539,227.037 \n",
       "  626.448,225.758 627.357,224.49 628.266,223.231 629.175,221.983 630.084,220.745 630.993,219.516 631.902,218.298 632.811,217.089 633.72,215.89 634.629,214.7 \n",
       "  635.538,213.52 636.447,212.349 637.356,211.188 638.265,210.036 639.174,208.893 640.083,207.76 640.992,206.635 641.901,205.52 642.81,204.413 643.719,203.316 \n",
       "  644.628,202.227 645.537,201.147 646.446,200.075 647.355,199.012 648.264,197.958 649.173,196.912 650.082,195.874 650.991,194.845 651.9,193.824 652.809,192.811 \n",
       "  653.718,191.807 654.627,190.81 655.536,189.821 656.445,188.84 657.354,187.867 658.263,186.902 659.172,185.945 660.081,184.995 660.99,184.053 661.899,183.118 \n",
       "  662.808,182.191 663.717,181.271 664.626,180.358 665.535,179.453 666.444,178.555 667.353,177.664 668.262,176.781 669.171,175.904 670.08,175.034 670.989,174.171 \n",
       "  671.898,173.315 672.807,172.466 673.716,171.624 674.625,170.788 675.534,169.959 676.443,169.136 677.352,168.32 678.261,167.51 679.17,166.707 680.079,165.91 \n",
       "  680.988,165.12 681.897,164.335 682.806,163.557 683.715,162.785 684.624,162.019 685.533,161.259 686.442,160.505 687.351,159.756 688.26,159.014 689.169,158.277 \n",
       "  690.078,157.547 690.987,156.821 691.896,156.102 692.805,155.388 693.713,154.68 694.622,153.978 695.531,153.281 696.44,152.59 697.349,151.904 698.258,151.223 \n",
       "  699.167,150.548 700.076,149.878 700.985,149.214 701.894,148.555 702.803,147.901 703.712,147.252 704.621,146.609 705.53,145.971 706.439,145.338 707.348,144.709 \n",
       "  708.257,144.086 709.166,143.468 710.075,142.855 710.984,142.247 711.893,141.644 712.802,141.045 713.711,140.452 714.62,139.863 715.529,139.279 716.438,138.699 \n",
       "  717.347,138.125 718.256,137.554 719.165,136.989 720.074,136.428 720.983,135.872 721.892,135.32 722.801,134.773 723.71,134.23 724.619,133.691 725.528,133.157 \n",
       "  726.437,132.627 727.346,132.102 728.255,131.58 729.164,131.063 730.073,130.55 730.982,130.042 731.891,129.537 732.8,129.037 733.709,128.54 734.618,128.048 \n",
       "  735.527,127.56 736.436,127.075 737.345,126.595 738.254,126.119 739.163,125.646 740.072,125.177 740.981,124.712 741.89,124.251 742.799,123.793 743.708,123.34 \n",
       "  744.617,122.89 745.526,122.443 746.435,122 747.344,121.561 748.253,121.126 749.162,120.693 750.071,120.265 750.98,119.84 751.889,119.418 752.798,119 \n",
       "  753.707,118.585 754.616,118.173 755.525,117.765 756.434,117.36 757.343,116.958 758.252,116.56 759.161,116.164 760.07,115.772 760.979,115.383 761.888,114.997 \n",
       "  762.797,114.614 763.706,114.235 764.615,113.858 765.524,113.484 766.433,113.113 767.342,112.746 768.251,112.381 769.16,112.019 770.069,111.659 770.978,111.303 \n",
       "  771.887,110.95 772.796,110.599 773.705,110.251 774.614,109.905 775.523,109.563 776.432,109.223 777.341,108.885 778.25,108.551 779.159,108.219 780.068,107.889 \n",
       "  780.977,107.562 781.886,107.237 782.795,106.915 783.704,106.596 784.613,106.279 785.522,105.964 786.431,105.651 787.34,105.341 788.249,105.034 789.158,104.728 \n",
       "  790.067,104.425 790.976,104.125 791.885,103.826 792.794,103.53 793.703,103.237 794.612,102.945 795.521,102.656 796.43,102.369 797.339,102.085 798.248,101.802 \n",
       "  799.157,101.522 800.066,101.244 800.975,100.968 801.884,100.694 802.793,100.423 803.702,100.153 804.611,99.8861 805.52,99.6209 806.429,99.3579 807.338,99.0969 \n",
       "  808.247,98.838 809.156,98.5812 810.065,98.3264 810.974,98.0736 811.883,97.8228 812.792,97.5741 813.701,97.3273 814.61,97.0826 815.519,96.8398 816.428,96.5989 \n",
       "  817.337,96.36 818.246,96.123 819.155,95.8879 820.064,95.6547 820.973,95.4234 821.882,95.1939 822.791,94.9664 823.7,94.7406 824.609,94.5167 825.518,94.2947 \n",
       "  826.427,94.0744 827.336,93.8559 828.245,93.6392 829.154,93.4243 830.063,93.2111 830.972,92.9996 831.881,92.7899 832.79,92.5819 833.699,92.3757 834.608,92.1711 \n",
       "  835.517,91.9681 836.426,91.7669 837.335,91.5673 838.244,91.3693 839.153,91.173 840.062,90.9783 840.971,90.7851 841.88,90.5936 842.789,90.4037 843.698,90.2153 \n",
       "  844.607,90.0284 845.516,89.8431 846.425,89.6594 847.334,89.4771 848.243,89.2964 849.152,89.1171 850.061,88.9393 850.97,88.763 851.879,88.5881 852.788,88.4147 \n",
       "  853.697,88.2427 854.606,88.0721 855.515,87.903 856.424,87.7352 857.333,87.5688 858.242,87.4038 859.151,87.2401 860.06,87.0778 860.969,86.9168 861.878,86.7571 \n",
       "  862.787,86.5988 863.696,86.4417 864.605,86.2859 865.514,86.1314 866.423,85.9782 867.332,85.8262 868.241,85.6755 869.15,85.526 870.059,85.3777 870.967,85.2306 \n",
       "  871.876,85.0846 872.785,84.9399 873.694,84.7964 874.603,84.654 875.512,84.5127 876.421,84.3726 877.33,84.2336 878.239,84.0958 879.148,83.959 880.057,83.8233 \n",
       "  880.966,83.6887 881.875,83.5552 882.784,83.4227 883.693,83.2913 884.602,83.1609 885.511,83.0315 886.42,82.9031 887.329,82.7758 888.238,82.6494 889.147,82.524 \n",
       "  890.056,82.3996 890.965,82.2761 891.874,82.1536 892.783,82.032 893.692,81.9113 894.601,81.7916 895.51,81.6728 896.419,81.5548 897.328,81.4377 898.237,81.3215 \n",
       "  899.146,81.2062 900.055,81.0917 900.964,80.9781 901.873,80.8652 902.782,80.7532 903.691,80.642 904.6,80.5316 905.509,80.422 906.418,80.3132 907.327,80.2052 \n",
       "  908.236,80.0979 909.145,79.9915 910.054,79.8858 910.963,79.7809 911.872,79.6768 912.781,79.5735 913.69,79.4709 914.599,79.3691 915.508,79.268 916.417,79.1677 \n",
       "  917.326,79.0682 918.235,78.9694 919.144,78.8714 920.053,78.7741 920.962,78.6775 921.871,78.5817 922.78,78.4866 923.689,78.3922 924.598,78.2986 925.507,78.2057 \n",
       "  926.416,78.1135 927.325,78.022 928.234,77.9313 929.143,77.8412 930.052,77.7519 930.961,77.6632 931.87,77.5753 932.779,77.488 933.688,77.4014 934.597,77.3155 \n",
       "  935.506,77.2303 936.415,77.1458 937.324,77.062 938.233,76.9788 939.142,76.8963 940.051,76.8144 940.96,76.7332 941.869,76.6527 942.778,76.5728 943.687,76.4936 \n",
       "  944.596,76.415 945.505,76.3371 946.414,76.2598 947.323,76.1831 948.232,76.107 949.141,76.0316 950.05,75.9568 950.959,75.8827 951.868,75.8091 952.777,75.7362 \n",
       "  953.686,75.6638 954.595,75.5921 955.504,75.521 956.413,75.4504 957.322,75.3805 958.231,75.3111 959.14,75.2423 960.049,75.1742 960.958,75.1065 961.867,75.0395 \n",
       "  962.776,74.973 963.685,74.9071 964.594,74.8418 965.503,74.777 966.412,74.7128 967.321,74.6491 968.23,74.586 969.139,74.5234 970.048,74.4613 970.957,74.3998 \n",
       "  971.866,74.3388 972.775,74.2783 973.684,74.2184 974.593,74.159 975.502,74.1001 976.411,74.0417 977.32,73.9838 978.229,73.9264 979.138,73.8695 980.047,73.8131 \n",
       "  980.956,73.7572 981.865,73.7018 982.774,73.6469 983.683,73.5925 984.592,73.5385 985.501,73.485 986.41,73.432 987.319,73.3794 988.228,73.3273 989.137,73.2756 \n",
       "  990.046,73.2244 990.955,73.1737 991.864,73.1233 992.773,73.0735 993.682,73.024 994.591,72.975 995.5,72.9264 996.409,72.8783 997.318,72.8305 998.227,72.7832 \n",
       "  999.136,72.7363 1000.04,72.6898 1000.95,72.6437 1001.86,72.598 1002.77,72.5527 1003.68,72.5077 1004.59,72.4632 1005.5,72.419 1006.41,72.3753 1007.32,72.3319 \n",
       "  1008.23,72.2888 1009.13,72.2462 1010.04,72.2038 1010.95,72.1619 1011.86,72.1203 1012.77,72.079 1013.68,72.0381 1014.59,71.9976 1015.5,71.9573 1016.41,71.9174 \n",
       "  1017.32,71.8779 1018.22,71.8386 1019.13,71.7997 1020.04,71.7611 1020.95,71.7228 1021.86,71.6848 1022.77,71.6471 1023.68,71.6097 1024.59,71.5726 1025.5,71.5357 \n",
       "  1026.41,71.4992 1027.31,71.463 1028.22,71.427 1029.13,71.3913 1030.04,71.3558 1030.95,71.3207 1031.86,71.2858 1032.77,71.2511 1033.68,71.2167 1034.59,71.1825 \n",
       "  1035.5,71.1486 1036.4,71.1149 1037.31,71.0815 1038.22,71.0483 1039.13,71.0153 1040.04,70.9825 1040.95,70.9499 1041.86,70.9176 1042.77,70.8855 1043.68,70.8535 \n",
       "  1044.59,70.8218 1045.49,70.7902 1046.4,70.7589 1047.31,70.7277 1048.22,70.6967 1049.13,70.6659 1050.04,70.6353 1050.95,70.6048 1051.86,70.5745 1052.77,70.5443 \n",
       "  1053.68,70.5143 1054.58,70.4846 1055.49,70.455 1056.4,70.4258 1057.31,70.3967 1058.22,70.3679 1059.13,70.3392 1060.04,70.3109 1060.95,70.2827 1061.86,70.2548 \n",
       "  1062.77,70.2271 1063.67,70.1996 1064.58,70.1723 1065.49,70.1452 1066.4,70.1184 1067.31,70.0917 1068.22,70.0653 1069.13,70.0391 1070.04,70.0131 1070.95,69.9873 \n",
       "  1071.86,69.9617 1072.76,69.9363 1073.67,69.9111 1074.58,69.8861 1075.49,69.8613 1076.4,69.8367 1077.31,69.8123 1078.22,69.7881 1079.13,69.7641 1080.04,69.7403 \n",
       "  1080.95,69.7167 1081.85,69.6933 1082.76,69.67 1083.67,69.647 1084.58,69.6241 1085.49,69.6014 1086.4,69.5789 1087.31,69.5566 1088.22,69.5345 1089.13,69.5125 \n",
       "  1090.04,69.4907 1090.94,69.4691 1091.85,69.4477 1092.76,69.4264 1093.67,69.4053 1094.58,69.3844 1095.49,69.3636 1096.4,69.343 1097.31,69.3226 1098.22,69.3024 \n",
       "  1099.13,69.2823 1100.03,69.2624 1100.94,69.2426 1101.85,69.223 1102.76,69.2036 1103.67,69.1843 1104.58,69.1651 1105.49,69.1462 1106.4,69.1273 1107.31,69.1087 \n",
       "  1108.22,69.0902 1109.12,69.0718 1110.03,69.0536 1110.94,69.0355 1111.85,69.0176 1112.76,68.9998 1113.67,68.9821 1114.58,68.9646 1115.49,68.9473 1116.4,68.9301 \n",
       "  1117.31,68.913 1118.21,68.8961 1119.12,68.8793 1120.03,68.8626 1120.94,68.8461 1121.85,68.8297 1122.76,68.8134 1123.67,68.7973 1124.58,68.7813 1125.49,68.7654 \n",
       "  1126.4,68.7496 1127.3,68.734 1128.21,68.7185 1129.12,68.7031 1130.03,68.6879 1130.94,68.6728 1131.85,68.6578 1132.76,68.6429 1133.67,68.6281 1134.58,68.6134 \n",
       "  1135.49,68.5989 1136.39,68.5845 1137.3,68.5702 1138.21,68.556 1139.12,68.5419 1140.03,68.5279 1140.94,68.514 1141.85,68.5003 1142.76,68.4866 1143.67,68.4731 \n",
       "  1144.57,68.4597 1145.48,68.4463 1146.39,68.4331 1147.3,68.42 1148.21,68.4069 1149.12,68.394 1150.03,68.3812 1150.94,68.3685 1151.85,68.3558 1152.76,68.3433 \n",
       "  \n",
       "  \"/>\n",
       "<polyline clip-path=\"url(#clip952)\" style=\"stroke:#ff0000; stroke-linecap:butt; stroke-linejoin:round; stroke-width:4; stroke-opacity:1; fill:none\" points=\"\n",
       "  244.67,718.128 244.897,718.128 245.124,718.128 245.351,718.128 245.578,718.128 245.805,718.128 246.032,718.128 246.259,718.128 246.486,718.128 246.713,718.128 \n",
       "  246.94,718.128 247.167,718.128 247.394,718.128 247.621,718.128 247.848,718.128 248.075,718.128 248.302,718.128 248.529,718.128 248.756,718.128 248.983,718.128 \n",
       "  249.21,718.128 249.437,718.128 249.665,718.128 249.892,718.128 250.119,718.128 250.346,718.128 250.573,718.128 250.8,718.128 251.027,718.128 251.254,718.128 \n",
       "  251.481,718.128 251.708,718.128 251.935,718.128 252.162,718.128 252.389,718.128 252.616,718.128 252.843,718.128 253.07,718.128 253.297,718.128 253.524,718.128 \n",
       "  253.751,718.128 253.978,718.128 254.205,718.128 254.432,718.128 254.659,718.128 254.886,718.128 255.113,718.128 255.34,718.128 255.567,718.128 255.794,718.128 \n",
       "  256.021,718.128 256.248,718.128 256.475,718.128 256.702,718.128 256.929,718.128 257.156,718.128 257.383,718.128 257.61,718.128 257.837,718.128 258.064,718.128 \n",
       "  258.291,718.128 258.518,718.128 258.745,718.128 258.972,718.128 259.199,718.128 259.426,718.128 259.653,718.128 259.88,718.128 260.107,718.128 260.335,718.128 \n",
       "  260.562,718.128 260.789,718.128 261.016,718.128 261.243,718.128 261.47,718.128 261.697,718.128 261.924,718.128 262.151,718.128 262.378,718.128 262.605,718.128 \n",
       "  262.832,718.128 263.059,718.128 263.286,718.128 263.513,718.128 263.74,718.128 263.967,718.128 264.194,718.128 264.421,718.128 264.648,718.128 264.875,718.128 \n",
       "  265.102,718.128 265.329,718.128 265.556,718.128 265.783,718.128 266.01,718.128 266.237,718.128 266.464,718.128 266.691,718.128 266.918,718.128 267.145,718.128 \n",
       "  267.372,718.128 267.599,718.128 267.826,718.128 268.053,718.128 268.28,718.128 268.507,718.128 268.734,718.128 268.961,718.128 269.188,718.128 269.415,718.128 \n",
       "  269.642,718.128 269.869,718.128 270.096,718.128 270.323,718.128 270.55,718.128 270.778,718.128 271.005,718.128 271.232,718.128 271.459,718.128 271.686,718.128 \n",
       "  271.913,718.128 272.14,718.128 272.367,718.128 272.594,718.128 272.821,718.128 273.048,718.128 273.275,718.128 273.502,718.128 273.729,718.128 273.956,718.128 \n",
       "  274.183,718.128 274.41,718.128 274.637,718.128 274.864,718.128 275.091,718.128 275.318,718.128 275.545,718.128 275.772,718.128 275.999,718.128 276.226,718.128 \n",
       "  276.453,718.128 276.68,718.128 276.907,718.128 277.134,718.128 277.361,718.128 277.588,718.128 277.815,718.128 278.042,718.128 278.269,718.128 278.496,718.128 \n",
       "  278.723,718.128 278.95,718.128 279.177,718.128 279.404,718.128 279.631,718.128 279.858,718.128 280.085,718.128 280.312,718.128 280.539,718.128 280.766,718.128 \n",
       "  280.993,718.128 281.22,718.128 281.448,718.128 281.675,718.128 281.902,718.128 282.129,718.128 282.356,718.128 282.583,718.128 282.81,718.128 283.037,718.128 \n",
       "  283.264,718.128 283.491,718.128 283.718,718.128 283.945,718.128 284.172,718.128 284.399,718.128 284.626,718.128 284.853,718.128 285.08,718.128 285.307,718.128 \n",
       "  285.534,718.128 285.761,718.128 285.988,718.128 286.215,718.128 286.442,718.128 286.669,718.128 286.896,718.128 287.123,718.128 287.35,718.128 287.577,718.128 \n",
       "  287.804,718.128 288.031,718.128 288.258,718.128 288.485,718.128 288.712,718.128 288.939,718.128 289.166,718.128 289.393,718.128 289.62,718.128 289.847,718.128 \n",
       "  290.074,718.128 290.301,718.128 290.528,718.128 290.755,718.128 290.982,718.128 291.209,718.128 291.436,718.128 291.663,718.128 291.89,718.128 292.118,718.128 \n",
       "  292.345,718.128 292.572,718.128 292.799,718.128 293.026,718.128 293.253,718.128 293.48,718.128 293.707,718.128 293.934,718.128 294.161,718.128 294.388,718.128 \n",
       "  294.615,718.128 294.842,718.128 295.069,718.128 295.296,718.128 295.523,718.128 295.75,718.128 295.977,718.128 296.204,718.128 296.431,718.128 296.658,718.128 \n",
       "  296.885,718.128 297.112,718.128 297.339,718.128 297.566,718.128 297.793,718.128 298.02,718.128 298.247,718.128 298.474,718.128 298.701,718.128 298.928,718.128 \n",
       "  299.155,718.128 299.382,718.128 299.609,718.128 299.836,718.128 300.063,718.128 300.29,718.128 300.517,718.128 300.744,718.128 300.971,718.128 301.198,718.128 \n",
       "  301.425,718.128 301.652,718.128 301.879,718.128 302.106,718.128 302.333,718.128 302.561,718.128 302.788,718.128 303.015,718.128 303.242,718.128 303.469,718.128 \n",
       "  303.696,718.128 303.923,718.128 304.15,718.128 304.377,718.128 304.604,718.128 304.831,718.128 305.058,718.128 305.285,718.128 305.512,718.128 305.739,718.128 \n",
       "  305.966,718.128 306.193,718.128 306.42,718.128 306.647,718.128 306.874,718.128 307.101,718.128 307.328,718.128 307.555,718.128 307.782,718.128 308.009,718.128 \n",
       "  308.236,718.128 308.463,718.128 308.69,718.128 308.917,718.128 309.144,718.128 309.371,718.128 309.598,718.128 309.825,718.128 310.052,718.128 310.279,718.128 \n",
       "  310.506,718.128 310.733,718.128 310.96,718.128 311.187,718.128 311.414,718.128 311.641,718.128 311.868,718.128 312.095,718.128 312.322,718.128 312.549,718.128 \n",
       "  312.776,718.128 313.003,718.128 313.231,718.128 313.458,718.128 313.685,718.128 313.912,718.128 314.139,718.128 314.366,718.128 314.593,718.128 314.82,718.128 \n",
       "  315.047,718.128 315.274,718.128 315.501,718.128 315.728,718.128 315.955,718.128 316.182,718.128 316.409,718.128 316.636,718.128 316.863,718.128 317.09,718.128 \n",
       "  317.317,718.128 317.544,718.128 317.771,718.128 317.998,718.128 318.225,718.128 318.452,718.128 318.679,718.128 318.906,718.128 319.133,718.128 319.36,718.128 \n",
       "  319.587,718.128 319.814,718.128 320.041,718.128 320.268,718.128 320.495,718.128 320.722,718.128 320.949,718.128 321.176,718.128 321.403,718.128 321.63,718.128 \n",
       "  321.857,718.128 322.084,718.128 322.311,718.128 322.538,718.128 322.765,718.128 322.992,718.128 323.219,718.128 323.446,718.128 323.674,718.128 323.901,718.128 \n",
       "  324.128,718.128 324.355,718.128 324.582,718.128 324.809,718.128 325.036,718.128 325.263,718.128 325.49,718.128 325.717,718.128 325.944,718.128 326.171,718.128 \n",
       "  326.398,718.128 326.625,718.128 326.852,718.128 327.079,718.128 327.306,718.128 327.533,718.128 327.76,718.128 327.987,718.128 328.214,718.128 328.441,718.128 \n",
       "  328.668,718.128 328.895,718.128 329.122,718.128 329.349,718.128 329.576,718.128 329.803,718.128 330.03,718.128 330.257,718.128 330.484,718.128 330.711,718.128 \n",
       "  330.938,718.128 331.165,718.128 331.392,718.128 331.619,718.128 331.846,718.128 332.073,718.128 332.3,718.128 332.527,718.128 332.754,718.128 332.981,718.128 \n",
       "  333.208,718.128 333.435,718.128 333.662,718.128 333.889,718.128 334.116,718.128 334.344,718.128 334.571,718.128 334.798,718.128 335.025,718.128 335.252,718.128 \n",
       "  335.479,718.128 335.706,718.128 335.933,718.128 336.16,718.128 336.387,718.128 336.614,718.128 336.841,718.128 337.068,718.128 337.295,718.128 337.522,718.128 \n",
       "  337.749,718.128 337.976,718.128 338.203,718.128 338.43,718.128 338.657,718.128 338.884,718.128 339.111,718.128 339.338,718.128 339.565,718.128 339.792,718.128 \n",
       "  340.019,718.128 340.246,718.128 340.473,718.128 340.7,718.128 340.927,718.128 341.154,718.128 341.381,718.128 341.608,718.128 341.835,718.128 342.062,718.128 \n",
       "  342.289,718.128 342.516,718.128 342.743,718.128 342.97,718.128 343.197,718.128 343.424,718.128 343.651,718.128 343.878,718.128 344.105,718.128 344.332,718.128 \n",
       "  344.559,718.128 344.787,718.128 345.014,718.128 345.241,718.128 345.468,718.128 345.695,718.128 345.922,718.128 346.149,718.128 346.376,718.128 346.603,718.128 \n",
       "  346.83,718.128 347.057,718.128 347.284,718.128 347.511,718.128 347.738,718.128 347.965,718.128 348.192,718.128 348.419,718.128 348.646,718.128 348.873,718.128 \n",
       "  349.1,718.128 349.327,718.128 349.554,718.128 349.781,718.128 350.008,718.128 350.235,718.128 350.462,718.128 350.689,718.128 350.916,718.128 351.143,718.128 \n",
       "  351.37,718.128 351.597,718.128 351.824,718.128 352.051,718.128 352.278,718.128 352.505,718.128 352.732,718.128 352.959,718.128 353.186,718.128 353.413,718.128 \n",
       "  353.64,718.128 353.867,718.128 354.094,718.128 354.321,718.128 354.548,718.128 354.775,718.128 355.002,718.128 355.229,718.128 355.457,718.128 355.684,718.128 \n",
       "  355.911,718.128 356.138,718.128 356.365,718.128 356.592,718.128 356.819,718.128 357.046,718.128 357.273,718.128 357.5,718.128 357.727,718.128 357.954,718.128 \n",
       "  358.181,718.128 358.408,718.128 358.635,718.128 358.862,718.128 359.089,718.128 359.316,718.128 359.543,718.128 359.77,718.128 359.997,718.128 360.224,718.128 \n",
       "  360.451,718.128 360.678,718.128 360.905,718.128 361.132,718.128 361.359,718.128 361.586,718.128 361.813,718.128 362.04,718.128 362.267,718.128 362.494,718.128 \n",
       "  362.721,718.128 362.948,718.128 363.175,718.128 363.402,718.128 363.629,718.128 363.856,718.128 364.083,718.128 364.31,718.128 364.537,718.128 364.764,718.128 \n",
       "  364.991,718.128 365.218,718.128 365.445,718.128 365.672,718.128 365.899,718.128 366.127,718.128 366.354,718.128 366.581,718.128 366.808,718.128 367.035,718.128 \n",
       "  367.262,718.128 367.489,718.128 367.716,718.128 367.943,718.128 368.17,718.128 368.397,718.128 368.624,718.128 368.851,718.128 369.078,718.128 369.305,718.128 \n",
       "  369.532,718.128 369.759,718.128 369.986,718.128 370.213,718.128 370.44,718.128 370.667,718.128 370.894,718.128 371.121,718.128 371.348,718.128 371.575,718.128 \n",
       "  371.802,718.128 372.029,718.128 372.256,718.128 372.483,718.128 372.71,718.128 372.937,718.128 373.164,718.128 373.391,718.128 373.618,718.128 373.845,718.128 \n",
       "  374.072,718.128 374.299,718.128 374.526,718.128 374.753,718.128 374.98,718.128 375.207,718.128 375.434,718.128 375.661,718.128 375.888,718.128 376.115,718.128 \n",
       "  376.342,718.128 376.57,718.128 376.797,718.128 377.024,718.128 377.251,718.128 377.478,718.128 377.705,718.128 377.932,718.128 378.159,718.128 378.386,718.128 \n",
       "  378.613,718.128 378.84,718.128 379.067,718.128 379.294,718.128 379.521,718.128 379.748,718.128 379.975,718.128 380.202,718.128 380.429,718.128 380.656,718.128 \n",
       "  380.883,718.128 381.11,718.128 381.337,718.128 381.564,718.128 381.791,718.128 382.018,718.128 382.245,718.128 382.472,718.128 382.699,718.128 382.926,718.128 \n",
       "  383.153,718.128 383.38,718.128 383.607,718.128 383.834,718.128 384.061,718.128 384.288,718.128 384.515,718.128 384.742,718.128 384.969,718.128 385.196,718.128 \n",
       "  385.423,718.128 385.65,718.128 385.877,718.128 386.104,718.128 386.331,718.128 386.558,718.128 386.785,718.128 387.012,718.128 387.24,718.128 387.467,718.128 \n",
       "  387.694,718.128 387.921,718.128 388.148,718.128 388.375,718.128 388.602,718.128 388.829,718.128 389.056,718.128 389.283,718.128 389.51,718.128 389.737,718.128 \n",
       "  389.964,718.128 390.191,718.128 390.418,718.128 390.645,718.128 390.872,718.128 391.099,718.128 391.326,718.128 391.553,718.128 391.78,718.128 392.007,718.128 \n",
       "  392.234,718.128 392.461,718.128 392.688,718.128 392.915,718.128 393.142,718.128 393.369,718.128 393.596,718.128 393.823,718.128 394.05,718.128 394.277,718.128 \n",
       "  394.504,718.128 394.731,718.128 394.958,718.128 395.185,718.128 395.412,718.128 395.639,718.128 395.866,718.128 396.093,718.128 396.32,718.128 396.547,718.128 \n",
       "  396.774,718.128 397.001,718.128 397.228,718.128 397.455,718.128 397.683,718.128 397.91,718.128 398.137,718.128 398.364,718.128 398.591,718.128 398.818,718.128 \n",
       "  399.045,718.128 399.272,718.128 399.499,718.128 399.726,718.128 399.953,718.128 400.18,718.128 400.407,718.128 400.634,718.128 400.861,718.128 401.088,718.128 \n",
       "  401.315,718.128 401.542,718.128 401.769,718.128 401.996,718.128 402.223,718.128 402.45,718.128 402.677,718.128 402.904,718.128 403.131,718.128 403.358,718.128 \n",
       "  403.585,718.128 403.812,718.128 404.039,718.128 404.266,718.128 404.493,718.128 404.72,718.128 404.947,718.128 405.174,718.128 405.401,718.128 405.628,718.128 \n",
       "  405.855,718.128 406.082,718.128 406.309,718.128 406.536,718.128 406.763,718.128 406.99,718.128 407.217,718.128 407.444,718.128 407.671,718.128 407.898,718.128 \n",
       "  408.125,718.128 408.353,718.128 408.58,718.128 408.807,718.128 409.034,718.128 409.261,718.128 409.488,718.128 409.715,718.128 409.942,718.128 410.169,718.128 \n",
       "  410.396,718.128 410.623,718.128 410.85,718.128 411.077,718.128 411.304,718.128 411.531,718.128 411.758,718.128 411.985,718.128 412.212,718.128 412.439,718.128 \n",
       "  412.666,718.128 412.893,718.128 413.12,718.128 413.347,718.128 413.574,718.128 413.801,718.128 414.028,718.128 414.255,718.128 414.482,718.128 414.709,718.128 \n",
       "  414.936,718.128 415.163,718.128 415.39,718.128 415.617,718.128 415.844,718.128 416.071,718.128 416.298,718.128 416.525,718.128 416.752,718.128 416.979,718.128 \n",
       "  417.206,718.128 417.433,718.128 417.66,718.128 417.887,718.128 418.114,718.128 418.341,718.128 418.568,718.128 418.795,718.128 419.023,718.128 419.25,718.128 \n",
       "  419.477,718.128 419.704,718.128 419.931,718.128 420.158,718.128 420.385,718.128 420.612,718.128 420.839,718.128 421.066,718.128 421.293,718.128 421.52,718.128 \n",
       "  421.747,718.128 421.974,718.128 422.201,718.128 422.428,718.128 422.655,718.128 422.882,718.128 423.109,718.128 423.336,718.128 423.563,718.128 423.79,718.128 \n",
       "  424.017,718.128 424.244,718.128 424.471,718.128 424.698,718.128 424.925,718.128 425.152,718.128 425.379,718.128 425.606,718.128 425.833,718.128 426.06,718.128 \n",
       "  426.287,718.128 426.514,718.128 426.741,718.128 426.968,718.128 427.195,718.128 427.422,718.128 427.649,718.128 427.876,718.128 428.103,718.128 428.33,718.128 \n",
       "  428.557,718.128 428.784,718.128 429.011,718.128 429.238,718.128 429.466,718.128 429.693,718.128 429.92,718.128 430.147,718.128 430.374,718.128 430.601,718.128 \n",
       "  430.828,718.128 431.055,718.128 431.282,718.128 431.509,718.128 431.736,718.128 431.963,718.128 432.19,718.128 432.417,718.128 432.644,718.128 432.871,718.128 \n",
       "  433.098,718.128 433.325,718.128 433.552,718.128 433.779,718.128 434.006,718.128 434.233,718.128 434.46,718.128 434.687,718.128 434.914,718.128 435.141,718.128 \n",
       "  435.368,718.128 435.595,718.128 435.822,718.128 436.049,718.128 436.276,718.128 436.503,718.128 436.73,718.128 436.957,718.128 437.184,718.128 437.411,718.128 \n",
       "  437.638,718.128 437.865,718.128 438.092,718.128 438.319,718.128 438.546,718.128 438.773,718.128 439,718.128 439.227,718.128 439.454,718.128 439.681,718.128 \n",
       "  439.908,718.128 440.136,718.128 440.363,718.128 440.59,718.128 440.817,718.128 441.044,718.128 441.271,718.128 441.498,718.128 441.725,718.128 441.952,718.128 \n",
       "  442.179,718.128 442.406,718.128 442.633,718.128 442.86,718.128 443.087,718.128 443.314,718.128 443.541,718.128 443.768,718.128 443.995,718.128 444.222,718.128 \n",
       "  444.449,718.128 444.676,718.128 444.903,718.128 445.13,718.128 445.357,718.128 445.584,718.128 445.811,718.128 446.038,718.128 446.265,718.128 446.492,718.128 \n",
       "  446.719,718.128 446.946,718.128 447.173,718.128 447.4,718.128 447.627,718.128 447.854,718.128 448.081,718.128 448.308,718.128 448.535,718.128 448.762,718.128 \n",
       "  448.989,718.128 449.216,718.128 449.443,718.128 449.67,718.128 449.897,718.128 450.124,718.128 450.351,718.128 450.579,718.128 450.806,718.128 451.033,718.128 \n",
       "  451.26,718.128 451.487,718.128 451.714,718.128 451.941,718.128 452.168,718.128 452.395,718.128 452.622,718.128 452.849,718.128 453.076,718.128 453.303,718.128 \n",
       "  453.53,718.128 453.757,718.128 453.984,718.128 454.211,718.128 454.438,718.128 454.665,718.128 454.892,718.128 455.119,718.128 455.346,718.128 455.573,718.128 \n",
       "  455.8,718.128 456.027,718.128 456.254,718.128 456.481,718.128 456.708,718.128 456.935,718.128 457.162,718.128 457.389,718.128 457.616,718.128 457.843,718.128 \n",
       "  458.07,718.128 458.297,718.128 458.524,718.128 458.751,718.128 458.978,718.128 459.205,718.128 459.432,718.128 459.659,718.128 459.886,718.128 460.113,718.128 \n",
       "  460.34,718.128 460.567,718.128 460.794,718.128 461.021,718.128 461.249,718.128 461.476,718.128 461.703,718.128 461.93,718.128 462.157,718.128 462.384,718.128 \n",
       "  462.611,718.128 462.838,718.128 463.065,718.128 463.292,718.128 463.519,718.128 463.746,718.128 463.973,718.128 464.2,718.128 464.427,718.128 464.654,718.128 \n",
       "  464.881,718.128 465.108,718.128 465.335,718.128 465.562,718.128 465.789,718.128 466.016,718.128 466.243,718.128 466.47,718.128 466.697,718.128 466.924,718.128 \n",
       "  467.151,718.128 467.378,718.128 467.605,718.128 467.832,718.128 468.059,718.128 468.286,718.128 468.513,718.128 468.74,718.128 468.967,718.128 469.194,718.128 \n",
       "  469.421,718.128 469.648,718.128 469.875,718.128 470.102,718.128 470.329,718.128 470.556,718.128 470.783,718.128 471.01,718.128 471.237,718.128 471.464,718.128 \n",
       "  471.692,718.128 471.919,66.7844 472.146,66.7844 472.373,66.7844 472.6,66.7844 472.827,66.7844 473.054,66.7844 473.281,66.7844 473.508,66.7844 473.735,66.7844 \n",
       "  473.962,66.7844 474.189,66.7844 474.416,66.7844 474.643,66.7844 474.87,66.7844 475.097,66.7844 475.324,66.7844 475.551,66.7844 475.778,66.7844 476.005,66.7844 \n",
       "  476.232,66.7844 476.459,66.7844 476.686,66.7844 476.913,66.7844 477.14,66.7844 477.367,66.7844 477.594,66.7844 477.821,66.7844 478.048,66.7844 478.275,66.7844 \n",
       "  478.502,66.7844 478.729,66.7844 478.956,66.7844 479.183,66.7844 479.41,66.7844 479.637,66.7844 479.864,66.7844 480.091,66.7844 480.318,66.7844 480.545,66.7844 \n",
       "  480.772,66.7844 480.999,66.7844 481.226,66.7844 481.453,66.7844 481.68,66.7844 481.907,66.7844 482.134,66.7844 482.362,66.7844 482.589,66.7844 482.816,66.7844 \n",
       "  483.043,66.7844 483.27,66.7844 483.497,66.7844 483.724,66.7844 483.951,66.7844 484.178,66.7844 484.405,66.7844 484.632,66.7844 484.859,66.7844 485.086,66.7844 \n",
       "  485.313,66.7844 485.54,66.7844 485.767,66.7844 485.994,66.7844 486.221,66.7844 486.448,66.7844 486.675,66.7844 486.902,66.7844 487.129,66.7844 487.356,66.7844 \n",
       "  487.583,66.7844 487.81,66.7844 488.037,66.7844 488.264,66.7844 488.491,66.7844 488.718,66.7844 488.945,66.7844 489.172,66.7844 489.399,66.7844 489.626,66.7844 \n",
       "  489.853,66.7844 490.08,66.7844 490.307,66.7844 490.534,66.7844 490.761,66.7844 490.988,66.7844 491.215,66.7844 491.442,66.7844 491.669,66.7844 491.896,66.7844 \n",
       "  492.123,66.7844 492.35,66.7844 492.577,66.7844 492.804,66.7844 493.032,66.7844 493.259,66.7844 493.486,66.7844 493.713,66.7844 493.94,66.7844 494.167,66.7844 \n",
       "  494.394,66.7844 494.621,66.7844 494.848,66.7844 495.075,66.7844 495.302,66.7844 495.529,66.7844 495.756,66.7844 495.983,66.7844 496.21,66.7844 496.437,66.7844 \n",
       "  496.664,66.7844 496.891,66.7844 497.118,66.7844 497.345,66.7844 497.572,66.7844 497.799,66.7844 498.026,66.7844 498.253,66.7844 498.48,66.7844 498.707,66.7844 \n",
       "  498.934,66.7844 499.161,66.7844 499.388,66.7844 499.615,66.7844 499.842,66.7844 500.069,66.7844 500.296,66.7844 500.523,66.7844 500.75,66.7844 500.977,66.7844 \n",
       "  501.204,66.7844 501.431,66.7844 501.658,66.7844 501.885,66.7844 502.112,66.7844 502.339,66.7844 502.566,66.7844 502.793,66.7844 503.02,66.7844 503.247,66.7844 \n",
       "  503.475,66.7844 503.702,66.7844 503.929,66.7844 504.156,66.7844 504.383,66.7844 504.61,66.7844 504.837,66.7844 505.064,66.7844 505.291,66.7844 505.518,66.7844 \n",
       "  505.745,66.7844 505.972,66.7844 506.199,66.7844 506.426,66.7844 506.653,66.7844 506.88,66.7844 507.107,66.7844 507.334,66.7844 507.561,66.7844 507.788,66.7844 \n",
       "  508.015,66.7844 508.242,66.7844 508.469,66.7844 508.696,66.7844 508.923,66.7844 509.15,66.7844 509.377,66.7844 509.604,66.7844 509.831,66.7844 510.058,66.7844 \n",
       "  510.285,66.7844 510.512,66.7844 510.739,66.7844 510.966,66.7844 511.193,66.7844 511.42,66.7844 511.647,66.7844 511.874,66.7844 512.101,66.7844 512.328,66.7844 \n",
       "  512.555,66.7844 512.782,66.7844 513.009,66.7844 513.236,66.7844 513.463,66.7844 513.69,66.7844 513.917,66.7844 514.145,66.7844 514.372,66.7844 514.599,66.7844 \n",
       "  514.826,66.7844 515.053,66.7844 515.28,66.7844 515.507,66.7844 515.734,66.7844 515.961,66.7844 516.188,66.7844 516.415,66.7844 516.642,66.7844 516.869,66.7844 \n",
       "  517.096,66.7844 517.323,66.7844 517.55,66.7844 517.777,66.7844 518.004,66.7844 518.231,66.7844 518.458,66.7844 518.685,66.7844 518.912,66.7844 519.139,66.7844 \n",
       "  519.366,66.7844 519.593,66.7844 519.82,66.7844 520.047,66.7844 520.274,66.7844 520.501,66.7844 520.728,66.7844 520.955,66.7844 521.182,66.7844 521.409,66.7844 \n",
       "  521.636,66.7844 521.863,66.7844 522.09,66.7844 522.317,66.7844 522.544,66.7844 522.771,66.7844 522.998,66.7844 523.225,66.7844 523.452,66.7844 523.679,66.7844 \n",
       "  523.906,66.7844 524.133,66.7844 524.36,66.7844 524.588,66.7844 524.815,66.7844 525.042,66.7844 525.269,66.7844 525.496,66.7844 525.723,66.7844 525.95,66.7844 \n",
       "  526.177,66.7844 526.404,66.7844 526.631,66.7844 526.858,66.7844 527.085,66.7844 527.312,66.7844 527.539,66.7844 527.766,66.7844 527.993,66.7844 528.22,66.7844 \n",
       "  528.447,66.7844 528.674,66.7844 528.901,66.7844 529.128,66.7844 529.355,66.7844 529.582,66.7844 529.809,66.7844 530.036,66.7844 530.263,66.7844 530.49,66.7844 \n",
       "  530.717,66.7844 530.944,66.7844 531.171,66.7844 531.398,66.7844 531.625,66.7844 531.852,66.7844 532.079,66.7844 532.306,66.7844 532.533,66.7844 532.76,66.7844 \n",
       "  532.987,66.7844 533.214,66.7844 533.441,66.7844 533.668,66.7844 533.895,66.7844 534.122,66.7844 534.349,66.7844 534.576,66.7844 534.803,66.7844 535.03,66.7844 \n",
       "  535.258,66.7844 535.485,66.7844 535.712,66.7844 535.939,66.7844 536.166,66.7844 536.393,66.7844 536.62,66.7844 536.847,66.7844 537.074,66.7844 537.301,66.7844 \n",
       "  537.528,66.7844 537.755,66.7844 537.982,66.7844 538.209,66.7844 538.436,66.7844 538.663,66.7844 538.89,66.7844 539.117,66.7844 539.344,66.7844 539.571,66.7844 \n",
       "  539.798,66.7844 540.025,66.7844 540.252,66.7844 540.479,66.7844 540.706,66.7844 540.933,66.7844 541.16,66.7844 541.387,66.7844 541.614,66.7844 541.841,66.7844 \n",
       "  542.068,66.7844 542.295,66.7844 542.522,66.7844 542.749,66.7844 542.976,66.7844 543.203,66.7844 543.43,66.7844 543.657,66.7844 543.884,66.7844 544.111,66.7844 \n",
       "  544.338,66.7844 544.565,66.7844 544.792,66.7844 545.019,66.7844 545.246,66.7844 545.473,66.7844 545.7,66.7844 545.928,66.7844 546.155,66.7844 546.382,66.7844 \n",
       "  546.609,66.7844 546.836,66.7844 547.063,66.7844 547.29,66.7844 547.517,66.7844 547.744,66.7844 547.971,66.7844 548.198,66.7844 548.425,66.7844 548.652,66.7844 \n",
       "  548.879,66.7844 549.106,66.7844 549.333,66.7844 549.56,66.7844 549.787,66.7844 550.014,66.7844 550.241,66.7844 550.468,66.7844 550.695,66.7844 550.922,66.7844 \n",
       "  551.149,66.7844 551.376,66.7844 551.603,66.7844 551.83,66.7844 552.057,66.7844 552.284,66.7844 552.511,66.7844 552.738,66.7844 552.965,66.7844 553.192,66.7844 \n",
       "  553.419,66.7844 553.646,66.7844 553.873,66.7844 554.1,66.7844 554.327,66.7844 554.554,66.7844 554.781,66.7844 555.008,66.7844 555.235,66.7844 555.462,66.7844 \n",
       "  555.689,66.7844 555.916,66.7844 556.143,66.7844 556.371,66.7844 556.598,66.7844 556.825,66.7844 557.052,66.7844 557.279,66.7844 557.506,66.7844 557.733,66.7844 \n",
       "  557.96,66.7844 558.187,66.7844 558.414,66.7844 558.641,66.7844 558.868,66.7844 559.095,66.7844 559.322,66.7844 559.549,66.7844 559.776,66.7844 560.003,66.7844 \n",
       "  560.23,66.7844 560.457,66.7844 560.684,66.7844 560.911,66.7844 561.138,66.7844 561.365,66.7844 561.592,66.7844 561.819,66.7844 562.046,66.7844 562.273,66.7844 \n",
       "  562.5,66.7844 562.727,66.7844 562.954,66.7844 563.181,66.7844 563.408,66.7844 563.635,66.7844 563.862,66.7844 564.089,66.7844 564.316,66.7844 564.543,66.7844 \n",
       "  564.77,66.7844 564.997,66.7844 565.224,66.7844 565.451,66.7844 565.678,66.7844 565.905,66.7844 566.132,66.7844 566.359,66.7844 566.586,66.7844 566.813,66.7844 \n",
       "  567.041,66.7844 567.268,66.7844 567.495,66.7844 567.722,66.7844 567.949,66.7844 568.176,66.7844 568.403,66.7844 568.63,66.7844 568.857,66.7844 569.084,66.7844 \n",
       "  569.311,66.7844 569.538,66.7844 569.765,66.7844 569.992,66.7844 570.219,66.7844 570.446,66.7844 570.673,66.7844 570.9,66.7844 571.127,66.7844 571.354,66.7844 \n",
       "  571.581,66.7844 571.808,66.7844 572.035,66.7844 572.262,66.7844 572.489,66.7844 572.716,66.7844 572.943,66.7844 573.17,66.7844 573.397,66.7844 573.624,66.7844 \n",
       "  573.851,66.7844 574.078,66.7844 574.305,66.7844 574.532,66.7844 574.759,66.7844 574.986,66.7844 575.213,66.7844 575.44,66.7844 575.667,66.7844 575.894,66.7844 \n",
       "  576.121,66.7844 576.348,66.7844 576.575,66.7844 576.802,66.7844 577.029,66.7844 577.256,66.7844 577.484,66.7844 577.711,66.7844 577.938,66.7844 578.165,66.7844 \n",
       "  578.392,66.7844 578.619,66.7844 578.846,66.7844 579.073,66.7844 579.3,66.7844 579.527,66.7844 579.754,66.7844 579.981,66.7844 580.208,66.7844 580.435,66.7844 \n",
       "  580.662,66.7844 580.889,66.7844 581.116,66.7844 581.343,66.7844 581.57,66.7844 581.797,66.7844 582.024,66.7844 582.251,66.7844 582.478,66.7844 582.705,66.7844 \n",
       "  582.932,66.7844 583.159,66.7844 583.386,66.7844 583.613,66.7844 583.84,66.7844 584.067,66.7844 584.294,66.7844 584.521,66.7844 584.748,66.7844 584.975,66.7844 \n",
       "  585.202,66.7844 585.429,66.7844 585.656,66.7844 585.883,66.7844 586.11,66.7844 586.337,66.7844 586.564,66.7844 586.791,66.7844 587.018,66.7844 587.245,66.7844 \n",
       "  587.472,66.7844 587.699,66.7844 587.926,66.7844 588.154,66.7844 588.381,66.7844 588.608,66.7844 588.835,66.7844 589.062,66.7844 589.289,66.7844 589.516,66.7844 \n",
       "  589.743,66.7844 589.97,66.7844 590.197,66.7844 590.424,66.7844 590.651,66.7844 590.878,66.7844 591.105,66.7844 591.332,66.7844 591.559,66.7844 591.786,66.7844 \n",
       "  592.013,66.7844 592.24,66.7844 592.467,66.7844 592.694,66.7844 592.921,66.7844 593.148,66.7844 593.375,66.7844 593.602,66.7844 593.829,66.7844 594.056,66.7844 \n",
       "  594.283,66.7844 594.51,66.7844 594.737,66.7844 594.964,66.7844 595.191,66.7844 595.418,66.7844 595.645,66.7844 595.872,66.7844 596.099,66.7844 596.326,66.7844 \n",
       "  596.553,66.7844 596.78,66.7844 597.007,66.7844 597.234,66.7844 597.461,66.7844 597.688,66.7844 597.915,66.7844 598.142,66.7844 598.369,66.7844 598.597,66.7844 \n",
       "  598.824,66.7844 599.051,66.7844 599.278,66.7844 599.505,66.7844 599.732,66.7844 599.959,66.7844 600.186,66.7844 600.413,66.7844 600.64,66.7844 600.867,66.7844 \n",
       "  601.094,66.7844 601.321,66.7844 601.548,66.7844 601.775,66.7844 602.002,66.7844 602.229,66.7844 602.456,66.7844 602.683,66.7844 602.91,66.7844 603.137,66.7844 \n",
       "  603.364,66.7844 603.591,66.7844 603.818,66.7844 604.045,66.7844 604.272,66.7844 604.499,66.7844 604.726,66.7844 604.953,66.7844 605.18,66.7844 605.407,66.7844 \n",
       "  605.634,66.7844 605.861,66.7844 606.088,66.7844 606.315,66.7844 606.542,66.7844 606.769,66.7844 606.996,66.7844 607.223,66.7844 607.45,66.7844 607.677,66.7844 \n",
       "  607.904,66.7844 608.131,66.7844 608.358,66.7844 608.585,66.7844 608.812,66.7844 609.039,66.7844 609.267,66.7844 609.494,66.7844 609.721,66.7844 609.948,66.7844 \n",
       "  610.175,66.7844 610.402,66.7844 610.629,66.7844 610.856,66.7844 611.083,66.7844 611.31,66.7844 611.537,66.7844 611.764,66.7844 611.991,66.7844 612.218,66.7844 \n",
       "  612.445,66.7844 612.672,66.7844 612.899,66.7844 613.126,66.7844 613.353,66.7844 613.58,66.7844 613.807,66.7844 614.034,66.7844 614.261,66.7844 614.488,66.7844 \n",
       "  614.715,66.7844 614.942,66.7844 615.169,66.7844 615.396,66.7844 615.623,66.7844 615.85,66.7844 616.077,66.7844 616.304,66.7844 616.531,66.7844 616.758,66.7844 \n",
       "  616.985,66.7844 617.212,66.7844 617.439,66.7844 617.666,66.7844 617.893,66.7844 618.12,66.7844 618.347,66.7844 618.574,66.7844 618.801,66.7844 619.028,66.7844 \n",
       "  619.255,66.7844 619.482,66.7844 619.709,66.7844 619.937,66.7844 620.164,66.7844 620.391,66.7844 620.618,66.7844 620.845,66.7844 621.072,66.7844 621.299,66.7844 \n",
       "  621.526,66.7844 621.753,66.7844 621.98,66.7844 622.207,66.7844 622.434,66.7844 622.661,66.7844 622.888,66.7844 623.115,66.7844 623.342,66.7844 623.569,66.7844 \n",
       "  623.796,66.7844 624.023,66.7844 624.25,66.7844 624.477,66.7844 624.704,66.7844 624.931,66.7844 625.158,66.7844 625.385,66.7844 625.612,66.7844 625.839,66.7844 \n",
       "  626.066,66.7844 626.293,66.7844 626.52,66.7844 626.747,66.7844 626.974,66.7844 627.201,66.7844 627.428,66.7844 627.655,66.7844 627.882,66.7844 628.109,66.7844 \n",
       "  628.336,66.7844 628.563,66.7844 628.79,66.7844 629.017,66.7844 629.244,66.7844 629.471,66.7844 629.698,66.7844 629.925,66.7844 630.152,66.7844 630.38,66.7844 \n",
       "  630.607,66.7844 630.834,66.7844 631.061,66.7844 631.288,66.7844 631.515,66.7844 631.742,66.7844 631.969,66.7844 632.196,66.7844 632.423,66.7844 632.65,66.7844 \n",
       "  632.877,66.7844 633.104,66.7844 633.331,66.7844 633.558,66.7844 633.785,66.7844 634.012,66.7844 634.239,66.7844 634.466,66.7844 634.693,66.7844 634.92,66.7844 \n",
       "  635.147,66.7844 635.374,66.7844 635.601,66.7844 635.828,66.7844 636.055,66.7844 636.282,66.7844 636.509,66.7844 636.736,66.7844 636.963,66.7844 637.19,66.7844 \n",
       "  637.417,66.7844 637.644,66.7844 637.871,66.7844 638.098,66.7844 638.325,66.7844 638.552,66.7844 638.779,66.7844 639.006,66.7844 639.233,66.7844 639.46,66.7844 \n",
       "  639.687,66.7844 639.914,66.7844 640.141,66.7844 640.368,66.7844 640.595,66.7844 640.822,66.7844 641.05,66.7844 641.277,66.7844 641.504,66.7844 641.731,66.7844 \n",
       "  641.958,66.7844 642.185,66.7844 642.412,66.7844 642.639,66.7844 642.866,66.7844 643.093,66.7844 643.32,66.7844 643.547,66.7844 643.774,66.7844 644.001,66.7844 \n",
       "  644.228,66.7844 644.455,66.7844 644.682,66.7844 644.909,66.7844 645.136,66.7844 645.363,66.7844 645.59,66.7844 645.817,66.7844 646.044,66.7844 646.271,66.7844 \n",
       "  646.498,66.7844 646.725,66.7844 646.952,66.7844 647.179,66.7844 647.406,66.7844 647.633,66.7844 647.86,66.7844 648.087,66.7844 648.314,66.7844 648.541,66.7844 \n",
       "  648.768,66.7844 648.995,66.7844 649.222,66.7844 649.449,66.7844 649.676,66.7844 649.903,66.7844 650.13,66.7844 650.357,66.7844 650.584,66.7844 650.811,66.7844 \n",
       "  651.038,66.7844 651.265,66.7844 651.493,66.7844 651.72,66.7844 651.947,66.7844 652.174,66.7844 652.401,66.7844 652.628,66.7844 652.855,66.7844 653.082,66.7844 \n",
       "  653.309,66.7844 653.536,66.7844 653.763,66.7844 653.99,66.7844 654.217,66.7844 654.444,66.7844 654.671,66.7844 654.898,66.7844 655.125,66.7844 655.352,66.7844 \n",
       "  655.579,66.7844 655.806,66.7844 656.033,66.7844 656.26,66.7844 656.487,66.7844 656.714,66.7844 656.941,66.7844 657.168,66.7844 657.395,66.7844 657.622,66.7844 \n",
       "  657.849,66.7844 658.076,66.7844 658.303,66.7844 658.53,66.7844 658.757,66.7844 658.984,66.7844 659.211,66.7844 659.438,66.7844 659.665,66.7844 659.892,66.7844 \n",
       "  660.119,66.7844 660.346,66.7844 660.573,66.7844 660.8,66.7844 661.027,66.7844 661.254,66.7844 661.481,66.7844 661.708,66.7844 661.935,66.7844 662.163,66.7844 \n",
       "  662.39,66.7844 662.617,66.7844 662.844,66.7844 663.071,66.7844 663.298,66.7844 663.525,66.7844 663.752,66.7844 663.979,66.7844 664.206,66.7844 664.433,66.7844 \n",
       "  664.66,66.7844 664.887,66.7844 665.114,66.7844 665.341,66.7844 665.568,66.7844 665.795,66.7844 666.022,66.7844 666.249,66.7844 666.476,66.7844 666.703,66.7844 \n",
       "  666.93,66.7844 667.157,66.7844 667.384,66.7844 667.611,66.7844 667.838,66.7844 668.065,66.7844 668.292,66.7844 668.519,66.7844 668.746,66.7844 668.973,66.7844 \n",
       "  669.2,66.7844 669.427,66.7844 669.654,66.7844 669.881,66.7844 670.108,66.7844 670.335,66.7844 670.562,66.7844 670.789,66.7844 671.016,66.7844 671.243,66.7844 \n",
       "  671.47,66.7844 671.697,66.7844 671.924,66.7844 672.151,66.7844 672.378,66.7844 672.606,66.7844 672.833,66.7844 673.06,66.7844 673.287,66.7844 673.514,66.7844 \n",
       "  673.741,66.7844 673.968,66.7844 674.195,66.7844 674.422,66.7844 674.649,66.7844 674.876,66.7844 675.103,66.7844 675.33,66.7844 675.557,66.7844 675.784,66.7844 \n",
       "  676.011,66.7844 676.238,66.7844 676.465,66.7844 676.692,66.7844 676.919,66.7844 677.146,66.7844 677.373,66.7844 677.6,66.7844 677.827,66.7844 678.054,66.7844 \n",
       "  678.281,66.7844 678.508,66.7844 678.735,66.7844 678.962,66.7844 679.189,66.7844 679.416,66.7844 679.643,66.7844 679.87,66.7844 680.097,66.7844 680.324,66.7844 \n",
       "  680.551,66.7844 680.778,66.7844 681.005,66.7844 681.232,66.7844 681.459,66.7844 681.686,66.7844 681.913,66.7844 682.14,66.7844 682.367,66.7844 682.594,66.7844 \n",
       "  682.821,66.7844 683.048,66.7844 683.276,66.7844 683.503,66.7844 683.73,66.7844 683.957,66.7844 684.184,66.7844 684.411,66.7844 684.638,66.7844 684.865,66.7844 \n",
       "  685.092,66.7844 685.319,66.7844 685.546,66.7844 685.773,66.7844 686,66.7844 686.227,66.7844 686.454,66.7844 686.681,66.7844 686.908,66.7844 687.135,66.7844 \n",
       "  687.362,66.7844 687.589,66.7844 687.816,66.7844 688.043,66.7844 688.27,66.7844 688.497,66.7844 688.724,66.7844 688.951,66.7844 689.178,66.7844 689.405,66.7844 \n",
       "  689.632,66.7844 689.859,66.7844 690.086,66.7844 690.313,66.7844 690.54,66.7844 690.767,66.7844 690.994,66.7844 691.221,66.7844 691.448,66.7844 691.675,66.7844 \n",
       "  691.902,66.7844 692.129,66.7844 692.356,66.7844 692.583,66.7844 692.81,66.7844 693.037,66.7844 693.264,66.7844 693.491,66.7844 693.718,66.7844 693.946,66.7844 \n",
       "  694.173,66.7844 694.4,66.7844 694.627,66.7844 694.854,66.7844 695.081,66.7844 695.308,66.7844 695.535,66.7844 695.762,66.7844 695.989,66.7844 696.216,66.7844 \n",
       "  696.443,66.7844 696.67,66.7844 696.897,66.7844 697.124,66.7844 697.351,66.7844 697.578,66.7844 697.805,66.7844 698.032,66.7844 698.259,66.7844 698.486,66.7844 \n",
       "  698.713,66.7844 698.94,66.7844 699.167,66.7844 699.394,66.7844 699.621,66.7844 699.848,66.7844 700.075,66.7844 700.302,66.7844 700.529,66.7844 700.756,66.7844 \n",
       "  700.983,66.7844 701.21,66.7844 701.437,66.7844 701.664,66.7844 701.891,66.7844 702.118,66.7844 702.345,66.7844 702.572,66.7844 702.799,66.7844 703.026,66.7844 \n",
       "  703.253,66.7844 703.48,66.7844 703.707,66.7844 703.934,66.7844 704.161,66.7844 704.389,66.7844 704.616,66.7844 704.843,66.7844 705.07,66.7844 705.297,66.7844 \n",
       "  705.524,66.7844 705.751,66.7844 705.978,66.7844 706.205,66.7844 706.432,66.7844 706.659,66.7844 706.886,66.7844 707.113,66.7844 707.34,66.7844 707.567,66.7844 \n",
       "  707.794,66.7844 708.021,66.7844 708.248,66.7844 708.475,66.7844 708.702,66.7844 708.929,66.7844 709.156,66.7844 709.383,66.7844 709.61,66.7844 709.837,66.7844 \n",
       "  710.064,66.7844 710.291,66.7844 710.518,66.7844 710.745,66.7844 710.972,66.7844 711.199,66.7844 711.426,66.7844 711.653,66.7844 711.88,66.7844 712.107,66.7844 \n",
       "  712.334,66.7844 712.561,66.7844 712.788,66.7844 713.015,66.7844 713.242,66.7844 713.469,66.7844 713.696,66.7844 713.923,66.7844 714.15,66.7844 714.377,66.7844 \n",
       "  714.604,66.7844 714.831,66.7844 715.059,66.7844 715.286,66.7844 715.513,66.7844 715.74,66.7844 715.967,66.7844 716.194,66.7844 716.421,66.7844 716.648,66.7844 \n",
       "  716.875,66.7844 717.102,66.7844 717.329,66.7844 717.556,66.7844 717.783,66.7844 718.01,66.7844 718.237,66.7844 718.464,66.7844 718.691,66.7844 718.918,66.7844 \n",
       "  719.145,66.7844 719.372,66.7844 719.599,66.7844 719.826,66.7844 720.053,66.7844 720.28,66.7844 720.507,66.7844 720.734,66.7844 720.961,66.7844 721.188,66.7844 \n",
       "  721.415,66.7844 721.642,66.7844 721.869,66.7844 722.096,66.7844 722.323,66.7844 722.55,66.7844 722.777,66.7844 723.004,66.7844 723.231,66.7844 723.458,66.7844 \n",
       "  723.685,66.7844 723.912,66.7844 724.139,66.7844 724.366,66.7844 724.593,66.7844 724.82,66.7844 725.047,66.7844 725.274,66.7844 725.502,66.7844 725.729,66.7844 \n",
       "  725.956,66.7844 726.183,66.7844 726.41,66.7844 726.637,66.7844 726.864,66.7844 727.091,66.7844 727.318,66.7844 727.545,66.7844 727.772,66.7844 727.999,66.7844 \n",
       "  728.226,66.7844 728.453,66.7844 728.68,66.7844 728.907,66.7844 729.134,66.7844 729.361,66.7844 729.588,66.7844 729.815,66.7844 730.042,66.7844 730.269,66.7844 \n",
       "  730.496,66.7844 730.723,66.7844 730.95,66.7844 731.177,66.7844 731.404,66.7844 731.631,66.7844 731.858,66.7844 732.085,66.7844 732.312,66.7844 732.539,66.7844 \n",
       "  732.766,66.7844 732.993,66.7844 733.22,66.7844 733.447,66.7844 733.674,66.7844 733.901,66.7844 734.128,66.7844 734.355,66.7844 734.582,66.7844 734.809,66.7844 \n",
       "  735.036,66.7844 735.263,66.7844 735.49,66.7844 735.717,66.7844 735.944,66.7844 736.172,66.7844 736.399,66.7844 736.626,66.7844 736.853,66.7844 737.08,66.7844 \n",
       "  737.307,66.7844 737.534,66.7844 737.761,66.7844 737.988,66.7844 738.215,66.7844 738.442,66.7844 738.669,66.7844 738.896,66.7844 739.123,66.7844 739.35,66.7844 \n",
       "  739.577,66.7844 739.804,66.7844 740.031,66.7844 740.258,66.7844 740.485,66.7844 740.712,66.7844 740.939,66.7844 741.166,66.7844 741.393,66.7844 741.62,66.7844 \n",
       "  741.847,66.7844 742.074,66.7844 742.301,66.7844 742.528,66.7844 742.755,66.7844 742.982,66.7844 743.209,66.7844 743.436,66.7844 743.663,66.7844 743.89,66.7844 \n",
       "  744.117,66.7844 744.344,66.7844 744.571,66.7844 744.798,66.7844 745.025,66.7844 745.252,66.7844 745.479,66.7844 745.706,66.7844 745.933,66.7844 746.16,66.7844 \n",
       "  746.387,66.7844 746.614,66.7844 746.842,66.7844 747.069,66.7844 747.296,66.7844 747.523,66.7844 747.75,66.7844 747.977,66.7844 748.204,66.7844 748.431,66.7844 \n",
       "  748.658,66.7844 748.885,66.7844 749.112,66.7844 749.339,66.7844 749.566,66.7844 749.793,66.7844 750.02,66.7844 750.247,66.7844 750.474,66.7844 750.701,66.7844 \n",
       "  750.928,66.7844 751.155,66.7844 751.382,66.7844 751.609,66.7844 751.836,66.7844 752.063,66.7844 752.29,66.7844 752.517,66.7844 752.744,66.7844 752.971,66.7844 \n",
       "  753.198,66.7844 753.425,66.7844 753.652,66.7844 753.879,66.7844 754.106,66.7844 754.333,66.7844 754.56,66.7844 754.787,66.7844 755.014,66.7844 755.241,66.7844 \n",
       "  755.468,66.7844 755.695,66.7844 755.922,66.7844 756.149,66.7844 756.376,66.7844 756.603,66.7844 756.83,66.7844 757.057,66.7844 757.285,66.7844 757.512,66.7844 \n",
       "  757.739,66.7844 757.966,66.7844 758.193,66.7844 758.42,66.7844 758.647,66.7844 758.874,66.7844 759.101,66.7844 759.328,66.7844 759.555,66.7844 759.782,66.7844 \n",
       "  760.009,66.7844 760.236,66.7844 760.463,66.7844 760.69,66.7844 760.917,66.7844 761.144,66.7844 761.371,66.7844 761.598,66.7844 761.825,66.7844 762.052,66.7844 \n",
       "  762.279,66.7844 762.506,66.7844 762.733,66.7844 762.96,66.7844 763.187,66.7844 763.414,66.7844 763.641,66.7844 763.868,66.7844 764.095,66.7844 764.322,66.7844 \n",
       "  764.549,66.7844 764.776,66.7844 765.003,66.7844 765.23,66.7844 765.457,66.7844 765.684,66.7844 765.911,66.7844 766.138,66.7844 766.365,66.7844 766.592,66.7844 \n",
       "  766.819,66.7844 767.046,66.7844 767.273,66.7844 767.5,66.7844 767.727,66.7844 767.955,66.7844 768.182,66.7844 768.409,66.7844 768.636,66.7844 768.863,66.7844 \n",
       "  769.09,66.7844 769.317,66.7844 769.544,66.7844 769.771,66.7844 769.998,66.7844 770.225,66.7844 770.452,66.7844 770.679,66.7844 770.906,66.7844 771.133,66.7844 \n",
       "  771.36,66.7844 771.587,66.7844 771.814,66.7844 772.041,66.7844 772.268,66.7844 772.495,66.7844 772.722,66.7844 772.949,66.7844 773.176,66.7844 773.403,66.7844 \n",
       "  773.63,66.7844 773.857,66.7844 774.084,66.7844 774.311,66.7844 774.538,66.7844 774.765,66.7844 774.992,66.7844 775.219,66.7844 775.446,66.7844 775.673,66.7844 \n",
       "  775.9,66.7844 776.127,66.7844 776.354,66.7844 776.581,66.7844 776.808,66.7844 777.035,66.7844 777.262,66.7844 777.489,66.7844 777.716,66.7844 777.943,66.7844 \n",
       "  778.17,66.7844 778.398,66.7844 778.625,66.7844 778.852,66.7844 779.079,66.7844 779.306,66.7844 779.533,66.7844 779.76,66.7844 779.987,66.7844 780.214,66.7844 \n",
       "  780.441,66.7844 780.668,66.7844 780.895,66.7844 781.122,66.7844 781.349,66.7844 781.576,66.7844 781.803,66.7844 782.03,66.7844 782.257,66.7844 782.484,66.7844 \n",
       "  782.711,66.7844 782.938,66.7844 783.165,66.7844 783.392,66.7844 783.619,66.7844 783.846,66.7844 784.073,66.7844 784.3,66.7844 784.527,66.7844 784.754,66.7844 \n",
       "  784.981,66.7844 785.208,66.7844 785.435,66.7844 785.662,66.7844 785.889,66.7844 786.116,66.7844 786.343,66.7844 786.57,66.7844 786.797,66.7844 787.024,66.7844 \n",
       "  787.251,66.7844 787.478,66.7844 787.705,66.7844 787.932,66.7844 788.159,66.7844 788.386,66.7844 788.613,66.7844 788.84,66.7844 789.068,66.7844 789.295,66.7844 \n",
       "  789.522,66.7844 789.749,66.7844 789.976,66.7844 790.203,66.7844 790.43,66.7844 790.657,66.7844 790.884,66.7844 791.111,66.7844 791.338,66.7844 791.565,66.7844 \n",
       "  791.792,66.7844 792.019,66.7844 792.246,66.7844 792.473,66.7844 792.7,66.7844 792.927,66.7844 793.154,66.7844 793.381,66.7844 793.608,66.7844 793.835,66.7844 \n",
       "  794.062,66.7844 794.289,66.7844 794.516,66.7844 794.743,66.7844 794.97,66.7844 795.197,66.7844 795.424,66.7844 795.651,66.7844 795.878,66.7844 796.105,66.7844 \n",
       "  796.332,66.7844 796.559,66.7844 796.786,66.7844 797.013,66.7844 797.24,66.7844 797.467,66.7844 797.694,66.7844 797.921,66.7844 798.148,66.7844 798.375,66.7844 \n",
       "  798.602,66.7844 798.829,66.7844 799.056,66.7844 799.283,66.7844 799.511,66.7844 799.738,66.7844 799.965,66.7844 800.192,66.7844 800.419,66.7844 800.646,66.7844 \n",
       "  800.873,66.7844 801.1,66.7844 801.327,66.7844 801.554,66.7844 801.781,66.7844 802.008,66.7844 802.235,66.7844 802.462,66.7844 802.689,66.7844 802.916,66.7844 \n",
       "  803.143,66.7844 803.37,66.7844 803.597,66.7844 803.824,66.7844 804.051,66.7844 804.278,66.7844 804.505,66.7844 804.732,66.7844 804.959,66.7844 805.186,66.7844 \n",
       "  805.413,66.7844 805.64,66.7844 805.867,66.7844 806.094,66.7844 806.321,66.7844 806.548,66.7844 806.775,66.7844 807.002,66.7844 807.229,66.7844 807.456,66.7844 \n",
       "  807.683,66.7844 807.91,66.7844 808.137,66.7844 808.364,66.7844 808.591,66.7844 808.818,66.7844 809.045,66.7844 809.272,66.7844 809.499,66.7844 809.726,66.7844 \n",
       "  809.953,66.7844 810.181,66.7844 810.408,66.7844 810.635,66.7844 810.862,66.7844 811.089,66.7844 811.316,66.7844 811.543,66.7844 811.77,66.7844 811.997,66.7844 \n",
       "  812.224,66.7844 812.451,66.7844 812.678,66.7844 812.905,66.7844 813.132,66.7844 813.359,66.7844 813.586,66.7844 813.813,66.7844 814.04,66.7844 814.267,66.7844 \n",
       "  814.494,66.7844 814.721,66.7844 814.948,66.7844 815.175,66.7844 815.402,66.7844 815.629,66.7844 815.856,66.7844 816.083,66.7844 816.31,66.7844 816.537,66.7844 \n",
       "  816.764,66.7844 816.991,66.7844 817.218,66.7844 817.445,66.7844 817.672,66.7844 817.899,66.7844 818.126,66.7844 818.353,66.7844 818.58,66.7844 818.807,66.7844 \n",
       "  819.034,66.7844 819.261,66.7844 819.488,66.7844 819.715,66.7844 819.942,66.7844 820.169,66.7844 820.396,66.7844 820.623,66.7844 820.851,66.7844 821.078,66.7844 \n",
       "  821.305,66.7844 821.532,66.7844 821.759,66.7844 821.986,66.7844 822.213,66.7844 822.44,66.7844 822.667,66.7844 822.894,66.7844 823.121,66.7844 823.348,66.7844 \n",
       "  823.575,66.7844 823.802,66.7844 824.029,66.7844 824.256,66.7844 824.483,66.7844 824.71,66.7844 824.937,66.7844 825.164,66.7844 825.391,66.7844 825.618,66.7844 \n",
       "  825.845,66.7844 826.072,66.7844 826.299,66.7844 826.526,66.7844 826.753,66.7844 826.98,66.7844 827.207,66.7844 827.434,66.7844 827.661,66.7844 827.888,66.7844 \n",
       "  828.115,66.7844 828.342,66.7844 828.569,66.7844 828.796,66.7844 829.023,66.7844 829.25,66.7844 829.477,66.7844 829.704,66.7844 829.931,66.7844 830.158,66.7844 \n",
       "  830.385,66.7844 830.612,66.7844 830.839,66.7844 831.066,66.7844 831.294,66.7844 831.521,66.7844 831.748,66.7844 831.975,66.7844 832.202,66.7844 832.429,66.7844 \n",
       "  832.656,66.7844 832.883,66.7844 833.11,66.7844 833.337,66.7844 833.564,66.7844 833.791,66.7844 834.018,66.7844 834.245,66.7844 834.472,66.7844 834.699,66.7844 \n",
       "  834.926,66.7844 835.153,66.7844 835.38,66.7844 835.607,66.7844 835.834,66.7844 836.061,66.7844 836.288,66.7844 836.515,66.7844 836.742,66.7844 836.969,66.7844 \n",
       "  837.196,66.7844 837.423,66.7844 837.65,66.7844 837.877,66.7844 838.104,66.7844 838.331,66.7844 838.558,66.7844 838.785,66.7844 839.012,66.7844 839.239,66.7844 \n",
       "  839.466,66.7844 839.693,66.7844 839.92,66.7844 840.147,66.7844 840.374,66.7844 840.601,66.7844 840.828,66.7844 841.055,66.7844 841.282,66.7844 841.509,66.7844 \n",
       "  841.736,66.7844 841.964,66.7844 842.191,66.7844 842.418,66.7844 842.645,66.7844 842.872,66.7844 843.099,66.7844 843.326,66.7844 843.553,66.7844 843.78,66.7844 \n",
       "  844.007,66.7844 844.234,66.7844 844.461,66.7844 844.688,66.7844 844.915,66.7844 845.142,66.7844 845.369,66.7844 845.596,66.7844 845.823,66.7844 846.05,66.7844 \n",
       "  846.277,66.7844 846.504,66.7844 846.731,66.7844 846.958,66.7844 847.185,66.7844 847.412,66.7844 847.639,66.7844 847.866,66.7844 848.093,66.7844 848.32,66.7844 \n",
       "  848.547,66.7844 848.774,66.7844 849.001,66.7844 849.228,66.7844 849.455,66.7844 849.682,66.7844 849.909,66.7844 850.136,66.7844 850.363,66.7844 850.59,66.7844 \n",
       "  850.817,66.7844 851.044,66.7844 851.271,66.7844 851.498,66.7844 851.725,66.7844 851.952,66.7844 852.179,66.7844 852.407,66.7844 852.634,66.7844 852.861,66.7844 \n",
       "  853.088,66.7844 853.315,66.7844 853.542,66.7844 853.769,66.7844 853.996,66.7844 854.223,66.7844 854.45,66.7844 854.677,66.7844 854.904,66.7844 855.131,66.7844 \n",
       "  855.358,66.7844 855.585,66.7844 855.812,66.7844 856.039,66.7844 856.266,66.7844 856.493,66.7844 856.72,66.7844 856.947,66.7844 857.174,66.7844 857.401,66.7844 \n",
       "  857.628,66.7844 857.855,66.7844 858.082,66.7844 858.309,66.7844 858.536,66.7844 858.763,66.7844 858.99,66.7844 859.217,66.7844 859.444,66.7844 859.671,66.7844 \n",
       "  859.898,66.7844 860.125,66.7844 860.352,66.7844 860.579,66.7844 860.806,66.7844 861.033,66.7844 861.26,66.7844 861.487,66.7844 861.714,66.7844 861.941,66.7844 \n",
       "  862.168,66.7844 862.395,66.7844 862.622,66.7844 862.849,66.7844 863.077,66.7844 863.304,66.7844 863.531,66.7844 863.758,66.7844 863.985,66.7844 864.212,66.7844 \n",
       "  864.439,66.7844 864.666,66.7844 864.893,66.7844 865.12,66.7844 865.347,66.7844 865.574,66.7844 865.801,66.7844 866.028,66.7844 866.255,66.7844 866.482,66.7844 \n",
       "  866.709,66.7844 866.936,66.7844 867.163,66.7844 867.39,66.7844 867.617,66.7844 867.844,66.7844 868.071,66.7844 868.298,66.7844 868.525,66.7844 868.752,66.7844 \n",
       "  868.979,66.7844 869.206,66.7844 869.433,66.7844 869.66,66.7844 869.887,66.7844 870.114,66.7844 870.341,66.7844 870.568,66.7844 870.795,66.7844 871.022,66.7844 \n",
       "  871.249,66.7844 871.476,66.7844 871.703,66.7844 871.93,66.7844 872.157,66.7844 872.384,66.7844 872.611,66.7844 872.838,66.7844 873.065,66.7844 873.292,66.7844 \n",
       "  873.519,66.7844 873.747,66.7844 873.974,66.7844 874.201,66.7844 874.428,66.7844 874.655,66.7844 874.882,66.7844 875.109,66.7844 875.336,66.7844 875.563,66.7844 \n",
       "  875.79,66.7844 876.017,66.7844 876.244,66.7844 876.471,66.7844 876.698,66.7844 876.925,66.7844 877.152,66.7844 877.379,66.7844 877.606,66.7844 877.833,66.7844 \n",
       "  878.06,66.7844 878.287,66.7844 878.514,66.7844 878.741,66.7844 878.968,66.7844 879.195,66.7844 879.422,66.7844 879.649,66.7844 879.876,66.7844 880.103,66.7844 \n",
       "  880.33,66.7844 880.557,66.7844 880.784,66.7844 881.011,66.7844 881.238,66.7844 881.465,66.7844 881.692,66.7844 881.919,66.7844 882.146,66.7844 882.373,66.7844 \n",
       "  882.6,66.7844 882.827,66.7844 883.054,66.7844 883.281,66.7844 883.508,66.7844 883.735,66.7844 883.962,66.7844 884.19,66.7844 884.417,66.7844 884.644,66.7844 \n",
       "  884.871,66.7844 885.098,66.7844 885.325,66.7844 885.552,66.7844 885.779,66.7844 886.006,66.7844 886.233,66.7844 886.46,66.7844 886.687,66.7844 886.914,66.7844 \n",
       "  887.141,66.7844 887.368,66.7844 887.595,66.7844 887.822,66.7844 888.049,66.7844 888.276,66.7844 888.503,66.7844 888.73,66.7844 888.957,66.7844 889.184,66.7844 \n",
       "  889.411,66.7844 889.638,66.7844 889.865,66.7844 890.092,66.7844 890.319,66.7844 890.546,66.7844 890.773,66.7844 891,66.7844 891.227,66.7844 891.454,66.7844 \n",
       "  891.681,66.7844 891.908,66.7844 892.135,66.7844 892.362,66.7844 892.589,66.7844 892.816,66.7844 893.043,66.7844 893.27,66.7844 893.497,66.7844 893.724,66.7844 \n",
       "  893.951,66.7844 894.178,66.7844 894.405,66.7844 894.632,66.7844 894.86,66.7844 895.087,66.7844 895.314,66.7844 895.541,66.7844 895.768,66.7844 895.995,66.7844 \n",
       "  896.222,66.7844 896.449,66.7844 896.676,66.7844 896.903,66.7844 897.13,66.7844 897.357,66.7844 897.584,66.7844 897.811,66.7844 898.038,66.7844 898.265,66.7844 \n",
       "  898.492,66.7844 898.719,66.7844 898.946,66.7844 899.173,66.7844 899.4,66.7844 899.627,66.7844 899.854,66.7844 900.081,66.7844 900.308,66.7844 900.535,66.7844 \n",
       "  900.762,66.7844 900.989,66.7844 901.216,66.7844 901.443,66.7844 901.67,66.7844 901.897,66.7844 902.124,66.7844 902.351,66.7844 902.578,66.7844 902.805,66.7844 \n",
       "  903.032,66.7844 903.259,66.7844 903.486,66.7844 903.713,66.7844 903.94,66.7844 904.167,66.7844 904.394,66.7844 904.621,66.7844 904.848,66.7844 905.075,66.7844 \n",
       "  905.303,66.7844 905.53,66.7844 905.757,66.7844 905.984,66.7844 906.211,66.7844 906.438,66.7844 906.665,66.7844 906.892,66.7844 907.119,66.7844 907.346,66.7844 \n",
       "  907.573,66.7844 907.8,66.7844 908.027,66.7844 908.254,66.7844 908.481,66.7844 908.708,66.7844 908.935,66.7844 909.162,66.7844 909.389,66.7844 909.616,66.7844 \n",
       "  909.843,66.7844 910.07,66.7844 910.297,66.7844 910.524,66.7844 910.751,66.7844 910.978,66.7844 911.205,66.7844 911.432,66.7844 911.659,66.7844 911.886,66.7844 \n",
       "  912.113,66.7844 912.34,66.7844 912.567,66.7844 912.794,66.7844 913.021,66.7844 913.248,66.7844 913.475,66.7844 913.702,66.7844 913.929,66.7844 914.156,66.7844 \n",
       "  914.383,66.7844 914.61,66.7844 914.837,66.7844 915.064,66.7844 915.291,66.7844 915.518,66.7844 915.745,66.7844 915.973,66.7844 916.2,66.7844 916.427,66.7844 \n",
       "  916.654,66.7844 916.881,66.7844 917.108,66.7844 917.335,66.7844 917.562,66.7844 917.789,66.7844 918.016,66.7844 918.243,66.7844 918.47,66.7844 918.697,66.7844 \n",
       "  918.924,66.7844 919.151,66.7844 919.378,66.7844 919.605,66.7844 919.832,66.7844 920.059,66.7844 920.286,66.7844 920.513,66.7844 920.74,66.7844 920.967,66.7844 \n",
       "  921.194,66.7844 921.421,66.7844 921.648,66.7844 921.875,66.7844 922.102,66.7844 922.329,66.7844 922.556,66.7844 922.783,66.7844 923.01,66.7844 923.237,66.7844 \n",
       "  923.464,66.7844 923.691,66.7844 923.918,66.7844 924.145,66.7844 924.372,66.7844 924.599,66.7844 924.826,66.7844 925.053,66.7844 925.28,66.7844 925.507,66.7844 \n",
       "  925.734,66.7844 925.961,66.7844 926.188,66.7844 926.416,66.7844 926.643,66.7844 926.87,66.7844 927.097,66.7844 927.324,66.7844 927.551,66.7844 927.778,66.7844 \n",
       "  928.005,66.7844 928.232,66.7844 928.459,66.7844 928.686,66.7844 928.913,66.7844 929.14,66.7844 929.367,66.7844 929.594,66.7844 929.821,66.7844 930.048,66.7844 \n",
       "  930.275,66.7844 930.502,66.7844 930.729,66.7844 930.956,66.7844 931.183,66.7844 931.41,66.7844 931.637,66.7844 931.864,66.7844 932.091,66.7844 932.318,66.7844 \n",
       "  932.545,66.7844 932.772,66.7844 932.999,66.7844 933.226,66.7844 933.453,66.7844 933.68,66.7844 933.907,66.7844 934.134,66.7844 934.361,66.7844 934.588,66.7844 \n",
       "  934.815,66.7844 935.042,66.7844 935.269,66.7844 935.496,66.7844 935.723,66.7844 935.95,66.7844 936.177,66.7844 936.404,66.7844 936.631,66.7844 936.858,66.7844 \n",
       "  937.086,66.7844 937.313,66.7844 937.54,66.7844 937.767,66.7844 937.994,66.7844 938.221,66.7844 938.448,66.7844 938.675,66.7844 938.902,66.7844 939.129,66.7844 \n",
       "  939.356,66.7844 939.583,66.7844 939.81,66.7844 940.037,66.7844 940.264,66.7844 940.491,66.7844 940.718,66.7844 940.945,66.7844 941.172,66.7844 941.399,66.7844 \n",
       "  941.626,66.7844 941.853,66.7844 942.08,66.7844 942.307,66.7844 942.534,66.7844 942.761,66.7844 942.988,66.7844 943.215,66.7844 943.442,66.7844 943.669,66.7844 \n",
       "  943.896,66.7844 944.123,66.7844 944.35,66.7844 944.577,66.7844 944.804,66.7844 945.031,66.7844 945.258,66.7844 945.485,66.7844 945.712,66.7844 945.939,66.7844 \n",
       "  946.166,66.7844 946.393,66.7844 946.62,66.7844 946.847,66.7844 947.074,66.7844 947.301,66.7844 947.528,66.7844 947.756,66.7844 947.983,66.7844 948.21,66.7844 \n",
       "  948.437,66.7844 948.664,66.7844 948.891,66.7844 949.118,66.7844 949.345,66.7844 949.572,66.7844 949.799,66.7844 950.026,66.7844 950.253,66.7844 950.48,66.7844 \n",
       "  950.707,66.7844 950.934,66.7844 951.161,66.7844 951.388,66.7844 951.615,66.7844 951.842,66.7844 952.069,66.7844 952.296,66.7844 952.523,66.7844 952.75,66.7844 \n",
       "  952.977,66.7844 953.204,66.7844 953.431,66.7844 953.658,66.7844 953.885,66.7844 954.112,66.7844 954.339,66.7844 954.566,66.7844 954.793,66.7844 955.02,66.7844 \n",
       "  955.247,66.7844 955.474,66.7844 955.701,66.7844 955.928,66.7844 956.155,66.7844 956.382,66.7844 956.609,66.7844 956.836,66.7844 957.063,66.7844 957.29,66.7844 \n",
       "  957.517,66.7844 957.744,66.7844 957.971,66.7844 958.199,66.7844 958.426,66.7844 958.653,66.7844 958.88,66.7844 959.107,66.7844 959.334,66.7844 959.561,66.7844 \n",
       "  959.788,66.7844 960.015,66.7844 960.242,66.7844 960.469,66.7844 960.696,66.7844 960.923,66.7844 961.15,66.7844 961.377,66.7844 961.604,66.7844 961.831,66.7844 \n",
       "  962.058,66.7844 962.285,66.7844 962.512,66.7844 962.739,66.7844 962.966,66.7844 963.193,66.7844 963.42,66.7844 963.647,66.7844 963.874,66.7844 964.101,66.7844 \n",
       "  964.328,66.7844 964.555,66.7844 964.782,66.7844 965.009,66.7844 965.236,66.7844 965.463,66.7844 965.69,66.7844 965.917,66.7844 966.144,66.7844 966.371,66.7844 \n",
       "  966.598,66.7844 966.825,66.7844 967.052,66.7844 967.279,66.7844 967.506,66.7844 967.733,66.7844 967.96,66.7844 968.187,66.7844 968.414,66.7844 968.641,66.7844 \n",
       "  968.869,66.7844 969.096,66.7844 969.323,66.7844 969.55,66.7844 969.777,66.7844 970.004,66.7844 970.231,66.7844 970.458,66.7844 970.685,66.7844 970.912,66.7844 \n",
       "  971.139,66.7844 971.366,66.7844 971.593,66.7844 971.82,66.7844 972.047,66.7844 972.274,66.7844 972.501,66.7844 972.728,66.7844 972.955,66.7844 973.182,66.7844 \n",
       "  973.409,66.7844 973.636,66.7844 973.863,66.7844 974.09,66.7844 974.317,66.7844 974.544,66.7844 974.771,66.7844 974.998,66.7844 975.225,66.7844 975.452,66.7844 \n",
       "  975.679,66.7844 975.906,66.7844 976.133,66.7844 976.36,66.7844 976.587,66.7844 976.814,66.7844 977.041,66.7844 977.268,66.7844 977.495,66.7844 977.722,66.7844 \n",
       "  977.949,66.7844 978.176,66.7844 978.403,66.7844 978.63,66.7844 978.857,66.7844 979.084,66.7844 979.312,66.7844 979.539,66.7844 979.766,66.7844 979.993,66.7844 \n",
       "  980.22,66.7844 980.447,66.7844 980.674,66.7844 980.901,66.7844 981.128,66.7844 981.355,66.7844 981.582,66.7844 981.809,66.7844 982.036,66.7844 982.263,66.7844 \n",
       "  982.49,66.7844 982.717,66.7844 982.944,66.7844 983.171,66.7844 983.398,66.7844 983.625,66.7844 983.852,66.7844 984.079,66.7844 984.306,66.7844 984.533,66.7844 \n",
       "  984.76,66.7844 984.987,66.7844 985.214,66.7844 985.441,66.7844 985.668,66.7844 985.895,66.7844 986.122,66.7844 986.349,66.7844 986.576,66.7844 986.803,66.7844 \n",
       "  987.03,66.7844 987.257,66.7844 987.484,66.7844 987.711,66.7844 987.938,66.7844 988.165,66.7844 988.392,66.7844 988.619,66.7844 988.846,66.7844 989.073,66.7844 \n",
       "  989.3,66.7844 989.527,66.7844 989.754,66.7844 989.982,66.7844 990.209,66.7844 990.436,66.7844 990.663,66.7844 990.89,66.7844 991.117,66.7844 991.344,66.7844 \n",
       "  991.571,66.7844 991.798,66.7844 992.025,66.7844 992.252,66.7844 992.479,66.7844 992.706,66.7844 992.933,66.7844 993.16,66.7844 993.387,66.7844 993.614,66.7844 \n",
       "  993.841,66.7844 994.068,66.7844 994.295,66.7844 994.522,66.7844 994.749,66.7844 994.976,66.7844 995.203,66.7844 995.43,66.7844 995.657,66.7844 995.884,66.7844 \n",
       "  996.111,66.7844 996.338,66.7844 996.565,66.7844 996.792,66.7844 997.019,66.7844 997.246,66.7844 997.473,66.7844 997.7,66.7844 997.927,66.7844 998.154,66.7844 \n",
       "  998.381,66.7844 998.608,66.7844 998.835,66.7844 999.062,66.7844 999.289,66.7844 999.516,66.7844 999.743,66.7844 999.97,66.7844 1000.2,66.7844 1000.42,66.7844 \n",
       "  1000.65,66.7844 1000.88,66.7844 1001.11,66.7844 1001.33,66.7844 1001.56,66.7844 1001.79,66.7844 1002.01,66.7844 1002.24,66.7844 1002.47,66.7844 1002.69,66.7844 \n",
       "  1002.92,66.7844 1003.15,66.7844 1003.38,66.7844 1003.6,66.7844 1003.83,66.7844 1004.06,66.7844 1004.28,66.7844 1004.51,66.7844 1004.74,66.7844 1004.96,66.7844 \n",
       "  1005.19,66.7844 1005.42,66.7844 1005.65,66.7844 1005.87,66.7844 1006.1,66.7844 1006.33,66.7844 1006.55,66.7844 1006.78,66.7844 1007.01,66.7844 1007.24,66.7844 \n",
       "  1007.46,66.7844 1007.69,66.7844 1007.92,66.7844 1008.14,66.7844 1008.37,66.7844 1008.6,66.7844 1008.82,66.7844 1009.05,66.7844 1009.28,66.7844 1009.51,66.7844 \n",
       "  1009.73,66.7844 1009.96,66.7844 1010.19,66.7844 1010.41,66.7844 1010.64,66.7844 1010.87,66.7844 1011.09,66.7844 1011.32,66.7844 1011.55,66.7844 1011.78,66.7844 \n",
       "  1012,66.7844 1012.23,66.7844 1012.46,66.7844 1012.68,66.7844 1012.91,66.7844 1013.14,66.7844 1013.36,66.7844 1013.59,66.7844 1013.82,66.7844 1014.05,66.7844 \n",
       "  1014.27,66.7844 1014.5,66.7844 1014.73,66.7844 1014.95,66.7844 1015.18,66.7844 1015.41,66.7844 1015.63,66.7844 1015.86,66.7844 1016.09,66.7844 1016.32,66.7844 \n",
       "  1016.54,66.7844 1016.77,66.7844 1017,66.7844 1017.22,66.7844 1017.45,66.7844 1017.68,66.7844 1017.91,66.7844 1018.13,66.7844 1018.36,66.7844 1018.59,66.7844 \n",
       "  1018.81,66.7844 1019.04,66.7844 1019.27,66.7844 1019.49,66.7844 1019.72,66.7844 1019.95,66.7844 1020.18,66.7844 1020.4,66.7844 1020.63,66.7844 1020.86,66.7844 \n",
       "  1021.08,66.7844 1021.31,66.7844 1021.54,66.7844 1021.76,66.7844 1021.99,66.7844 1022.22,66.7844 1022.45,66.7844 1022.67,66.7844 1022.9,66.7844 1023.13,66.7844 \n",
       "  1023.35,66.7844 1023.58,66.7844 1023.81,66.7844 1024.03,66.7844 1024.26,66.7844 1024.49,66.7844 1024.72,66.7844 1024.94,66.7844 1025.17,66.7844 1025.4,66.7844 \n",
       "  1025.62,66.7844 1025.85,66.7844 1026.08,66.7844 1026.3,66.7844 1026.53,66.7844 1026.76,66.7844 1026.99,66.7844 1027.21,66.7844 1027.44,66.7844 1027.67,66.7844 \n",
       "  1027.89,66.7844 1028.12,66.7844 1028.35,66.7844 1028.58,66.7844 1028.8,66.7844 1029.03,66.7844 1029.26,66.7844 1029.48,66.7844 1029.71,66.7844 1029.94,66.7844 \n",
       "  1030.16,66.7844 1030.39,66.7844 1030.62,66.7844 1030.85,66.7844 1031.07,66.7844 1031.3,66.7844 1031.53,66.7844 1031.75,66.7844 1031.98,66.7844 1032.21,66.7844 \n",
       "  1032.43,66.7844 1032.66,66.7844 1032.89,66.7844 1033.12,66.7844 1033.34,66.7844 1033.57,66.7844 1033.8,66.7844 1034.02,66.7844 1034.25,66.7844 1034.48,66.7844 \n",
       "  1034.7,66.7844 1034.93,66.7844 1035.16,66.7844 1035.39,66.7844 1035.61,66.7844 1035.84,66.7844 1036.07,66.7844 1036.29,66.7844 1036.52,66.7844 1036.75,66.7844 \n",
       "  1036.97,66.7844 1037.2,66.7844 1037.43,66.7844 1037.66,66.7844 1037.88,66.7844 1038.11,66.7844 1038.34,66.7844 1038.56,66.7844 1038.79,66.7844 1039.02,66.7844 \n",
       "  1039.25,66.7844 1039.47,66.7844 1039.7,66.7844 1039.93,66.7844 1040.15,66.7844 1040.38,66.7844 1040.61,66.7844 1040.83,66.7844 1041.06,66.7844 1041.29,66.7844 \n",
       "  1041.52,66.7844 1041.74,66.7844 1041.97,66.7844 1042.2,66.7844 1042.42,66.7844 1042.65,66.7844 1042.88,66.7844 1043.1,66.7844 1043.33,66.7844 1043.56,66.7844 \n",
       "  1043.79,66.7844 1044.01,66.7844 1044.24,66.7844 1044.47,66.7844 1044.69,66.7844 1044.92,66.7844 1045.15,66.7844 1045.37,66.7844 1045.6,66.7844 1045.83,66.7844 \n",
       "  1046.06,66.7844 1046.28,66.7844 1046.51,66.7844 1046.74,66.7844 1046.96,66.7844 1047.19,66.7844 1047.42,66.7844 1047.64,66.7844 1047.87,66.7844 1048.1,66.7844 \n",
       "  1048.33,66.7844 1048.55,66.7844 1048.78,66.7844 1049.01,66.7844 1049.23,66.7844 1049.46,66.7844 1049.69,66.7844 1049.92,66.7844 1050.14,66.7844 1050.37,66.7844 \n",
       "  1050.6,66.7844 1050.82,66.7844 1051.05,66.7844 1051.28,66.7844 1051.5,66.7844 1051.73,66.7844 1051.96,66.7844 1052.19,66.7844 1052.41,66.7844 1052.64,66.7844 \n",
       "  1052.87,66.7844 1053.09,66.7844 1053.32,66.7844 1053.55,66.7844 1053.77,66.7844 1054,66.7844 1054.23,66.7844 1054.46,66.7844 1054.68,66.7844 1054.91,66.7844 \n",
       "  1055.14,66.7844 1055.36,66.7844 1055.59,66.7844 1055.82,66.7844 1056.04,66.7844 1056.27,66.7844 1056.5,66.7844 1056.73,66.7844 1056.95,66.7844 1057.18,66.7844 \n",
       "  1057.41,66.7844 1057.63,66.7844 1057.86,66.7844 1058.09,66.7844 1058.31,66.7844 1058.54,66.7844 1058.77,66.7844 1059,66.7844 1059.22,66.7844 1059.45,66.7844 \n",
       "  1059.68,66.7844 1059.9,66.7844 1060.13,66.7844 1060.36,66.7844 1060.59,66.7844 1060.81,66.7844 1061.04,66.7844 1061.27,66.7844 1061.49,66.7844 1061.72,66.7844 \n",
       "  1061.95,66.7844 1062.17,66.7844 1062.4,66.7844 1062.63,66.7844 1062.86,66.7844 1063.08,66.7844 1063.31,66.7844 1063.54,66.7844 1063.76,66.7844 1063.99,66.7844 \n",
       "  1064.22,66.7844 1064.44,66.7844 1064.67,66.7844 1064.9,66.7844 1065.13,66.7844 1065.35,66.7844 1065.58,66.7844 1065.81,66.7844 1066.03,66.7844 1066.26,66.7844 \n",
       "  1066.49,66.7844 1066.71,66.7844 1066.94,66.7844 1067.17,66.7844 1067.4,66.7844 1067.62,66.7844 1067.85,66.7844 1068.08,66.7844 1068.3,66.7844 1068.53,66.7844 \n",
       "  1068.76,66.7844 1068.98,66.7844 1069.21,66.7844 1069.44,66.7844 1069.67,66.7844 1069.89,66.7844 1070.12,66.7844 1070.35,66.7844 1070.57,66.7844 1070.8,66.7844 \n",
       "  1071.03,66.7844 1071.26,66.7844 1071.48,66.7844 1071.71,66.7844 1071.94,66.7844 1072.16,66.7844 1072.39,66.7844 1072.62,66.7844 1072.84,66.7844 1073.07,66.7844 \n",
       "  1073.3,66.7844 1073.53,66.7844 1073.75,66.7844 1073.98,66.7844 1074.21,66.7844 1074.43,66.7844 1074.66,66.7844 1074.89,66.7844 1075.11,66.7844 1075.34,66.7844 \n",
       "  1075.57,66.7844 1075.8,66.7844 1076.02,66.7844 1076.25,66.7844 1076.48,66.7844 1076.7,66.7844 1076.93,66.7844 1077.16,66.7844 1077.38,66.7844 1077.61,66.7844 \n",
       "  1077.84,66.7844 1078.07,66.7844 1078.29,66.7844 1078.52,66.7844 1078.75,66.7844 1078.97,66.7844 1079.2,66.7844 1079.43,66.7844 1079.65,66.7844 1079.88,66.7844 \n",
       "  1080.11,66.7844 1080.34,66.7844 1080.56,66.7844 1080.79,66.7844 1081.02,66.7844 1081.24,66.7844 1081.47,66.7844 1081.7,66.7844 1081.93,66.7844 1082.15,66.7844 \n",
       "  1082.38,66.7844 1082.61,66.7844 1082.83,66.7844 1083.06,66.7844 1083.29,66.7844 1083.51,66.7844 1083.74,66.7844 1083.97,66.7844 1084.2,66.7844 1084.42,66.7844 \n",
       "  1084.65,66.7844 1084.88,66.7844 1085.1,66.7844 1085.33,66.7844 1085.56,66.7844 1085.78,66.7844 1086.01,66.7844 1086.24,66.7844 1086.47,66.7844 1086.69,66.7844 \n",
       "  1086.92,66.7844 1087.15,66.7844 1087.37,66.7844 1087.6,66.7844 1087.83,66.7844 1088.05,66.7844 1088.28,66.7844 1088.51,66.7844 1088.74,66.7844 1088.96,66.7844 \n",
       "  1089.19,66.7844 1089.42,66.7844 1089.64,66.7844 1089.87,66.7844 1090.1,66.7844 1090.33,66.7844 1090.55,66.7844 1090.78,66.7844 1091.01,66.7844 1091.23,66.7844 \n",
       "  1091.46,66.7844 1091.69,66.7844 1091.91,66.7844 1092.14,66.7844 1092.37,66.7844 1092.6,66.7844 1092.82,66.7844 1093.05,66.7844 1093.28,66.7844 1093.5,66.7844 \n",
       "  1093.73,66.7844 1093.96,66.7844 1094.18,66.7844 1094.41,66.7844 1094.64,66.7844 1094.87,66.7844 1095.09,66.7844 1095.32,66.7844 1095.55,66.7844 1095.77,66.7844 \n",
       "  1096,66.7844 1096.23,66.7844 1096.45,66.7844 1096.68,66.7844 1096.91,66.7844 1097.14,66.7844 1097.36,66.7844 1097.59,66.7844 1097.82,66.7844 1098.04,66.7844 \n",
       "  1098.27,66.7844 1098.5,66.7844 1098.72,66.7844 1098.95,66.7844 1099.18,66.7844 1099.41,66.7844 1099.63,66.7844 1099.86,66.7844 1100.09,66.7844 1100.31,66.7844 \n",
       "  1100.54,66.7844 1100.77,66.7844 1101,66.7844 1101.22,66.7844 1101.45,66.7844 1101.68,66.7844 1101.9,66.7844 1102.13,66.7844 1102.36,66.7844 1102.58,66.7844 \n",
       "  1102.81,66.7844 1103.04,66.7844 1103.27,66.7844 1103.49,66.7844 1103.72,66.7844 1103.95,66.7844 1104.17,66.7844 1104.4,66.7844 1104.63,66.7844 1104.85,66.7844 \n",
       "  1105.08,66.7844 1105.31,66.7844 1105.54,66.7844 1105.76,66.7844 1105.99,66.7844 1106.22,66.7844 1106.44,66.7844 1106.67,66.7844 1106.9,66.7844 1107.12,66.7844 \n",
       "  1107.35,66.7844 1107.58,66.7844 1107.81,66.7844 1108.03,66.7844 1108.26,66.7844 1108.49,66.7844 1108.71,66.7844 1108.94,66.7844 1109.17,66.7844 1109.39,66.7844 \n",
       "  1109.62,66.7844 1109.85,66.7844 1110.08,66.7844 1110.3,66.7844 1110.53,66.7844 1110.76,66.7844 1110.98,66.7844 1111.21,66.7844 1111.44,66.7844 1111.67,66.7844 \n",
       "  1111.89,66.7844 1112.12,66.7844 1112.35,66.7844 1112.57,66.7844 1112.8,66.7844 1113.03,66.7844 1113.25,66.7844 1113.48,66.7844 1113.71,66.7844 1113.94,66.7844 \n",
       "  1114.16,66.7844 1114.39,66.7844 1114.62,66.7844 1114.84,66.7844 1115.07,66.7844 1115.3,66.7844 1115.52,66.7844 1115.75,66.7844 1115.98,66.7844 1116.21,66.7844 \n",
       "  1116.43,66.7844 1116.66,66.7844 1116.89,66.7844 1117.11,66.7844 1117.34,66.7844 1117.57,66.7844 1117.79,66.7844 1118.02,66.7844 1118.25,66.7844 1118.48,66.7844 \n",
       "  1118.7,66.7844 1118.93,66.7844 1119.16,66.7844 1119.38,66.7844 1119.61,66.7844 1119.84,66.7844 1120.06,66.7844 1120.29,66.7844 1120.52,66.7844 1120.75,66.7844 \n",
       "  1120.97,66.7844 1121.2,66.7844 1121.43,66.7844 1121.65,66.7844 1121.88,66.7844 1122.11,66.7844 1122.34,66.7844 1122.56,66.7844 1122.79,66.7844 1123.02,66.7844 \n",
       "  1123.24,66.7844 1123.47,66.7844 1123.7,66.7844 1123.92,66.7844 1124.15,66.7844 1124.38,66.7844 1124.61,66.7844 1124.83,66.7844 1125.06,66.7844 1125.29,66.7844 \n",
       "  1125.51,66.7844 1125.74,66.7844 1125.97,66.7844 1126.19,66.7844 1126.42,66.7844 1126.65,66.7844 1126.88,66.7844 1127.1,66.7844 1127.33,66.7844 1127.56,66.7844 \n",
       "  1127.78,66.7844 1128.01,66.7844 1128.24,66.7844 1128.46,66.7844 1128.69,66.7844 1128.92,66.7844 1129.15,66.7844 1129.37,66.7844 1129.6,66.7844 1129.83,66.7844 \n",
       "  1130.05,66.7844 1130.28,66.7844 1130.51,66.7844 1130.73,66.7844 1130.96,66.7844 1131.19,66.7844 1131.42,66.7844 1131.64,66.7844 1131.87,66.7844 1132.1,66.7844 \n",
       "  1132.32,66.7844 1132.55,66.7844 1132.78,66.7844 1133.01,66.7844 1133.23,66.7844 1133.46,66.7844 1133.69,66.7844 1133.91,66.7844 1134.14,66.7844 1134.37,66.7844 \n",
       "  1134.59,66.7844 1134.82,66.7844 1135.05,66.7844 1135.28,66.7844 1135.5,66.7844 1135.73,66.7844 1135.96,66.7844 1136.18,66.7844 1136.41,66.7844 1136.64,66.7844 \n",
       "  1136.86,66.7844 1137.09,66.7844 1137.32,66.7844 1137.55,66.7844 1137.77,66.7844 1138,66.7844 1138.23,66.7844 1138.45,66.7844 1138.68,66.7844 1138.91,66.7844 \n",
       "  1139.13,66.7844 1139.36,66.7844 1139.59,66.7844 1139.82,66.7844 1140.04,66.7844 1140.27,66.7844 1140.5,66.7844 1140.72,66.7844 1140.95,66.7844 1141.18,66.7844 \n",
       "  1141.4,66.7844 1141.63,66.7844 1141.86,66.7844 1142.09,66.7844 1142.31,66.7844 1142.54,66.7844 1142.77,66.7844 1142.99,66.7844 1143.22,66.7844 1143.45,66.7844 \n",
       "  1143.68,66.7844 1143.9,66.7844 1144.13,66.7844 1144.36,66.7844 1144.58,66.7844 1144.81,66.7844 1145.04,66.7844 1145.26,66.7844 1145.49,66.7844 1145.72,66.7844 \n",
       "  1145.95,66.7844 1146.17,66.7844 1146.4,66.7844 1146.63,66.7844 1146.85,66.7844 1147.08,66.7844 1147.31,66.7844 1147.53,66.7844 1147.76,66.7844 1147.99,66.7844 \n",
       "  1148.22,66.7844 1148.44,66.7844 1148.67,66.7844 1148.9,66.7844 1149.12,66.7844 1149.35,66.7844 1149.58,66.7844 1149.8,66.7844 1150.03,66.7844 1150.26,66.7844 \n",
       "  1150.49,66.7844 1150.71,66.7844 1150.94,66.7844 1151.17,66.7844 1151.39,66.7844 1151.62,66.7844 1151.85,66.7844 1152.07,66.7844 1152.3,66.7844 1152.53,66.7844 \n",
       "  1152.76,66.7844 \n",
       "  \"/>\n",
       "</svg>\n"
      ]
     },
     "execution_count": 2,
     "metadata": {},
     "output_type": "execute_result"
    }
   ],
   "source": [
    "function system(y, p, t)\n",
    "    if t < 10.0\n",
    "        u = 0.0\n",
    "    else\n",
    "        u = 1.0\n",
    "    end\n",
    "    \n",
    "    dydt = (-y + u)/5.0 \n",
    "    return dydt\n",
    "end\n",
    "\n",
    "y0 = 0.5\n",
    "tspan = (0.0, 40.0)\n",
    "\n",
    "prob = ODEProblem(system,y0,tspan)\n",
    "sol = solve(prob, DP5()) \n",
    "\n",
    "plot(sol)\n",
    "\n",
    "plot(sol,\n",
    "     xlabel=\"t\",   #X軸のラベル\n",
    "     ylabel=\"u, y\",   #Y軸のラベル\n",
    "     lw=2,           #線幅\n",
    "     ls=:solid,        #線種\n",
    "     legend=false,\n",
    "     size=(300,230)   #プロットのサイズ     \n",
    ")\n",
    "\n",
    "t = 0:0.01:40;\n",
    "u = 1*(t.>10);\n",
    "plot!(t, u, lc=:red)"
   ]
  },
  {
   "cell_type": "code",
   "execution_count": null,
   "metadata": {},
   "outputs": [],
   "source": []
  }
 ],
 "metadata": {
  "kernelspec": {
   "display_name": "Julia 1.7.0",
   "language": "julia",
   "name": "julia-1.7"
  },
  "language_info": {
   "file_extension": ".jl",
   "mimetype": "application/julia",
   "name": "julia",
   "version": "1.7.0"
  },
  "toc-autonumbering": false,
  "toc-showcode": false,
  "toc-showmarkdowntxt": false,
  "toc-showtags": false
 },
 "nbformat": 4,
 "nbformat_minor": 4
}
