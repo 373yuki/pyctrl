{
 "cells": [
  {
   "cell_type": "markdown",
   "metadata": {},
   "source": [
    "# Chapter 3"
   ]
  },
  {
   "cell_type": "code",
   "execution_count": 1,
   "metadata": {},
   "outputs": [],
   "source": [
    "from control.matlab import *"
   ]
  },
  {
   "cell_type": "markdown",
   "metadata": {},
   "source": [
    "## 伝達関数モデルの記述"
   ]
  },
  {
   "cell_type": "code",
   "execution_count": 2,
   "metadata": {},
   "outputs": [
    {
     "name": "stdout",
     "output_type": "stream",
     "text": [
      "P(s)= \n",
      "      1\n",
      "-------------\n",
      "s^2 + 2 s + 3\n",
      "\n"
     ]
    }
   ],
   "source": [
    "Np = [0, 1]      # 伝達関数の分子多項式の係数 (0*s + 1)\n",
    "Dp = [1, 2, 3]   # 伝達関数の分母多項式の係数 (1*s^2 + 2*s + 3)\n",
    "P = tf(Np, Dp)\n",
    "print('P(s)=', P)"
   ]
  },
  {
   "cell_type": "code",
   "execution_count": 3,
   "metadata": {},
   "outputs": [
    {
     "name": "stdout",
     "output_type": "stream",
     "text": [
      "P(s)= \n",
      "      1\n",
      "-------------\n",
      "s^2 + 2 s + 3\n",
      "\n"
     ]
    }
   ],
   "source": [
    "P = tf([0, 1], [1, 2, 3])\n",
    "print('P(s)=', P)"
   ]
  },
  {
   "cell_type": "markdown",
   "metadata": {},
   "source": [
    "### 練習問題"
   ]
  },
  {
   "cell_type": "code",
   "execution_count": 4,
   "metadata": {},
   "outputs": [
    {
     "data": {
      "text/plain": [
       "\n",
       "        s + 2\n",
       "---------------------\n",
       "s^3 + 5 s^2 + 3 s + 4"
      ]
     },
     "execution_count": 4,
     "metadata": {},
     "output_type": "execute_result"
    }
   ],
   "source": [
    "P = tf([1, 2], [1, 5, 3, 4])\n",
    "P"
   ]
  },
  {
   "cell_type": "markdown",
   "metadata": {},
   "source": [
    "分母多項式の展開"
   ]
  },
  {
   "cell_type": "code",
   "execution_count": 5,
   "metadata": {},
   "outputs": [
    {
     "data": {
      "image/png": "[encoded data removed]",
      "text/latex": [
       "$$s^{3} + 5 s^{2} + 8 s + 4$$"
      ],
      "text/plain": [
       " 3      2          \n",
       "s  + 5⋅s  + 8⋅s + 4"
      ]
     },
     "execution_count": 5,
     "metadata": {},
     "output_type": "execute_result"
    }
   ],
   "source": [
    "import sympy as sp\n",
    "sp.init_printing()\n",
    "\n",
    "s = sp.Symbol('s')\n",
    "sp.expand( (s+1)*(s+2)**2, s)"
   ]
  },
  {
   "cell_type": "code",
   "execution_count": 6,
   "metadata": {},
   "outputs": [
    {
     "data": {
      "text/plain": [
       "\n",
       "        s + 3\n",
       "---------------------\n",
       "s^3 + 5 s^2 + 8 s + 4"
      ]
     },
     "execution_count": 6,
     "metadata": {},
     "output_type": "execute_result"
    }
   ],
   "source": [
    "P = tf([1, 3],[1, 5, 8, 4])\n",
    "P"
   ]
  },
  {
   "cell_type": "code",
   "execution_count": 7,
   "metadata": {},
   "outputs": [
    {
     "data": {
      "text/plain": [
       "\n",
       "        s + 3\n",
       "---------------------\n",
       "s^3 + 5 s^2 + 8 s + 4"
      ]
     },
     "execution_count": 7,
     "metadata": {},
     "output_type": "execute_result"
    }
   ],
   "source": [
    "P1 = tf([1, 3], [0, 1])\n",
    "P2 = tf([0, 1], [1, 1])\n",
    "P3 = tf([0, 1], [1, 2])\n",
    "P = P1 * P2 * P3**2\n",
    "P"
   ]
  },
  {
   "cell_type": "markdown",
   "metadata": {},
   "source": [
    "### 分母・分子多項式の係数の抽出"
   ]
  },
  {
   "cell_type": "code",
   "execution_count": 8,
   "metadata": {},
   "outputs": [
    {
     "name": "stdout",
     "output_type": "stream",
     "text": [
      "[[array([1., 3.])]]\n",
      "[[array([1, 5, 8, 4])]]\n"
     ]
    }
   ],
   "source": [
    "print(P.num)\n",
    "print(P.den)"
   ]
  },
  {
   "cell_type": "code",
   "execution_count": 9,
   "metadata": {},
   "outputs": [
    {
     "name": "stdout",
     "output_type": "stream",
     "text": [
      "[1. 3.]\n",
      "[1 5 8 4]\n"
     ]
    }
   ],
   "source": [
    "[[numP]], [[denP]] = tfdata(P)\n",
    "print(numP)\n",
    "print(denP)"
   ]
  },
  {
   "cell_type": "markdown",
   "metadata": {},
   "source": [
    "## 状態空間モデルの記述"
   ]
  },
  {
   "cell_type": "code",
   "execution_count": 10,
   "metadata": {},
   "outputs": [
    {
     "name": "stdout",
     "output_type": "stream",
     "text": [
      "A = [[ 0  1]\n",
      " [-1 -1]]\n",
      "\n",
      "B = [[0]\n",
      " [1]]\n",
      "\n",
      "C = [[1 0]]\n",
      "\n",
      "D = [[0]]\n",
      "\n"
     ]
    }
   ],
   "source": [
    "A = '0 1; -1 -1'\n",
    "B = '0; 1'\n",
    "C = '1 0'\n",
    "D = '0'\n",
    "P = ss(A, B, C, D)\n",
    "print(P)"
   ]
  },
  {
   "cell_type": "code",
   "execution_count": 11,
   "metadata": {},
   "outputs": [
    {
     "name": "stdout",
     "output_type": "stream",
     "text": [
      "A = [[ 0  1]\n",
      " [-1 -1]]\n",
      "\n",
      "B = [[0]\n",
      " [1]]\n",
      "\n",
      "C = [[1 0]]\n",
      "\n",
      "D = [[0]]\n",
      "\n"
     ]
    }
   ],
   "source": [
    "A = [ [0, 1], [-1, -1] ]\n",
    "B = [ [0], [1] ]\n",
    "C = [ 1, 0 ]\n",
    "D = [ 0 ]\n",
    "P = ss(A, B, C, D)\n",
    "print(P)"
   ]
  },
  {
   "cell_type": "markdown",
   "metadata": {},
   "source": [
    "### 練習問題"
   ]
  },
  {
   "cell_type": "code",
   "execution_count": 12,
   "metadata": {},
   "outputs": [
    {
     "name": "stdout",
     "output_type": "stream",
     "text": [
      "A = [[1 1 2]\n",
      " [2 1 1]\n",
      " [3 4 5]]\n",
      "\n",
      "B = [[2]\n",
      " [0]\n",
      " [1]]\n",
      "\n",
      "C = [[1 1 0]]\n",
      "\n",
      "D = [[0]]\n",
      "\n"
     ]
    }
   ],
   "source": [
    "A = '1 1 2; 2 1 1; 3 4 5'\n",
    "B = '2; 0; 1'\n",
    "C = '1 1 0'\n",
    "D = '0'\n",
    "P = ss(A, B, C, D)\n",
    "print(P)"
   ]
  },
  {
   "cell_type": "markdown",
   "metadata": {},
   "source": [
    "### A,B,C,D行列の抽出"
   ]
  },
  {
   "cell_type": "code",
   "execution_count": 13,
   "metadata": {},
   "outputs": [
    {
     "name": "stdout",
     "output_type": "stream",
     "text": [
      "A= [[1 1 2]\n",
      " [2 1 1]\n",
      " [3 4 5]]\n",
      "B= [[2]\n",
      " [0]\n",
      " [1]]\n",
      "C= [[1 1 0]]\n",
      "D= [[0]]\n"
     ]
    }
   ],
   "source": [
    "print('A=', P.A)\n",
    "print('B=', P.B)\n",
    "print('C=', P.C)\n",
    "print('D=', P.D)"
   ]
  },
  {
   "cell_type": "code",
   "execution_count": 14,
   "metadata": {},
   "outputs": [
    {
     "name": "stdout",
     "output_type": "stream",
     "text": [
      "A= [[1 1 2]\n",
      " [2 1 1]\n",
      " [3 4 5]]\n",
      "B= [[2]\n",
      " [0]\n",
      " [1]]\n",
      "C= [[1 1 0]]\n",
      "D= [[0]]\n"
     ]
    }
   ],
   "source": [
    "sysA, sysB, sysC, sysD = ssdata(P)\n",
    "print('A=', sysA)\n",
    "print('B=', sysB)\n",
    "print('C=', sysC)\n",
    "print('D=', sysD)"
   ]
  },
  {
   "cell_type": "markdown",
   "metadata": {},
   "source": [
    "## ブロック線図の結合"
   ]
  },
  {
   "cell_type": "code",
   "execution_count": 15,
   "metadata": {},
   "outputs": [
    {
     "name": "stdout",
     "output_type": "stream",
     "text": [
      "\n",
      "  1\n",
      "-----\n",
      "s + 1\n",
      "\n",
      "\n",
      "   s + 1\n",
      "-----------\n",
      "s^2 + s + 1\n",
      "\n"
     ]
    }
   ],
   "source": [
    "S1 = tf( [0, 1], [1, 1])\n",
    "S2 = tf( [1, 1], [1, 1, 1])\n",
    "print(S1)\n",
    "print(S2)"
   ]
  },
  {
   "cell_type": "markdown",
   "metadata": {},
   "source": [
    "### 直列結合"
   ]
  },
  {
   "cell_type": "code",
   "execution_count": 16,
   "metadata": {},
   "outputs": [
    {
     "name": "stdout",
     "output_type": "stream",
     "text": [
      "S= \n",
      "        s + 1\n",
      "---------------------\n",
      "s^3 + 2 s^2 + 2 s + 1\n",
      "\n",
      "S= \n",
      "        s + 1\n",
      "---------------------\n",
      "s^3 + 2 s^2 + 2 s + 1\n",
      "\n"
     ]
    }
   ],
   "source": [
    "S = S2 * S1\n",
    "print('S=', S)\n",
    "\n",
    "S = series(S1, S2)\n",
    "print('S=', S)"
   ]
  },
  {
   "cell_type": "markdown",
   "metadata": {},
   "source": [
    "分母分子の共通因子 s+1 が約分されない\n",
    "この場合は，minreal を使う"
   ]
  },
  {
   "cell_type": "code",
   "execution_count": 17,
   "metadata": {},
   "outputs": [
    {
     "data": {
      "text/plain": [
       "\n",
       "     1\n",
       "-----------\n",
       "s^2 + s + 1"
      ]
     },
     "execution_count": 17,
     "metadata": {},
     "output_type": "execute_result"
    }
   ],
   "source": [
    "S.minreal()"
   ]
  },
  {
   "cell_type": "markdown",
   "metadata": {},
   "source": [
    "あるいは，状態空間モデルに変換してから結合する"
   ]
  },
  {
   "cell_type": "code",
   "execution_count": 18,
   "metadata": {},
   "outputs": [
    {
     "name": "stdout",
     "output_type": "stream",
     "text": [
      "\n",
      "     1\n",
      "-----------\n",
      "s^2 + s + 1\n",
      "\n",
      "\n",
      "     1\n",
      "-----------\n",
      "s^2 + s + 1\n",
      "\n"
     ]
    }
   ],
   "source": [
    "S1ss = ss(S1) # 状態空間モデルへの変換\n",
    "S2ss = ss(S2) # 状態空間モデルへの変換\n",
    "\n",
    "S = S1ss * S2ss\n",
    "print(tf(S))\n",
    "S = series(S1ss, S2ss)\n",
    "print(tf(S))"
   ]
  },
  {
   "cell_type": "markdown",
   "metadata": {},
   "source": [
    "### 並列結合"
   ]
  },
  {
   "cell_type": "code",
   "execution_count": 19,
   "metadata": {},
   "outputs": [
    {
     "name": "stdout",
     "output_type": "stream",
     "text": [
      "S= \n",
      "   2 s^2 + 3 s + 2\n",
      "---------------------\n",
      "s^3 + 2 s^2 + 2 s + 1\n",
      "\n",
      "S= \n",
      "   2 s^2 + 3 s + 2\n",
      "---------------------\n",
      "s^3 + 2 s^2 + 2 s + 1\n",
      "\n"
     ]
    }
   ],
   "source": [
    "S = S1 + S2\n",
    "print('S=', S)\n",
    "S = parallel(S1, S2)\n",
    "print('S=', S)"
   ]
  },
  {
   "cell_type": "markdown",
   "metadata": {},
   "source": [
    "### フィードバック結合"
   ]
  },
  {
   "cell_type": "code",
   "execution_count": 20,
   "metadata": {},
   "outputs": [
    {
     "name": "stdout",
     "output_type": "stream",
     "text": [
      "S= \n",
      "         s^4 + 3 s^3 + 4 s^2 + 3 s + 1\n",
      "-----------------------------------------------\n",
      "s^6 + 4 s^5 + 9 s^4 + 13 s^3 + 12 s^2 + 7 s + 2\n",
      "\n",
      "S= \n",
      "        s + 1\n",
      "---------------------\n",
      "s^3 + 2 s^2 + 3 s + 2\n",
      "\n"
     ]
    }
   ],
   "source": [
    "S = S1*S2 / (1 + S1*S2)\n",
    "print('S=', S)\n",
    "S = feedback(S1*S2, 1)\n",
    "print('S=', S)"
   ]
  },
  {
   "cell_type": "code",
   "execution_count": 21,
   "metadata": {},
   "outputs": [
    {
     "name": "stdout",
     "output_type": "stream",
     "text": [
      "S= \n",
      "     1\n",
      "-----------\n",
      "s^2 + s + 2\n",
      "\n"
     ]
    }
   ],
   "source": [
    "print('S=', S.minreal())"
   ]
  },
  {
   "cell_type": "markdown",
   "metadata": {},
   "source": [
    "ポジティブフィードバックの場合"
   ]
  },
  {
   "cell_type": "code",
   "execution_count": 22,
   "metadata": {},
   "outputs": [
    {
     "name": "stdout",
     "output_type": "stream",
     "text": [
      "\n",
      "   1\n",
      "-------\n",
      "s^2 + s\n",
      "\n"
     ]
    }
   ],
   "source": [
    "S = feedback(S1*S2, 1, sign = 1)\n",
    "print(S.minreal())"
   ]
  },
  {
   "cell_type": "markdown",
   "metadata": {},
   "source": [
    "### 練習問題"
   ]
  },
  {
   "cell_type": "code",
   "execution_count": 23,
   "metadata": {},
   "outputs": [
    {
     "name": "stdout",
     "output_type": "stream",
     "text": [
      "S1= \n",
      "  1\n",
      "-----\n",
      "s + 1\n",
      "\n",
      "S2= \n",
      "  1\n",
      "-----\n",
      "s + 2\n",
      "\n",
      "S3= \n",
      "3 s + 1\n",
      "-------\n",
      "   s\n",
      "\n",
      "S4= \n",
      "2 s\n",
      "---\n",
      " 1\n",
      "\n",
      "S= \n",
      "  3 s^2 + 7 s + 2\n",
      "--------------------\n",
      "7 s^3 + 17 s^2 + 7 s\n",
      "\n"
     ]
    }
   ],
   "source": [
    "S1 = tf(1, [1, 1])\n",
    "S2 = tf(1, [1, 2])\n",
    "S3 = tf([3, 1], [1, 0])\n",
    "S4 = tf([2, 0], [0, 1])\n",
    "\n",
    "print('S1=', S1)\n",
    "print('S2=', S2)\n",
    "print('S3=', S3)\n",
    "print('S4=', S4)\n",
    "\n",
    "S12 = feedback(S1, S2)\n",
    "S123 = series(S12, S3)\n",
    "S = feedback(S123, S4)\n",
    "print('S=', S)"
   ]
  },
  {
   "cell_type": "markdown",
   "metadata": {
    "toc-hr-collapsed": true
   },
   "source": [
    "## 補遺（実現問題とプロパー性）"
   ]
  },
  {
   "cell_type": "markdown",
   "metadata": {},
   "source": [
    "### 実現問題"
   ]
  },
  {
   "cell_type": "code",
   "execution_count": 24,
   "metadata": {},
   "outputs": [
    {
     "name": "stdout",
     "output_type": "stream",
     "text": [
      "A = [[-1. -1.]\n",
      " [ 1.  0.]]\n",
      "\n",
      "B = [[-1.]\n",
      " [ 0.]]\n",
      "\n",
      "C = [[ 0. -1.]]\n",
      "\n",
      "D = [[0.]]\n",
      "\n",
      "\n",
      "     1\n",
      "-----------\n",
      "s^2 + s + 1\n",
      "\n"
     ]
    }
   ],
   "source": [
    "P = tf( [0, 1], [1, 1, 1])\n",
    "\n",
    "Pss = tf2ss(P) # 伝達関数モデルから状態空間モデルへの変換\n",
    "print(Pss)\n",
    "Ptf = ss2tf(Pss) # 状態空間モデルから伝達関数モデルへの変換\n",
    "print(Ptf)"
   ]
  },
  {
   "cell_type": "markdown",
   "metadata": {},
   "source": [
    "### 可制御正準形"
   ]
  },
  {
   "cell_type": "code",
   "execution_count": 25,
   "metadata": {},
   "outputs": [
    {
     "name": "stdout",
     "output_type": "stream",
     "text": [
      "A = [[1 2 3]\n",
      " [3 2 1]\n",
      " [4 5 0]]\n",
      "\n",
      "B = [[1]\n",
      " [0]\n",
      " [1]]\n",
      "\n",
      "C = [[0 2 1]]\n",
      "\n",
      "D = [[0]]\n",
      "\n",
      "------------\n",
      "A = [[ 3. 21. 24.]\n",
      " [ 1.  0.  0.]\n",
      " [ 0.  1.  0.]]\n",
      "\n",
      "B = [[1.]\n",
      " [0.]\n",
      " [0.]]\n",
      "\n",
      "C = [[ 1.  9. 27.]]\n",
      "\n",
      "D = [[0]]\n",
      "\n"
     ]
    }
   ],
   "source": [
    "from control import canonical_form\n",
    "\n",
    "A = '1 2 3; 3 2 1; 4 5 0'\n",
    "B = '1; 0; 1'\n",
    "C = '0 2 1'\n",
    "D = '0'\n",
    "Pss = ss(A, B, C, D)\n",
    "\n",
    "Pr, T = canonical_form(Pss, form='reachable')\n",
    "print(Pss)\n",
    "print('------------')\n",
    "print(Pr)"
   ]
  },
  {
   "cell_type": "code",
   "execution_count": 26,
   "metadata": {},
   "outputs": [],
   "source": [
    "### 可観測正準形"
   ]
  },
  {
   "cell_type": "code",
   "execution_count": 27,
   "metadata": {},
   "outputs": [
    {
     "name": "stdout",
     "output_type": "stream",
     "text": [
      "A = [[ 3.  1.  0.]\n",
      " [21.  0.  1.]\n",
      " [24.  0.  0.]]\n",
      "\n",
      "B = [[ 1.]\n",
      " [ 9.]\n",
      " [27.]]\n",
      "\n",
      "C = [[1. 0. 0.]]\n",
      "\n",
      "D = [[0]]\n",
      "\n"
     ]
    }
   ],
   "source": [
    "Po, T = canonical_form(Pss, form='observable')\n",
    "print(Po)"
   ]
  },
  {
   "cell_type": "markdown",
   "metadata": {},
   "source": [
    "### プロパー性"
   ]
  },
  {
   "cell_type": "code",
   "execution_count": 28,
   "metadata": {},
   "outputs": [
    {
     "name": "stdout",
     "output_type": "stream",
     "text": [
      "\n",
      "1\n",
      "-\n",
      "1\n",
      "\n"
     ]
    }
   ],
   "source": [
    "S1 = tf([1, 1], [0, 1])\n",
    "S2 = tf([0, 1], [1, 1])\n",
    "\n",
    "S = series(S1, S2)\n",
    "print(S.minreal())"
   ]
  },
  {
   "cell_type": "code",
   "execution_count": 29,
   "metadata": {},
   "outputs": [
    {
     "name": "stdout",
     "output_type": "stream",
     "text": [
      "\n",
      "  1\n",
      "-----\n",
      "s + 1\n",
      "\n"
     ]
    },
    {
     "data": {
      "text/plain": [
       "A = [[-1.]]\n",
       "\n",
       "B = [[1.]]\n",
       "\n",
       "C = [[1.]]\n",
       "\n",
       "D = [[0.]]"
      ]
     },
     "execution_count": 29,
     "metadata": {},
     "output_type": "execute_result"
    }
   ],
   "source": [
    "print(S2)\n",
    "tf2ss(S2)"
   ]
  },
  {
   "cell_type": "code",
   "execution_count": 30,
   "metadata": {},
   "outputs": [
    {
     "name": "stdout",
     "output_type": "stream",
     "text": [
      "\n",
      "s + 1\n",
      "-----\n",
      "  1\n",
      "\n"
     ]
    },
    {
     "data": {
      "text/plain": [
       "A = []\n",
       "\n",
       "B = []\n",
       "\n",
       "C = []\n",
       "\n",
       "D = [[1.]]"
      ]
     },
     "execution_count": 30,
     "metadata": {},
     "output_type": "execute_result"
    }
   ],
   "source": [
    "print(S1)\n",
    "tf2ss(S1)"
   ]
  },
  {
   "cell_type": "markdown",
   "metadata": {},
   "source": [
    "## ラプラス変換"
   ]
  },
  {
   "cell_type": "code",
   "execution_count": 31,
   "metadata": {},
   "outputs": [
    {
     "data": {
      "image/png": "[encoded data removed]",
      "text/latex": [
       "$$\\left ( \\frac{1}{s}, \\quad -\\infty, \\quad 0 < \\Re{\\left(s\\right)}\\right )$$"
      ],
      "text/plain": [
       "⎛1               ⎞\n",
       "⎜─, -∞, 0 < re(s)⎟\n",
       "⎝s               ⎠"
      ]
     },
     "execution_count": 31,
     "metadata": {},
     "output_type": "execute_result"
    }
   ],
   "source": [
    "import sympy as sp\n",
    "s = sp.Symbol('s')\n",
    "t = sp.Symbol('t', positive=True)\n",
    "sp.laplace_transform(1, t, s)"
   ]
  },
  {
   "cell_type": "code",
   "execution_count": 32,
   "metadata": {},
   "outputs": [
    {
     "data": {
      "image/png": "[encoded data removed]",
      "text/latex": [
       "$$\\left ( \\frac{1}{s^{2}}, \\quad -\\infty, \\quad 0 < \\Re{\\left(s\\right)}\\right )$$"
      ],
      "text/plain": [
       "⎛1                ⎞\n",
       "⎜──, -∞, 0 < re(s)⎟\n",
       "⎜ 2               ⎟\n",
       "⎝s                ⎠"
      ]
     },
     "execution_count": 32,
     "metadata": {},
     "output_type": "execute_result"
    }
   ],
   "source": [
    "sp.laplace_transform(t, t, s)"
   ]
  },
  {
   "cell_type": "code",
   "execution_count": 33,
   "metadata": {},
   "outputs": [
    {
     "data": {
      "image/png": "[encoded data removed]",
      "text/latex": [
       "$$\\left ( \\frac{1}{a + s}, \\quad -\\infty, \\quad 0 < \\Re{\\left(s\\right)} \\wedge \\left|{\\arg{\\left (a \\right )}}\\right| < \\frac{\\pi}{2}\\right )$$"
      ],
      "text/plain": [
       "⎛  1                               π⎞\n",
       "⎜─────, -∞, 0 < re(s) ∧ │arg(a)│ < ─⎟\n",
       "⎝a + s                             2⎠"
      ]
     },
     "execution_count": 33,
     "metadata": {},
     "output_type": "execute_result"
    }
   ],
   "source": [
    "a = sp.Symbol('a', real=True)\n",
    "sp.laplace_transform(sp.exp(-a*t), t, s)"
   ]
  },
  {
   "cell_type": "code",
   "execution_count": 34,
   "metadata": {},
   "outputs": [
    {
     "data": {
      "image/png": "[encoded data removed]",
      "text/latex": [
       "$$\\left ( \\frac{w}{s^{2} + w^{2}}, \\quad -\\infty, \\quad 2 \\left|{\\arg{\\left (w \\right )}}\\right| = 0 \\wedge 0 < \\Re{\\left(s\\right)}\\right )$$"
      ],
      "text/plain": [
       "⎛   w                                   ⎞\n",
       "⎜───────, -∞, 2⋅│arg(w)│ = 0 ∧ 0 < re(s)⎟\n",
       "⎜ 2    2                                ⎟\n",
       "⎝s  + w                                 ⎠"
      ]
     },
     "execution_count": 34,
     "metadata": {},
     "output_type": "execute_result"
    }
   ],
   "source": [
    "w = sp.Symbol('w', real=True)\n",
    "sp.laplace_transform(sp.sin(w*t), t, s)"
   ]
  },
  {
   "cell_type": "code",
   "execution_count": 35,
   "metadata": {},
   "outputs": [
    {
     "data": {
      "image/png": "[encoded data removed]",
      "text/latex": [
       "$$\\left ( \\frac{s}{s^{2} + w^{2}}, \\quad -\\infty, \\quad 2 \\left|{\\arg{\\left (w \\right )}}\\right| = 0 \\wedge 0 < \\Re{\\left(s\\right)}\\right )$$"
      ],
      "text/plain": [
       "⎛   s                                   ⎞\n",
       "⎜───────, -∞, 2⋅│arg(w)│ = 0 ∧ 0 < re(s)⎟\n",
       "⎜ 2    2                                ⎟\n",
       "⎝s  + w                                 ⎠"
      ]
     },
     "execution_count": 35,
     "metadata": {},
     "output_type": "execute_result"
    }
   ],
   "source": [
    "sp.laplace_transform(sp.cos(w*t), t, s)"
   ]
  },
  {
   "cell_type": "code",
   "execution_count": 36,
   "metadata": {},
   "outputs": [
    {
     "data": {
      "image/png": "[encoded data removed]",
      "text/latex": [
       "$$\\left ( \\frac{w}{w^{2} + \\left(a + s\\right)^{2}}, \\quad -\\infty, \\quad 2 \\left|{\\arg{\\left (w \\right )}}\\right| = 0 \\wedge \\left|{2 \\arg{\\left (a \\right )} + 2 \\arg{\\left (1 + \\frac{s}{a} \\right )}}\\right| < \\pi\\right )$$"
      ],
      "text/plain": [
       "⎛      w                             │                ⎛    s⎞│    ⎞\n",
       "⎜─────────────, -∞, 2⋅│arg(w)│ = 0 ∧ │2⋅arg(a) + 2⋅arg⎜1 + ─⎟│ < π⎟\n",
       "⎜ 2          2                       │                ⎝    a⎠│    ⎟\n",
       "⎝w  + (a + s)                                                     ⎠"
      ]
     },
     "execution_count": 36,
     "metadata": {},
     "output_type": "execute_result"
    }
   ],
   "source": [
    "sp.laplace_transform(sp.exp(-a*t)*sp.sin(w*t), t, s)"
   ]
  },
  {
   "cell_type": "markdown",
   "metadata": {
    "toc-hr-collapsed": true
   },
   "source": [
    "## 逆ラプラス変換"
   ]
  },
  {
   "cell_type": "code",
   "execution_count": 37,
   "metadata": {},
   "outputs": [
    {
     "data": {
      "image/png": "[encoded data removed]",
      "text/latex": [
       "$$1$$"
      ],
      "text/plain": [
       "1"
      ]
     },
     "execution_count": 37,
     "metadata": {},
     "output_type": "execute_result"
    }
   ],
   "source": [
    "sp.inverse_laplace_transform(1/s, s, t)"
   ]
  },
  {
   "cell_type": "code",
   "execution_count": 38,
   "metadata": {},
   "outputs": [
    {
     "data": {
      "image/png": "[encoded data removed]",
      "text/latex": [
       "$$t$$"
      ],
      "text/plain": [
       "t"
      ]
     },
     "execution_count": 38,
     "metadata": {},
     "output_type": "execute_result"
    }
   ],
   "source": [
    "sp.inverse_laplace_transform(1/s**2, s, t)"
   ]
  },
  {
   "cell_type": "code",
   "execution_count": 39,
   "metadata": {},
   "outputs": [
    {
     "data": {
      "image/png": "[encoded data removed]",
      "text/latex": [
       "$$e^{- a t}$$"
      ],
      "text/plain": [
       " -a⋅t\n",
       "ℯ    "
      ]
     },
     "execution_count": 39,
     "metadata": {},
     "output_type": "execute_result"
    }
   ],
   "source": [
    "sp.inverse_laplace_transform(1/(s+a), s, t)"
   ]
  },
  {
   "cell_type": "code",
   "execution_count": 40,
   "metadata": {},
   "outputs": [
    {
     "data": {
      "image/png": "[encoded data removed]",
      "text/latex": [
       "$$\\sin{\\left (t w \\right )}$$"
      ],
      "text/plain": [
       "sin(t⋅w)"
      ]
     },
     "execution_count": 40,
     "metadata": {},
     "output_type": "execute_result"
    }
   ],
   "source": [
    "sp.inverse_laplace_transform(w/(s**2+w**2), s, t)"
   ]
  },
  {
   "cell_type": "code",
   "execution_count": 41,
   "metadata": {},
   "outputs": [
    {
     "data": {
      "image/png": "[encoded data removed]",
      "text/latex": [
       "$$\\cos{\\left (t w \\right )}$$"
      ],
      "text/plain": [
       "cos(t⋅w)"
      ]
     },
     "execution_count": 41,
     "metadata": {},
     "output_type": "execute_result"
    }
   ],
   "source": [
    "sp.inverse_laplace_transform(s/(s**2+w**2), s, t)"
   ]
  },
  {
   "cell_type": "code",
   "execution_count": 42,
   "metadata": {},
   "outputs": [
    {
     "data": {
      "image/png": "[encoded data removed]",
      "text/latex": [
       "$$e^{- a t} \\sin{\\left (t w \\right )}$$"
      ],
      "text/plain": [
       " -a⋅t         \n",
       "ℯ    ⋅sin(t⋅w)"
      ]
     },
     "execution_count": 42,
     "metadata": {},
     "output_type": "execute_result"
    }
   ],
   "source": [
    "sp.inverse_laplace_transform(w/((s+a)**2+w**2), s, t)"
   ]
  }
 ],
 "metadata": {
  "kernelspec": {
   "display_name": "Python 3",
   "language": "python",
   "name": "python3"
  },
  "language_info": {
   "codemirror_mode": {
    "name": "ipython",
    "version": 3
   },
   "file_extension": ".py",
   "mimetype": "text/x-python",
   "name": "python",
   "nbconvert_exporter": "python",
   "pygments_lexer": "ipython3",
   "version": "3.6.8"
  }
 },
 "nbformat": 4,
 "nbformat_minor": 2
}
